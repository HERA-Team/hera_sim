{
 "cells": [
  {
   "cell_type": "markdown",
   "metadata": {},
   "source": [
    "# mkgains.py: What is it?\n",
    "This script allows you to create fake gain calibrations for any UVData-supported data file.\n",
    "- It copies over all the required data to create these fake gains\n",
    "- It applies a boxcar filter over time\n",
    "- It applies a low pass filter over frequency\n",
    "- It does these filters in either Real or Fourier space (Your choice)"
   ]
  },
  {
   "cell_type": "code",
   "execution_count": 1,
   "metadata": {},
   "outputs": [
    {
     "name": "stdout",
     "output_type": "stream",
     "text": [
      "read_miriad used to read data\n",
      "calfits file written to '/home/champ8/Desktop/Brown/zen.2458107.33430.xx.HH.uvOCR.cal'\n"
     ]
    }
   ],
   "source": [
    "%%bash\n",
    "./mkgains.py ../zen.2458107.33430.xx.HH.uvOCR -f 10000 -t 30 -a 2 -p 3 -j -g"
   ]
  },
  {
   "cell_type": "markdown",
   "metadata": {},
   "source": [
    "### Flags:\n",
    "- -f {--frequency}: Specifies the frequency range used for the low pass filter in Hertz. This means that all gains at or above the highest frequency minus this specified frequency become 0\n",
    "- -t {--time}: Specifies the time range used for the boxcar in seconds. The boxcar used for this convolution would be of a size equal to the number of integrations that closely represents the time given.\n",
    "- -a {--ampstdev}: Sepcifies the standard deviation used to generate the amplitude of the gains\n",
    "- -p {--phasestdev}: Specifies the standard deviation used to generate the phase of the gains\n",
    "- -j {--timefourier}: This flag modifies the time filter so that it is done in Fourier space instead of real space<sup>*</sup>\n",
    "- -g {--freqfourier}: This flag modifies the frequency filter so that it is done if Fourer space insted of real space<sup>*</sup>\n",
    "\n",
    "<sup>*</sup> Optional"
   ]
  },
  {
   "cell_type": "code",
   "execution_count": null,
   "metadata": {},
   "outputs": [],
   "source": []
  }
 ],
 "metadata": {
  "kernelspec": {
   "display_name": "Python 2",
   "language": "python",
   "name": "python2"
  },
  "language_info": {
   "codemirror_mode": {
    "name": "ipython",
    "version": 2
   },
   "file_extension": ".py",
   "mimetype": "text/x-python",
   "name": "python",
   "nbconvert_exporter": "python",
   "pygments_lexer": "ipython2",
   "version": "2.7.15"
  }
 },
 "nbformat": 4,
 "nbformat_minor": 2
}
