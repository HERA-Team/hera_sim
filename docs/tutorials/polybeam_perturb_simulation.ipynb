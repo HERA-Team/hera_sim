{
 "cells": [
  {
   "cell_type": "code",
   "execution_count": 1,
   "metadata": {},
   "outputs": [
    {
     "name": "stderr",
     "output_type": "stream",
     "text": [
      "/astro/samir/.local/lib/python3.7/site-packages/hera_sim-0.3.0-py3.7.egg/hera_sim/visibilities/__init__.py:22: UserWarning: HealVis failed to import.\n",
      "  warnings.warn(\"HealVis failed to import.\")\n",
      "/astro/samir/.local/lib/python3.7/site-packages/hera_sim-0.3.0-py3.7.egg/hera_sim/visibilities/__init__.py:27: UserWarning: PRISim failed to import.\n",
      "  warnings.warn(\"PRISim failed to import.\")\n",
      "/astro/samir/.local/lib/python3.7/site-packages/hera_sim-0.3.0-py3.7.egg/hera_sim/visibilities/__init__.py:33: UserWarning: VisGPU failed to import.\n",
      "  warnings.warn(\"VisGPU failed to import.\")\n",
      "/astro/samir/.local/lib/python3.7/site-packages/hera_sim-0.3.0-py3.7.egg/hera_sim/__init__.py:36: FutureWarning: \n",
      "In the next major release, all HERA-specific variables will be removed from the codebase. The following variables will need to be accessed through new class-like structures to be introduced in the next major release: \n",
      "\n",
      "noise.HERA_Tsky_mdl\n",
      "noise.HERA_BEAM_POLY\n",
      "sigchain.HERA_NRAO_BANDPASS\n",
      "rfi.HERA_RFI_STATIONS\n",
      "\n",
      "Additionally, the next major release will involve modifications to the package's API, which move toward a regularization of the way in which hera_sim methods are interfaced with; in particular, changes will be made such that the Simulator class is the most intuitive way of interfacing with the hera_sim package features.\n",
      "  FutureWarning)\n"
     ]
    }
   ],
   "source": [
    "from hera_sim.visibilities import VisCPU, conversions#, HealVis#, VisGPU#, PRISim\n",
    "from hera_sim import io\n",
    "import numpy as np\n",
    "import healpy\n",
    "import matplotlib.pyplot as plt\n",
    "import itertools\n",
    "import copy\n",
    "from pyuvsim.analyticbeam import AnalyticBeam\n",
    "from pyuvdata import UVBeam\n",
    "import uvtools\n",
    "from multiprocessing import Pool\n",
    "import emcee\n",
    "import corner\n",
    "from beams import PolyBeam\n",
    "#import healvis as HEALVIS"
   ]
  },
  {
   "cell_type": "code",
   "execution_count": 2,
   "metadata": {},
   "outputs": [],
   "source": [
    "dist = 14.6\n",
    "ants = {}\n",
    "\n",
    "for i in range(0, 4):\n",
    "        ants.update([(i, (-3.*dist/2 + i*14.6, 0., 0.))])   \n",
    "for i in range(4, 7):\n",
    "        ants.update([(i, (-2.*dist/2 + (i-4)*14.6, -1.* np.sqrt(3) * dist/2, 0.))])   \n",
    "for i in range(7, 10):\n",
    "        ants.update([(i, (-2.*dist/2 + (i-7)*14.6, +1.* np.sqrt(3) * dist/2, 0.))])"
   ]
  },
  {
   "cell_type": "code",
   "execution_count": 3,
   "metadata": {},
   "outputs": [
    {
     "data": {
      "text/plain": [
       "Text(0, 0.5, 'y in metre')"
      ]
     },
     "execution_count": 3,
     "metadata": {},
     "output_type": "execute_result"
    },
    {
     "data": {
      "image/png": "[encoded data removed]",
      "text/plain": [
       "<Figure size 432x288 with 1 Axes>"
      ]
     },
     "metadata": {
      "needs_background": "light"
     },
     "output_type": "display_data"
    }
   ],
   "source": [
    "antscord = list(ants.values())[:]\n",
    "antscord = np.array(antscord)\n",
    "\n",
    "plt.scatter(antscord[:,0],antscord[:,1])\n",
    "plt.axis('equal')\n",
    "plt.title('Antenna layout')\n",
    "plt.xlabel('x in metre')\n",
    "plt.ylabel('y in metre')"
   ]
  },
  {
   "cell_type": "code",
   "execution_count": 4,
   "metadata": {},
   "outputs": [],
   "source": [
    "#nfreqs = 60\n",
    "nfreqs = 20\n",
    "def myuvdata(ntimes=50, **kwargs): #160\n",
    "    \n",
    "    return io.empty_uvdata(\n",
    "        nfreq = nfreqs,\n",
    "        start_freq = 1.e8,\n",
    "        channel_width = 0.2e8 / nfreqs,\n",
    "        start_time=2458902.33333,\n",
    "        integration_time = 40.,\n",
    "        ntimes= ntimes,\n",
    "        ants = ants,\n",
    "        **kwargs\n",
    "    )\n",
    "uvdata = myuvdata()"
   ]
  },
  {
   "cell_type": "code",
   "execution_count": 5,
   "metadata": {},
   "outputs": [
    {
     "data": {
      "text/plain": [
       "array([[1.00e+08, 1.01e+08, 1.02e+08, 1.03e+08, 1.04e+08, 1.05e+08,\n",
       "        1.06e+08, 1.07e+08, 1.08e+08, 1.09e+08, 1.10e+08, 1.11e+08,\n",
       "        1.12e+08, 1.13e+08, 1.14e+08, 1.15e+08, 1.16e+08, 1.17e+08,\n",
       "        1.18e+08, 1.19e+08]])"
      ]
     },
     "execution_count": 5,
     "metadata": {},
     "output_type": "execute_result"
    }
   ],
   "source": [
    "uvdata.freq_array"
   ]
  },
  {
   "cell_type": "code",
   "execution_count": 6,
   "metadata": {},
   "outputs": [],
   "source": [
    "aa = np.genfromtxt('gleamegc.dat',usecols=(10,12,77,-5))\n",
    "bb = aa[ (aa[:,2] >= 1.) & np.isfinite(aa[:,3])] # Fluxes more than 1 Jy"
   ]
  },
  {
   "cell_type": "code",
   "execution_count": 7,
   "metadata": {},
   "outputs": [
    {
     "data": {
      "text/plain": [
       "(28739, 2)"
      ]
     },
     "execution_count": 7,
     "metadata": {},
     "output_type": "execute_result"
    }
   ],
   "source": [
    "ra_dec = np.deg2rad(bb[:,0:2])\n",
    "ra_dec.shape"
   ]
  },
  {
   "cell_type": "code",
   "execution_count": 8,
   "metadata": {
    "scrolled": true
   },
   "outputs": [
    {
     "data": {
      "text/plain": [
       "(20, 28739)"
      ]
     },
     "execution_count": 8,
     "metadata": {},
     "output_type": "execute_result"
    }
   ],
   "source": [
    "freqs = np.unique(uvdata.freq_array)\n",
    "freq0 = 1.e8\n",
    "\n",
    "flux = (freqs[:,np.newaxis]/freq0)**bb[:,3].T*bb[:,2].T\n",
    "flux.shape"
   ]
  },
  {
   "cell_type": "code",
   "execution_count": 9,
   "metadata": {},
   "outputs": [],
   "source": [
    "# Best fit coeffcients for Chebyshev polynomials\n",
    "coeff = np.array([ 2.35088101e-01, -4.20162599e-01,  2.99189140e-01, -1.54189057e-01,\n",
    "        3.38651457e-02,  3.46936067e-02, -4.98838130e-02,  3.23054464e-02,\n",
    "       -7.56006552e-03, -7.24620596e-03,  7.99563166e-03, -2.78125602e-03,\n",
    "       -8.19945835e-04,  1.13791191e-03, -1.24301372e-04, -3.74808752e-04,\n",
    "        1.93997376e-04, -1.72012040e-05])\n",
    "spindex = -0.6975 #by power-law fitting of the width of Fagnoni beam at 100 and 200 MHz"
   ]
  },
  {
   "cell_type": "code",
   "execution_count": 10,
   "metadata": {},
   "outputs": [],
   "source": [
    "from beams import PolyBeam, perturb_PolyBeam"
   ]
  },
  {
   "cell_type": "code",
   "execution_count": 11,
   "metadata": {},
   "outputs": [
    {
     "name": "stderr",
     "output_type": "stream",
     "text": [
      "Covariance of the parameters could not be estimated\n"
     ]
    }
   ],
   "source": [
    "pbmodel = perturb_PolyBeam(beam_coeffs=coeff, spectral_index = spindex, ref_freq=freq0, mainlobe_err=0., sidelobe_err=0.1, Nbeam=10)"
   ]
  },
  {
   "cell_type": "code",
   "execution_count": 12,
   "metadata": {},
   "outputs": [],
   "source": [
    "simulator2 = VisCPU(\n",
    "    uvdata = uvdata,\n",
    "    beams = pbmodel,\n",
    "    beam_ids = [0, 1, 2, 3, 4, 5, 6, 7, 8 , 9],\n",
    "    sky_freqs = freqs,\n",
    "    point_source_pos = ra_dec,\n",
    "    point_source_flux = flux,\n",
    "    real_dtype = np.float64,\n",
    "    complex_dtype = np.complex128,\n",
    "    use_pixel_beams=False,\n",
    "    bm_pix = 20\n",
    ")"
   ]
  },
  {
   "cell_type": "code",
   "execution_count": 14,
   "metadata": {},
   "outputs": [
    {
     "data": {
      "text/plain": [
       "array([[[[ 4.25036938e+01+0.j        ],\n",
       "         [ 4.10532411e+01+0.j        ],\n",
       "         [ 3.96598557e+01+0.j        ],\n",
       "         ...,\n",
       "         [ 2.40865400e+01+0.j        ],\n",
       "         [ 2.33241737e+01+0.j        ],\n",
       "         [ 2.25885162e+01+0.j        ]]],\n",
       "\n",
       "\n",
       "       [[[-1.81074530e+01-8.03786858j],\n",
       "         [-1.75737102e+01-7.45548096j],\n",
       "         [-1.70540042e+01-6.90439074j],\n",
       "         ...,\n",
       "         [-1.07869706e+01-1.43720546j],\n",
       "         [-1.04562627e+01-1.20933664j],\n",
       "         [-1.01344824e+01-0.99375225j]]],\n",
       "\n",
       "\n",
       "       [[[-4.47933859e+00+8.07694269j],\n",
       "         [-3.98930244e+00+8.09077831j],\n",
       "         [-3.50238559e+00+8.07866068j],\n",
       "         ...,\n",
       "         [ 2.16049100e+00+5.30990052j],\n",
       "         [ 2.37342818e+00+5.01530594j],\n",
       "         [ 2.56288278e+00+4.71693448j]]],\n",
       "\n",
       "\n",
       "       ...,\n",
       "\n",
       "\n",
       "       [[[ 6.73098973e+00+0.j        ],\n",
       "         [ 6.30143329e+00+0.j        ],\n",
       "         [ 5.89994991e+00+0.j        ],\n",
       "         ...,\n",
       "         [ 2.23507358e+00+0.j        ],\n",
       "         [ 2.09801952e+00+0.j        ],\n",
       "         [ 1.96981273e+00+0.j        ]]],\n",
       "\n",
       "\n",
       "       [[[-1.10284260e-01-1.70710519j],\n",
       "         [ 6.37426751e-03-1.66718305j],\n",
       "         [ 1.08920130e-01-1.62366914j],\n",
       "         ...,\n",
       "         [ 6.18782224e-01-0.80390801j],\n",
       "         [ 6.15038121e-01-0.75102141j],\n",
       "         [ 6.09190575e-01-0.69946073j]]],\n",
       "\n",
       "\n",
       "       [[[ 6.73098973e+00+0.j        ],\n",
       "         [ 6.30143329e+00+0.j        ],\n",
       "         [ 5.89994991e+00+0.j        ],\n",
       "         ...,\n",
       "         [ 2.23507358e+00+0.j        ],\n",
       "         [ 2.09801952e+00+0.j        ],\n",
       "         [ 1.96981273e+00+0.j        ]]]])"
      ]
     },
     "execution_count": 14,
     "metadata": {},
     "output_type": "execute_result"
    }
   ],
   "source": [
    "simulator2.simulate()"
   ]
  },
  {
   "cell_type": "code",
   "execution_count": 15,
   "metadata": {},
   "outputs": [],
   "source": [
    "visibility2 = simulator2.uvdata.get_data(1,3)"
   ]
  },
  {
   "cell_type": "code",
   "execution_count": 16,
   "metadata": {},
   "outputs": [
    {
     "data": {
      "image/png": "[encoded data removed]",
      "text/plain": [
       "<Figure size 432x288 with 4 Axes>"
      ]
     },
     "metadata": {
      "needs_background": "light"
     },
     "output_type": "display_data"
    }
   ],
   "source": [
    "plt.figure()\n",
    "plt.subplot(211); uvtools.plot.waterfall(visibility2, mode='abs'); plt.colorbar()\n",
    "plt.subplot(212); uvtools.plot.waterfall(visibility2, mode='phs'); plt.colorbar()\n",
    "plt.show()"
   ]
  },
  {
   "cell_type": "code",
   "execution_count": null,
   "metadata": {},
   "outputs": [],
   "source": []
  }
 ],
 "metadata": {
  "kernelspec": {
   "display_name": "Python 3",
   "language": "python",
   "name": "python3"
  },
  "language_info": {
   "codemirror_mode": {
    "name": "ipython",
    "version": 3
   },
   "file_extension": ".py",
   "mimetype": "text/x-python",
   "name": "python",
   "nbconvert_exporter": "python",
   "pygments_lexer": "ipython3",
   "version": "3.7.3"
  }
 },
 "nbformat": 4,
 "nbformat_minor": 2
}
