{
 "cells": [
  {
   "cell_type": "markdown",
   "id": "d049a3ad",
   "metadata": {},
   "source": [
    "# Example End-to-End Simulation"
   ]
  },
  {
   "cell_type": "markdown",
   "id": "6cda6f08",
   "metadata": {},
   "source": [
    "This notebook provides a brief example of how one could run an end-to-end simulation using the tools available in `hera_sim`. For further details on how to simulate visibilities, please refer to the visibility simulator tutorial. For further details on applying systematics, please refer to the `Simulator` tutorial."
   ]
  },
  {
   "cell_type": "markdown",
   "id": "acb81386",
   "metadata": {},
   "source": [
    "## Imports"
   ]
  },
  {
   "cell_type": "code",
   "execution_count": 1,
   "id": "dc24f607",
   "metadata": {},
   "outputs": [
    {
     "name": "stderr",
     "output_type": "stream",
     "text": [
      "basis_vector_type was not defined, defaulting to azimuth and zenith_angle.\n",
      "2025-05-02 16:15:09,468\tINFO util.py:154 -- Missing packages: ['ipywidgets']. Run `pip install -U ipywidgets`, then restart the notebook server for rich notebook output.\n"
     ]
    }
   ],
   "source": [
    "from pathlib import Path\n",
    "\n",
    "import matplotlib.pyplot as plt\n",
    "import matvis\n",
    "import numpy as np\n",
    "import pyradiosky\n",
    "import pyuvdata\n",
    "import pyuvsim\n",
    "import uvtools\n",
    "from astropy import constants, units\n",
    "from astropy.coordinates import Latitude, Longitude\n",
    "\n",
    "import hera_sim\n",
    "from hera_sim import DATA_PATH, Simulator\n",
    "from hera_sim.visibilities import MatVis, ModelData, VisibilitySimulation"
   ]
  },
  {
   "cell_type": "code",
   "execution_count": 2,
   "id": "fdf2186b",
   "metadata": {},
   "outputs": [
    {
     "name": "stdout",
     "output_type": "stream",
     "text": [
      "\n",
      "Using the following software versions:\n",
      "    hera_sim  : 4.3.2.dev40+g9c2ff93.d20250502\n",
      "    pyuvdata  : 3.2.0\n",
      "    pyuvsim   : 1.4.0\n",
      "    pyradiosky: 1.0.1\n",
      "    matvis    : 1.3.0\n",
      "    \n"
     ]
    }
   ],
   "source": [
    "print(\n",
    "    f\"\"\"\n",
    "Using the following software versions:\n",
    "    hera_sim  : {hera_sim.__version__}\n",
    "    pyuvdata  : {pyuvdata.__version__}\n",
    "    pyuvsim   : {pyuvsim.__version__}\n",
    "    pyradiosky: {pyradiosky.__version__}\n",
    "    matvis    : {matvis.__version__}\n",
    "    \"\"\"\n",
    ")"
   ]
  },
  {
   "cell_type": "markdown",
   "id": "1b706e8f",
   "metadata": {},
   "source": [
    "## Simulating Visibilities"
   ]
  },
  {
   "cell_type": "markdown",
   "id": "57c69512",
   "metadata": {},
   "source": [
    "Visibilities can be simulated using any of the simulation packages that `hera_sim` has wrapped. Simulators that have been wrapped by `hera_sim` all have the ability to interpret `pyuvsim`-style configuration files and store the simulated data in `UVData` objects under the hood. The currently supported simulation packages include `pyuvsim`, `matvis` and `fftvis`. Each simulator has its own advantages and disadvantages&mdash;we encourage you to experiment with various simulators. If you would like to see another visibility simulator wrapped by `hera_sim`, then please file an issue making a feature request."
   ]
  },
  {
   "cell_type": "code",
   "execution_count": 3,
   "id": "1da185f0",
   "metadata": {},
   "outputs": [],
   "source": [
    "cfg_path = DATA_PATH / \"tutorials_data/end_to_end\"\n",
    "obsparam_file = cfg_path / \"obsparams.yaml\""
   ]
  },
  {
   "cell_type": "markdown",
   "id": "b5ff6fb2",
   "metadata": {},
   "source": [
    "This tutorial provides a minimal configuration file for reference. It contains a minimal set of information required to initialize the various objects needed for running a simulation. Each configuration file should specify enough information to fully specify the frequencies sampled, the times observed, the telescope parameters, and the sky model parameters. For a more complete description of what may go into a configuration file (and its linked files), please refer to the `pyuvsim` documentation."
   ]
  },
  {
   "cell_type": "code",
   "execution_count": 4,
   "id": "aabb58bc",
   "metadata": {},
   "outputs": [
    {
     "name": "stdout",
     "output_type": "stream",
     "text": [
      "# Specify the frequencies sampled.\n",
      "freq:\n",
      "    Nfreqs: 100\n",
      "    start_freq: 140000000.0\n",
      "    bandwidth: 20000000.0\n",
      "# Specify the times observed.\n",
      "time:\n",
      "    Ntimes: 200\n",
      "    start_time: 2458119.5\n",
      "    integration_time: 10.7\n",
      "# Specify where to find the telescope parameters.\n",
      "telescope:\n",
      "    array_layout: 'array_layout.csv'\n",
      "    telescope_config_name: 'telescope.yaml'\n",
      "# Define the source catalog.\n",
      "sources:\n",
      "    catalog: 'sample_catalog.txt'\n",
      "    spectral_type: 'full'\n",
      "\n"
     ]
    }
   ],
   "source": [
    "# Take a quick look at what's in the configuration file.\n",
    "with open(obsparam_file) as param_file:\n",
    "    print(param_file.read())"
   ]
  },
  {
   "cell_type": "code",
   "execution_count": 5,
   "id": "d295362b",
   "metadata": {},
   "outputs": [],
   "source": [
    "# # Code for making the array_layout.csv file\n",
    "# import csv\n",
    "# fields = [\"Name\", \"Number\", \"BeamID\", \"E\", \"N\", \"U\"]\n",
    "# antpos = hera_sim.antpos.hex_array(2, split_core=False, outriggers=0)\n",
    "# ant_to_beam = np.zeros(len(antpos), dtype=int)\n",
    "# rows = list(\n",
    "#     [f\"ANT{ant}\", ant, ant_to_beam[ant], e, n, u]\n",
    "#     for ant, (e, n, u) in antpos.items()\n",
    "# )\n",
    "#\n",
    "# Write the array to a csv file.\n",
    "# csv_path = cfg_path / \"array_layout.csv\"\n",
    "# with open(csv_path, \"w\") as f:\n",
    "#     writer = csv.writer(f, delimiter=' ')\n",
    "#     writer.writerow(fields)\n",
    "#     writer.writerow([])\n",
    "#     writer.writerows(rows)"
   ]
  },
  {
   "cell_type": "markdown",
   "id": "54d0e608",
   "metadata": {},
   "source": [
    "Here we create an instance of a `ModelData` object from the configuration file using the `from_config` class method. For reference, a `ModelData` object contains both the sky model (as a `pyradiosky.SkyModel` object), the visibility data/metadata (as a `pyuvdata.UVData` object), and the beam information (managed with a collection of `pyuvdata.UVBeam` objects)."
   ]
  },
  {
   "cell_type": "code",
   "execution_count": 6,
   "id": "c723ef60",
   "metadata": {},
   "outputs": [
    {
     "name": "stderr",
     "output_type": "stream",
     "text": [
      "Unknown polarization basis -- assuming linearly polarized (x/y) feeds for Telescope.feed_array.\n",
      "Parameter feed_array, feed_angle, and mount_type must be set together. Unsetting optional parameters.\n",
      "The default baseline conjugation convention has changed. In the past it was 'ant2<ant1', it now defaults to 'ant1<ant2'. You can specify the baseline conjugation convention in `obs_param` by setting the obs_param['ordering']['conjugation_convention'] field. This warning will go away in version 1.5.\n"
     ]
    }
   ],
   "source": [
    "data_model = ModelData.from_config(str(obsparam_file))"
   ]
  },
  {
   "cell_type": "markdown",
   "id": "4f2b101d",
   "metadata": {},
   "source": [
    "The visibility simulation is handled by the `VisibilitySimulation` class, which requires a `ModelData` object and a `VisibilitySimulator` object in order to be initialized. The `VisibilitySimulator` handles the actual process of simulating the visibilities, while the `ModelData` object contains all of the information necessary to run the simulation. Here, we use `vis_cpu` to perform the visibility simulation."
   ]
  },
  {
   "cell_type": "code",
   "execution_count": 7,
   "id": "60b2bbd2",
   "metadata": {},
   "outputs": [],
   "source": [
    "matvis_sim = VisibilitySimulation(data_model=data_model, simulator=MatVis())"
   ]
  },
  {
   "cell_type": "code",
   "execution_count": 8,
   "id": "9af5bc0a",
   "metadata": {},
   "outputs": [
    {
     "ename": "AttributeError",
     "evalue": "'UVData' object has no attribute 'antenna_names'",
     "output_type": "error",
     "traceback": [
      "\u001b[0;31m---------------------------------------------------------------------------\u001b[0m",
      "\u001b[0;31mAttributeError\u001b[0m                            Traceback (most recent call last)",
      "File \u001b[0;32m<timed eval>:2\u001b[0m\n",
      "File \u001b[0;32m~/work/hera/hera_sim/src/hera_sim/visibilities/simulators.py:382\u001b[0m, in \u001b[0;36mVisibilitySimulation.simulate\u001b[0;34m(self)\u001b[0m\n\u001b[1;32m    377\u001b[0m     \u001b[38;5;28mself\u001b[39m\u001b[38;5;241m.\u001b[39mdata_model\u001b[38;5;241m.\u001b[39muvdata\u001b[38;5;241m.\u001b[39mtelescope\u001b[38;5;241m.\u001b[39mantenna_positions \u001b[38;5;241m=\u001b[39m np\u001b[38;5;241m.\u001b[39marray(\n\u001b[1;32m    378\u001b[0m         \u001b[38;5;28mlist\u001b[39m(new_antpos\u001b[38;5;241m.\u001b[39mvalues())\n\u001b[1;32m    379\u001b[0m     )\n\u001b[1;32m    381\u001b[0m \u001b[38;5;28mself\u001b[39m\u001b[38;5;241m.\u001b[39msimulator\u001b[38;5;241m.\u001b[39mcompress_data_model(\u001b[38;5;28mself\u001b[39m\u001b[38;5;241m.\u001b[39mdata_model)\n\u001b[0;32m--> 382\u001b[0m vis \u001b[38;5;241m=\u001b[39m \u001b[38;5;28;43mself\u001b[39;49m\u001b[38;5;241;43m.\u001b[39;49m\u001b[43msimulator\u001b[49m\u001b[38;5;241;43m.\u001b[39;49m\u001b[43msimulate\u001b[49m\u001b[43m(\u001b[49m\u001b[38;5;28;43mself\u001b[39;49m\u001b[38;5;241;43m.\u001b[39;49m\u001b[43mdata_model\u001b[49m\u001b[43m)\u001b[49m\n\u001b[1;32m    383\u001b[0m \u001b[38;5;28mself\u001b[39m\u001b[38;5;241m.\u001b[39muvdata\u001b[38;5;241m.\u001b[39mdata_array \u001b[38;5;241m+\u001b[39m\u001b[38;5;241m=\u001b[39m vis\n\u001b[1;32m    384\u001b[0m \u001b[38;5;28mself\u001b[39m\u001b[38;5;241m.\u001b[39m_write_history()\n",
      "File \u001b[0;32m~/work/hera/hera_sim/src/hera_sim/visibilities/matvis.py:237\u001b[0m, in \u001b[0;36mMatVis.simulate\u001b[0;34m(self, data_model)\u001b[0m\n\u001b[1;32m    229\u001b[0m \u001b[38;5;66;03m# The following are antenna positions in the order that they are\u001b[39;00m\n\u001b[1;32m    230\u001b[0m \u001b[38;5;66;03m# in the uvdata.data_array\u001b[39;00m\n\u001b[1;32m    231\u001b[0m active_antpos, ant_list \u001b[38;5;241m=\u001b[39m data_model\u001b[38;5;241m.\u001b[39muvdata\u001b[38;5;241m.\u001b[39mget_enu_data_ants()\n\u001b[1;32m    233\u001b[0m beam_ids \u001b[38;5;241m=\u001b[39m np\u001b[38;5;241m.\u001b[39marray(\n\u001b[1;32m    234\u001b[0m     [\n\u001b[1;32m    235\u001b[0m         data_model\u001b[38;5;241m.\u001b[39mbeam_ids[nm]\n\u001b[1;32m    236\u001b[0m         \u001b[38;5;28;01mfor\u001b[39;00m i, nm \u001b[38;5;129;01min\u001b[39;00m \u001b[38;5;28mzip\u001b[39m(\n\u001b[0;32m--> 237\u001b[0m             data_model\u001b[38;5;241m.\u001b[39muvdata\u001b[38;5;241m.\u001b[39mtelescope\u001b[38;5;241m.\u001b[39mantenna_numbers, \u001b[43mdata_model\u001b[49m\u001b[38;5;241;43m.\u001b[39;49m\u001b[43muvdata\u001b[49m\u001b[38;5;241;43m.\u001b[39;49m\u001b[43mantenna_names\u001b[49m\n\u001b[1;32m    238\u001b[0m         )\n\u001b[1;32m    239\u001b[0m         \u001b[38;5;28;01mif\u001b[39;00m i \u001b[38;5;129;01min\u001b[39;00m ant_list\n\u001b[1;32m    240\u001b[0m     ]\n\u001b[1;32m    241\u001b[0m )\n\u001b[1;32m    243\u001b[0m \u001b[38;5;66;03m# Get all the polarizations required to be simulated.\u001b[39;00m\n\u001b[1;32m    244\u001b[0m req_pols \u001b[38;5;241m=\u001b[39m \u001b[38;5;28mself\u001b[39m\u001b[38;5;241m.\u001b[39m_get_req_pols(\n\u001b[1;32m    245\u001b[0m     data_model\u001b[38;5;241m.\u001b[39muvdata, data_model\u001b[38;5;241m.\u001b[39mbeams[\u001b[38;5;241m0\u001b[39m], polarized\u001b[38;5;241m=\u001b[39mpolarized\n\u001b[1;32m    246\u001b[0m )\n",
      "\u001b[0;31mAttributeError\u001b[0m: 'UVData' object has no attribute 'antenna_names'"
     ]
    }
   ],
   "source": [
    "%%time\n",
    "\n",
    "# Actually simulate the visibilities.\n",
    "matvis_sim.simulate();"
   ]
  },
  {
   "cell_type": "code",
   "execution_count": 9,
   "id": "fa9838a1",
   "metadata": {},
   "outputs": [
    {
     "ename": "ValueError",
     "evalue": "too many values to unpack (expected 2)",
     "output_type": "error",
     "traceback": [
      "\u001b[0;31m---------------------------------------------------------------------------\u001b[0m",
      "\u001b[0;31mValueError\u001b[0m                                Traceback (most recent call last)",
      "Cell \u001b[0;32mIn[9], line 1\u001b[0m\n\u001b[0;32m----> 1\u001b[0m pos, ants \u001b[38;5;241m=\u001b[39m data_model\u001b[38;5;241m.\u001b[39muvdata\u001b[38;5;241m.\u001b[39mtelescope\u001b[38;5;241m.\u001b[39mget_enu_antpos()\n\u001b[1;32m      2\u001b[0m antpos \u001b[38;5;241m=\u001b[39m \u001b[38;5;28mdict\u001b[39m(\u001b[38;5;28mzip\u001b[39m(ants, pos))\n\u001b[1;32m      3\u001b[0m ai, aj \u001b[38;5;241m=\u001b[39m antpair \u001b[38;5;241m=\u001b[39m (\u001b[38;5;241m2\u001b[39m, \u001b[38;5;241m4\u001b[39m)\n",
      "\u001b[0;31mValueError\u001b[0m: too many values to unpack (expected 2)"
     ]
    }
   ],
   "source": [
    "pos, ants = data_model.uvdata.telescope.get_enu_antpos()\n",
    "antpos = dict(zip(ants, pos))\n",
    "ai, aj = antpair = (2, 4)\n",
    "baseline = antpos[aj] - antpos[ai]\n",
    "bl_len_ns = np.linalg.norm(baseline) / constants.c.to(\"m/ns\").value"
   ]
  },
  {
   "cell_type": "code",
   "execution_count": null,
   "id": "725d94a3",
   "metadata": {},
   "outputs": [],
   "source": [
    "plot_kwargs = dict(\n",
    "    antpairpol=(2, 4, \"xx\"),\n",
    "    plot_limits={\"fringe-rate\": (8, -8), \"delay\": (-1200, 1200)},\n",
    "    freq_taper=\"blackman-harris\",\n",
    "    time_taper=\"blackman-harris\",\n",
    "    dynamic_range={\"delay\": 5, \"fringe-rate\": 5},\n",
    "    set_title=f\"{antpair + ('xx',)}\\n\" + r\"$|\\vec{b}|$/c = \" + f\"{bl_len_ns:.2f} ns\",\n",
    ")"
   ]
  },
  {
   "cell_type": "code",
   "execution_count": null,
   "id": "4762970d",
   "metadata": {},
   "outputs": [],
   "source": [
    "# Plot one visibility and its various transforms.\n",
    "fig = uvtools.plot.fourier_transform_waterfalls(\n",
    "    matvis_sim.data_model.uvdata, **plot_kwargs\n",
    ")"
   ]
  },
  {
   "cell_type": "markdown",
   "id": "906552c2",
   "metadata": {},
   "source": [
    "**Figure 1 |** Visibility waterfall, and its various transforms, for an East-West oriented baseline."
   ]
  },
  {
   "cell_type": "markdown",
   "id": "674280fe",
   "metadata": {},
   "source": [
    "## Applying Systematics"
   ]
  },
  {
   "cell_type": "markdown",
   "id": "75535b30",
   "metadata": {},
   "source": [
    "The `hera_sim.Simulator` class provides a simple interface for applying systematic effects to a provided set of data. Here, we use the simulated visibilities from the previous step to create a `Simulator` object and proceed to apply a few different sytematic effects to the simulated data."
   ]
  },
  {
   "cell_type": "code",
   "execution_count": null,
   "id": "e1bfac18",
   "metadata": {},
   "outputs": [],
   "source": [
    "sim = Simulator(data=matvis_sim.data_model.uvdata.copy())"
   ]
  },
  {
   "cell_type": "code",
   "execution_count": null,
   "id": "15472272",
   "metadata": {},
   "outputs": [],
   "source": [
    "# Just so we don't need to specify too many parameters\n",
    "hera_sim.defaults.set(\"h1c\")"
   ]
  },
  {
   "cell_type": "code",
   "execution_count": null,
   "id": "cf6a29b8",
   "metadata": {},
   "outputs": [],
   "source": [
    "systematics = {\n",
    "    \"gains\": {\"seed\": \"once\"},  # Bandpass gains\n",
    "    \"reflections\": {  # Cable reflections\n",
    "        \"amp\": 1e-2,\n",
    "        \"dly\": 250,\n",
    "        \"amp_jitter\": 5e-2,\n",
    "        \"dly_jitter\": 5,\n",
    "        \"seed\": \"once\",\n",
    "    },\n",
    "    \"cross_coupling_spectrum\": {  # Cross-coupling\n",
    "        \"dly_range\": (800, 1000),\n",
    "        \"amp_range\": (-2, -4),\n",
    "        \"amp_jitter\": 1e-2,\n",
    "        \"dly_jitter\": 20,\n",
    "        \"seed\": \"once\",\n",
    "    },\n",
    "}"
   ]
  },
  {
   "cell_type": "markdown",
   "id": "d8f56abc",
   "metadata": {},
   "source": [
    "We can apply all of the systematic effects parametrized above by using the `run_sim` method. This simulates and applies the effects in the provided dictionary in the same order as they appear in the dictionary. If you are worried about the ordering of the dictionary (which should not be a concern for Python 3.7 and later), then you should use an `OrderedDict`."
   ]
  },
  {
   "cell_type": "code",
   "execution_count": null,
   "id": "19a28541",
   "metadata": {},
   "outputs": [],
   "source": [
    "sim.run_sim(**systematics)"
   ]
  },
  {
   "cell_type": "code",
   "execution_count": null,
   "id": "db720748",
   "metadata": {},
   "outputs": [],
   "source": [
    "# Plot the data!\n",
    "fig = uvtools.plot.fourier_transform_waterfalls(sim.data, **plot_kwargs)"
   ]
  },
  {
   "cell_type": "markdown",
   "id": "ee0fa0fb",
   "metadata": {},
   "source": [
    "**Figure 2 |** Simulated visibilities with systematic effects (bandpass gains, cable reflections, and cross-coupling) applied. The effect of the bandpass is most evident in how the absolute scale of the visibilities have changed (compare the colorbar extents here against those in Figure 1). The cable reflections are most apparent in the delay transformed plots and appear as excess power around 250 ns. The cross-coupling shows up in both sets of delay-transformed visibilities, but is only clearly distinguished from cable reflections in fringe-rate versus delay space: this particular model of cross-coupling is a (mostly) non-fringing component at high delay, while the cable reflections produce additional fringing power."
   ]
  }
 ],
 "metadata": {
  "kernelspec": {
   "display_name": ".py311venv",
   "language": "python",
   "name": "python3"
  },
  "language_info": {
   "codemirror_mode": {
    "name": "ipython",
    "version": 3
   },
   "file_extension": ".py",
   "mimetype": "text/x-python",
   "name": "python",
   "nbconvert_exporter": "python",
   "pygments_lexer": "ipython3",
   "version": "3.11.9"
  },
  "toc": {
   "base_numbering": 1,
   "nav_menu": {},
   "number_sections": true,
   "sideBar": true,
   "skip_h1_title": false,
   "title_cell": "Table of Contents",
   "title_sidebar": "Contents",
   "toc_cell": false,
   "toc_position": {},
   "toc_section_display": true,
   "toc_window_display": false
  }
 },
 "nbformat": 4,
 "nbformat_minor": 5
}
