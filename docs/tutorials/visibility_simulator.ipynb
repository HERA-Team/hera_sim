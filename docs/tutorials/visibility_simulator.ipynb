{
 "cells": [
  {
   "cell_type": "markdown",
   "metadata": {},
   "source": [
    "# Visibility Simulator Examples"
   ]
  },
  {
   "cell_type": "markdown",
   "metadata": {},
   "source": [
    "Although ``hera_sim`` is primarily aimed at simulating instrumental effects _on top_ of existing visibility simulations, it also provides a neat interface to several visibility simulators.\n",
    "\n",
    "It does so through the base class ``VisibilitySimulator``, which sets a standard API from which all simulators must derive."
   ]
  },
  {
   "cell_type": "markdown",
   "metadata": {},
   "source": [
    "## VisCPU"
   ]
  },
  {
   "cell_type": "code",
   "execution_count": 1,
   "metadata": {
    "ExecuteTime": {
     "end_time": "2019-08-05T17:56:02.830272Z",
     "start_time": "2019-08-05T17:55:59.893082Z"
    },
    "init_cell": true
   },
   "outputs": [
    {
     "name": "stderr",
     "output_type": "stream",
     "text": [
      "/home/jackson/hera/hera_sim/hera_sim/hera_sim/__init__.py:35: FutureWarning: \n",
      "In the next major release, all HERA-specific variables will be removed from the codebase. The following variables will need to be accessed through new class-like structures to be introduced in the next major release: \n",
      "\n",
      "noise.HERA_Tsky_mdl\n",
      "noise.HERA_BEAM_POLY\n",
      "sigchain.HERA_NRAO_BANDPASS\n",
      "rfi.HERA_RFI_STATIONS\n",
      "\n",
      "Additionally, the next major release will involve modifications to the package's API, which move toward a regularization of the way in which hera_sim methods are interfaced with; in particular, changes will be made such that the Simulator class is the most intuitive way of interfacing with the hera_sim package features.\n",
      "  FutureWarning)\n"
     ]
    }
   ],
   "source": [
    "from hera_sim.visibilities import VisCPU, HealVis#, VisGPU#, PRISim\n",
    "from hera_sim import io\n",
    "import numpy as np\n",
    "import healpy\n",
    "import matplotlib.pyplot as plt\n",
    "import itertools\n",
    "import copy\n",
    "from pyuvsim.analyticbeam import AnalyticBeam\n",
    "\n",
    "import healvis as HEALVIS\n",
    "\n",
    "%matplotlib inline\n",
    "%load_ext autoreload\n",
    "%autoreload 2\n",
    "\n",
    "#### HEALVIS GIVES LONG WARNINGS\n",
    "#import warnings\n",
    "#warnings.filterwarnings(\"ignore\")"
   ]
  },
  {
   "cell_type": "code",
   "execution_count": 2,
   "metadata": {},
   "outputs": [],
   "source": [
    "### np.unique can reorder elements\n",
    "def unique(arr):\n",
    "    arr = np.array(arr)\n",
    "    indices = np.unique(arr, return_index=True)[1]\n",
    "    return np.array([arr.flatten()[i] for i in sorted(indices)])\n",
    "\n",
    "def plot_blts(simulator):\n",
    "    fig, ax = plt.subplots(2, 1, sharex=True, \n",
    "                           subplot_kw={\"ylabel\":\"|Visibility| [Jy]\"}, figsize=(16,8))\n",
    "    \n",
    "    fig.suptitle(type(simulator).__name__, fontweight='bold')\n",
    "    \n",
    "    lw = 2\n",
    "    \n",
    "    for i in simulator.uvdata.antenna_numbers:\n",
    "        auto_ind = simulator.uvdata.antpair2ind((i,i))\n",
    "        #ax[0].plot(unique(simulator.uvdata.lst_array)*12/np.pi, \n",
    "        #   simulator.uvdata.data_array[auto_ind, 0, 0, 0], label=\"ant_{}\".format(i))\n",
    "        \n",
    "        ax[0].plot(np.real(simulator.uvdata.data_array[auto_ind, 0, 0, 0]), label=\"ant_{} real\".format(i), linewidth=lw)\n",
    "        ax[0].plot(np.imag(simulator.uvdata.data_array[auto_ind, 0, 0, 0]), linestyle=\"--\", label=\"ant_{} imag\".format(i), linewidth=lw)\n",
    "\n",
    "        for j in simulator.uvdata.antenna_numbers[(i+1):]:\n",
    "            cross_ind = simulator.uvdata.antpair2ind((i,j))\n",
    "            #ax[1].plot(unique(simulator.uvdata.lst_array)*12/np.pi, simulator.uvdata.data_array[cross_ind, 0, 0, 0], label=\"bl({},{})\".format(i,j))\n",
    "            ax[1].plot(np.real(simulator.uvdata.data_array[cross_ind, 0, 0, 0]), label=\"bl({},{}) real\".format(i,j), linewidth=lw)\n",
    "            ax[1].plot(np.imag(simulator.uvdata.data_array[cross_ind, 0, 0, 0]), linestyle=\"--\", label=\"bl({},{}) imag\".format(i,j), linewidth=lw)\n",
    "            \n",
    "    ax[0].legend()\n",
    "    ax[1].legend()\n",
    "    ax[0].set_title(\"Autocorrelations\")\n",
    "    ax[1].set_title(\"Cross-Correlations\")\n",
    "    ax[1].set_xlabel(\"Observation Number\")\n",
    "\n",
    "def compare_blts(simulator1, simulator2):\n",
    "    fig, ax = plt.subplots(2, 1, sharex=True, \n",
    "                           subplot_kw={\"ylabel\":\"|Visibility| [Jy]\"}, figsize=(16, 8))\n",
    "    \n",
    "    name1 = type(simulator1).__name__\n",
    "    name2 = type(simulator2).__name__\n",
    "    \n",
    "    fig.suptitle(name1 + \" vs \" + name2, fontweight='bold')\n",
    "    \n",
    "    lw=3\n",
    "\n",
    "    for i in simulator1.uvdata.antenna_numbers:\n",
    "        auto_ind = simulator1.uvdata.antpair2ind((i,i))\n",
    "        \n",
    "        ax[0].plot(np.real(simulator1.uvdata.data_array[auto_ind, 0, 0, 0]), label=(\"ant_{} \" + name1).format(i), linewidth=lw)\n",
    "        ax[0].plot(np.real(simulator2.uvdata.data_array[auto_ind, 0, 0, 0]), linestyle=\"--\", label=(\"ant_{} \"+name2).format(i), linewidth=lw)\n",
    "\n",
    "        for j in simulator1.uvdata.antenna_numbers[(i+1):]:\n",
    "            cross_ind = simulator1.uvdata.antpair2ind((i,j))\n",
    "            ax[1].plot(np.real(simulator1.uvdata.data_array[cross_ind, 0, 0, 0]), label=(\"bl({},{}) \" + name1).format(i,j), linewidth=lw)\n",
    "            ax[1].plot(np.real(simulator2.uvdata.data_array[cross_ind, 0, 0, 0]), linestyle=\"--\", label=(\"bl({},{}) \" + name2).format(i,j), linewidth=lw)\n",
    "            \n",
    "    ax[0].legend()\n",
    "    ax[1].legend()\n",
    "    ax[0].set_title(\"Autocorrelations\")\n",
    "    ax[1].set_title(\"Cross-Correlations\")\n",
    "    ax[1].set_xlabel(\"Observation Number\")"
   ]
  },
  {
   "cell_type": "markdown",
   "metadata": {},
   "source": [
    "``VisCPU`` natively deals with diffuse emission, and the ``VisibilitySimulator`` uses ``healpix`` maps to represent such emission:"
   ]
  },
  {
   "cell_type": "code",
   "execution_count": 3,
   "metadata": {
    "ExecuteTime": {
     "end_time": "2019-08-05T17:56:02.934971Z",
     "start_time": "2019-08-05T17:56:02.894416Z"
    },
    "init_cell": true
   },
   "outputs": [],
   "source": [
    "def uniform_sky(nside_base=5, scale=1, nfreqs=5):\n",
    "    NSIDE = 2**nside_base\n",
    "    NPIX = 12 * NSIDE**2 # this is the number of pixels a healpix map has for  given NSIDE\n",
    "\n",
    "    # Create a sky of purely ones, multiply by \"scale\"\n",
    "    return scale * np.ones((nfreqs, NPIX))/NPIX"
   ]
  },
  {
   "cell_type": "markdown",
   "metadata": {},
   "source": [
    "Other than the sky model (we'll revisit this soon), the ``VisibilitySimulator`` requires a ``UVData`` object to specify the observation parameters, as well as a list of ``UVBeam``s to specify the beams for each antenna. This makes it fully consistent with the interface provided by ``pyuvsim``, and many of the methods found in ``pyuvsim`` for creating ``UVData`` objects and ``UVBeam`` objects from YAML specifications can be used here. Indeed, a dictionary of so-called ``obsparams``, or a file-name for an appropriate YAML file, can be passed in lieu of the ``UVData`` and ``UVBeam``. \n",
    "\n",
    "For simplicity, let us simply use the native ``empty_uvdata`` function instead:"
   ]
  },
  {
   "cell_type": "code",
   "execution_count": 4,
   "metadata": {
    "ExecuteTime": {
     "end_time": "2019-08-05T17:56:04.496632Z",
     "start_time": "2019-08-05T17:56:02.937939Z"
    },
    "init_cell": true
   },
   "outputs": [],
   "source": [
    "def myuvdata(ntimes=48, ntel=1, **kwargs):\n",
    "    \n",
    "    # Picking antenna postions in a deterministic way\n",
    "    ants = {}\n",
    "    for i in range(ntel):\n",
    "        ants.update([(i, (-(i % 3), i, i % 4))])\n",
    "      \n",
    "    return io.empty_uvdata(\n",
    "        nfreq = 5,\n",
    "        integration_time = 86164.1/ntimes,\n",
    "        ntimes= ntimes,\n",
    "        ants = ants,\n",
    "        **kwargs\n",
    "    )"
   ]
  },
  {
   "cell_type": "code",
   "execution_count": null,
   "metadata": {},
   "outputs": [],
   "source": [
    "uvdata = myuvdata(ntel=2)\n",
    "print(uvdata.telescope_location)\n",
    "print(uvdata.telescope_location_lat_lon_alt)\n",
    "print(uvdata.telescope_location_lat_lon_alt_degrees)\n",
    "print(uvdata.ant1)"
   ]
  },
  {
   "cell_type": "code",
   "execution_count": null,
   "metadata": {
    "ExecuteTime": {
     "end_time": "2019-08-05T17:30:13.161462Z",
     "start_time": "2019-08-05T17:30:12.896918Z"
    }
   },
   "outputs": [],
   "source": [
    "uvdata = myuvdata(ntel=2)\n",
    "freqs = unique(uvdata.freq_array)\n",
    "\n",
    "simulator = VisCPU(\n",
    "    uvdata=uvdata,\n",
    "    sky_freqs=freqs,\n",
    "    sky_intensity=uniform_sky(5),\n",
    "    real_dtype=np.float64,\n",
    "    complex_dtype=np.complex128, \n",
    ")"
   ]
  },
  {
   "cell_type": "code",
   "execution_count": null,
   "metadata": {
    "ExecuteTime": {
     "end_time": "2019-06-06T23:32:21.459877Z",
     "start_time": "2019-06-06T23:32:18.460460Z"
    }
   },
   "outputs": [],
   "source": [
    "vis = simulator.simulate()\n",
    "plot_blts(simulator)"
   ]
  },
  {
   "cell_type": "markdown",
   "metadata": {},
   "source": [
    "Test whether increasing the number of pixels changes much"
   ]
  },
  {
   "cell_type": "code",
   "execution_count": null,
   "metadata": {
    "ExecuteTime": {
     "end_time": "2019-06-06T23:40:06.211194Z",
     "start_time": "2019-06-06T23:40:05.931936Z"
    }
   },
   "outputs": [],
   "source": [
    "uvdata = myuvdata(ntel=2)\n",
    "simulator = VisCPU(\n",
    "    uvdata=uvdata,\n",
    "    sky_freqs=freqs,\n",
    "    sky_intensity=uniform_sky(6),\n",
    "    real_dtype=np.float64,\n",
    "    complex_dtype=np.complex128, \n",
    ")"
   ]
  },
  {
   "cell_type": "code",
   "execution_count": null,
   "metadata": {
    "ExecuteTime": {
     "end_time": "2019-06-06T23:40:13.746412Z",
     "start_time": "2019-06-06T23:40:06.728462Z"
    }
   },
   "outputs": [],
   "source": [
    "vis = simulator.simulate()\n",
    "plot_blts(simulator)"
   ]
  },
  {
   "cell_type": "code",
   "execution_count": null,
   "metadata": {},
   "outputs": [],
   "source": []
  },
  {
   "cell_type": "markdown",
   "metadata": {},
   "source": [
    "### Point Sources"
   ]
  },
  {
   "cell_type": "code",
   "execution_count": null,
   "metadata": {
    "ExecuteTime": {
     "end_time": "2019-08-05T17:56:04.851918Z",
     "start_time": "2019-08-05T17:56:04.544575Z"
    }
   },
   "outputs": [],
   "source": [
    "uvdata1 = myuvdata(ntel=3, start_jd=2458119.5)\n",
    "freqs = unique(uvdata1.freq_array)\n",
    "\n",
    "point_source_pos1 = np.array([(0, uvdata1.telescope_lat_lon_alt[0])]) # ra, dec)\n",
    "point_source_flx1 = np.array([[1.0]*len(freqs)]).T\n",
    "\n",
    "uvdata2 = myuvdata(ntel=3, start_jd=2458119.0)\n",
    "point_source_pos1 = np.array([(0, uvdata2.telescope_lat_lon_alt[0])]) # ra, dec)\n",
    "point_source_flx1 = np.array([[1.0]*len(freqs)]).T\n"
   ]
  },
  {
   "cell_type": "code",
   "execution_count": null,
   "metadata": {
    "ExecuteTime": {
     "end_time": "2019-08-05T17:56:05.579855Z",
     "start_time": "2019-08-05T17:56:05.400082Z"
    }
   },
   "outputs": [],
   "source": [
    "simulator = VisCPU(\n",
    "    uvdata = myuvdata(ntel=3, start_jd = 2458119.5,),\n",
    "    point_source_pos=point_source_pos1,\n",
    "    point_source_flux = point_source_flx1,\n",
    "    sky_freqs = freqs,\n",
    ")\n",
    "\n",
    "simulator_jd = VisCPU(\n",
    "    uvdata = myuvdata(ntel=3, start_jd = 2458119.0,),\n",
    "    point_source_pos=point_source_pos1,\n",
    "    point_source_flux = point_source_flx1,\n",
    "    sky_freqs = freqs,\n",
    ")"
   ]
  },
  {
   "cell_type": "code",
   "execution_count": null,
   "metadata": {
    "ExecuteTime": {
     "end_time": "2019-08-05T17:56:11.555502Z",
     "start_time": "2019-08-05T17:56:10.698267Z"
    }
   },
   "outputs": [],
   "source": [
    "vis = simulator.simulate()\n",
    "plot_blts(simulator)\n",
    "\n",
    "vis_jd = simulator_jd.simulate()\n",
    "plot_blts(simulator_jd)"
   ]
  },
  {
   "cell_type": "code",
   "execution_count": null,
   "metadata": {
    "ExecuteTime": {
     "end_time": "2019-08-05T17:45:44.998891Z",
     "start_time": "2019-08-05T17:45:44.967794Z"
    }
   },
   "outputs": [],
   "source": [
    "print \"Eq2Top for .5: \", simulator.get_eq2tops()[:, 0, 0]\n",
    "print \"Eq2Top for .0: \", simulator_jd.get_eq2tops()[:, 0, 0]\n"
   ]
  },
  {
   "cell_type": "code",
   "execution_count": null,
   "metadata": {
    "ExecuteTime": {
     "end_time": "2019-08-05T17:46:22.625182Z",
     "start_time": "2019-08-05T17:46:22.595941Z"
    }
   },
   "outputs": [],
   "source": [
    "print np.unique(simulator.uvdata.lst_array)\n",
    "print np.unique(simulator_jd.uvdata.lst_array)"
   ]
  },
  {
   "cell_type": "code",
   "execution_count": null,
   "metadata": {
    "ExecuteTime": {
     "end_time": "2019-08-05T17:39:42.962735Z",
     "start_time": "2019-08-05T17:39:42.936352Z"
    }
   },
   "outputs": [],
   "source": [
    "simulator.uvdata.lst_array"
   ]
  },
  {
   "cell_type": "code",
   "execution_count": null,
   "metadata": {
    "ExecuteTime": {
     "end_time": "2019-08-05T17:34:54.800486Z",
     "start_time": "2019-08-05T17:34:54.758941Z"
    }
   },
   "outputs": [],
   "source": [
    "simulator.get_eq2tops()"
   ]
  },
  {
   "cell_type": "code",
   "execution_count": null,
   "metadata": {
    "ExecuteTime": {
     "end_time": "2019-05-22T20:39:00.797656Z",
     "start_time": "2019-05-22T20:39:00.176968Z"
    }
   },
   "outputs": [],
   "source": [
    "point_source_pos = np.array([ # ra, dec\n",
    "    (0, myuvdata().telescope_lat_lon_alt[0]),\n",
    "    (0.1, myuvdata().telescope_lat_lon_alt[0])\n",
    "]) \n",
    "point_source_flx = np.array([[1.0, 1.0]]*len(freqs))"
   ]
  },
  {
   "cell_type": "code",
   "execution_count": null,
   "metadata": {
    "ExecuteTime": {
     "end_time": "2019-05-22T20:39:02.075473Z",
     "start_time": "2019-05-22T20:39:01.728331Z"
    }
   },
   "outputs": [],
   "source": [
    "simulator = VisCPU(\n",
    "    uvdata = myuvdata(),\n",
    "    point_source_pos=point_source_pos,\n",
    "    point_source_flux = point_source_flx,\n",
    "    sky_freqs = freqs,\n",
    ")"
   ]
  },
  {
   "cell_type": "code",
   "execution_count": null,
   "metadata": {
    "ExecuteTime": {
     "end_time": "2019-05-22T20:39:03.719687Z",
     "start_time": "2019-05-22T20:39:02.857641Z"
    }
   },
   "outputs": [],
   "source": [
    "vis = simulator.simulate()\n",
    "print np.max(np.abs(vis-simulator.uvdata.data_array))\n",
    "\n",
    "\n",
    "plot_blts(simulator)"
   ]
  },
  {
   "cell_type": "markdown",
   "metadata": {},
   "source": [
    "In this, the beam was not set, and therefore the beam was assumed to be unity everywhere above the horizon. The beam can be set as a series of healpix maps, one for each antenna. \n",
    "An extra list of ``beam_ids`` specifies which of the beams each antenna uses. So, we can create something like a Gaussian beam:"
   ]
  },
  {
   "cell_type": "code",
   "execution_count": null,
   "metadata": {
    "ExecuteTime": {
     "end_time": "2019-05-14T22:20:20.883112Z",
     "start_time": "2019-05-14T22:20:20.634454Z"
    }
   },
   "outputs": [],
   "source": [
    "simulator = VisCPU(\n",
    "    uvdata = myuvdata(),\n",
    "    sky_intensity = uniform_sky(6),\n",
    "    sky_freqs = freqs,\n",
    "    beams = [AnalyticBeam(\"gaussian\", diameter=14)]\n",
    ")"
   ]
  },
  {
   "cell_type": "code",
   "execution_count": null,
   "metadata": {
    "ExecuteTime": {
     "end_time": "2019-05-14T22:20:34.967661Z",
     "start_time": "2019-05-14T22:20:26.331009Z"
    }
   },
   "outputs": [],
   "source": [
    "vis = simulator.simulate()\n",
    "plot_blts(simulator)"
   ]
  },
  {
   "cell_type": "markdown",
   "metadata": {},
   "source": [
    "## HealVis"
   ]
  },
  {
   "cell_type": "markdown",
   "metadata": {},
   "source": [
    "We could also have used healvis for this:"
   ]
  },
  {
   "cell_type": "code",
   "execution_count": null,
   "metadata": {
    "ExecuteTime": {
     "end_time": "2019-05-22T19:31:01.688674Z",
     "start_time": "2019-05-22T19:31:01.330386Z"
    }
   },
   "outputs": [],
   "source": [
    "simulator = HealVis(\n",
    "    uvdata = myuvdata(ntel=3),\n",
    "    sky_freqs = freqs,\n",
    "    sky_intensity = 100*uniform_sky(6),\n",
    ")"
   ]
  },
  {
   "cell_type": "code",
   "execution_count": null,
   "metadata": {
    "ExecuteTime": {
     "end_time": "2019-05-22T19:31:09.177293Z",
     "start_time": "2019-05-22T19:31:02.761163Z"
    }
   },
   "outputs": [],
   "source": [
    "vis = simulator.simulate()"
   ]
  },
  {
   "cell_type": "code",
   "execution_count": null,
   "metadata": {
    "ExecuteTime": {
     "end_time": "2019-05-22T19:31:24.428446Z",
     "start_time": "2019-05-22T19:31:23.918156Z"
    }
   },
   "outputs": [],
   "source": [
    "plot_blts(simulator)\n",
    "fig = plt.gcf()"
   ]
  },
  {
   "cell_type": "code",
   "execution_count": null,
   "metadata": {
    "ExecuteTime": {
     "end_time": "2019-08-05T17:57:28.075735Z",
     "start_time": "2019-08-05T17:57:27.931101Z"
    }
   },
   "outputs": [],
   "source": [
    "simulator = HealVis(\n",
    "    uvdata = myuvdata(ntimes=12, ntel=3),\n",
    "    point_source_pos=point_source_pos,\n",
    "    point_source_flux = point_source_flux,\n",
    "    sky_freqs = freqs,\n",
    ")"
   ]
  },
  {
   "cell_type": "code",
   "execution_count": null,
   "metadata": {
    "ExecuteTime": {
     "end_time": "2019-08-05T17:57:32.402519Z",
     "start_time": "2019-08-05T17:57:28.827536Z"
    }
   },
   "outputs": [],
   "source": [
    "vis = simulator.simulate()\n",
    "plot_blts(simulator)"
   ]
  },
  {
   "cell_type": "markdown",
   "metadata": {},
   "source": [
    "## Comparing VisCPU & HealVis"
   ]
  },
  {
   "cell_type": "markdown",
   "metadata": {},
   "source": [
    "### Airy Beams"
   ]
  },
  {
   "cell_type": "code",
   "execution_count": 8,
   "metadata": {
    "scrolled": false
   },
   "outputs": [
    {
     "name": "stderr",
     "output_type": "stream",
     "text": [
      "invalid value encountered in sqrt\n",
      "\n",
      "Compilation is falling back to object mode WITH looplifting enabled because Function \"make_fringe\" failed type inference due to: Use of unsupported NumPy function 'numpy.einsum' or unsupported use of the function.\n",
      "\n",
      "File \"../../../healvis/healvis/observatory.py\", line 42:\n",
      "def make_fringe(az, za, freq, enu):\n",
      "    <source elided>\n",
      "    uvw = np.outer(enu, 1 / (c_ms / freq))  # In wavelengths\n",
      "    udotl = np.einsum(\"jk,jl->kl\", lmn, uvw)\n",
      "    ^\n",
      "\n",
      "[1] During: typing of get attribute at /home/jackson/hera/hera_sim/healvis/healvis/observatory.py (42)\n",
      "\n",
      "File \"../../../healvis/healvis/observatory.py\", line 42:\n",
      "def make_fringe(az, za, freq, enu):\n",
      "    <source elided>\n",
      "    uvw = np.outer(enu, 1 / (c_ms / freq))  # In wavelengths\n",
      "    udotl = np.einsum(\"jk,jl->kl\", lmn, uvw)\n",
      "    ^\n",
      "\n",
      "Function \"make_fringe\" was compiled in object mode without forceobj=True.\n",
      "\n",
      "File \"../../../healvis/healvis/observatory.py\", line 31:\n",
      "@jit\n",
      "def make_fringe(az, za, freq, enu):\n",
      "^\n",
      "\n",
      "\n",
      "Fall-back from the nopython compilation path to the object mode compilation path has been detected, this is deprecated behaviour.\n",
      "\n",
      "For more information visit http://numba.pydata.org/numba-doc/latest/reference/deprecation.html#deprecation-of-object-mode-fall-back-behaviour-when-using-jit\n",
      "\n",
      "File \"../../../healvis/healvis/observatory.py\", line 31:\n",
      "@jit\n",
      "def make_fringe(az, za, freq, enu):\n",
      "^\n",
      "\n"
     ]
    },
    {
     "name": "stdout",
     "output_type": "stream",
     "text": [
      "Finished: 1, Elapsed 0.03min, Remain 0.025hour, MaxRSS 0.190324GB\n",
      "Finished: 2, Elapsed 0.03min, Remain 0.012hour, MaxRSS 0.205184GB\n",
      "Finished: 3, Elapsed 0.03min, Remain 0.008hour, MaxRSS 0.205184GB\n",
      "Finished: 4, Elapsed 0.03min, Remain 0.006hour, MaxRSS 0.205184GB\n",
      "Finished: 5, Elapsed 0.03min, Remain 0.005hour, MaxRSS 0.205184GB\n",
      "Finished: 6, Elapsed 0.03min, Remain 0.004hour, MaxRSS 0.205184GB\n",
      "Finished: 7, Elapsed 0.03min, Remain 0.003hour, MaxRSS 0.205184GB\n",
      "Finished: 8, Elapsed 0.03min, Remain 0.003hour, MaxRSS 0.205184GB\n",
      "Finished: 9, Elapsed 0.03min, Remain 0.002hour, MaxRSS 0.205184GB\n",
      "Finished: 10, Elapsed 0.03min, Remain 0.002hour, MaxRSS 0.205184GB\n",
      "Finished: 11, Elapsed 0.03min, Remain 0.002hour, MaxRSS 0.205184GB\n",
      "Finished: 12, Elapsed 0.03min, Remain 0.002hour, MaxRSS 0.205184GB\n",
      "Finished: 13, Elapsed 0.03min, Remain 0.001hour, MaxRSS 0.205184GB\n",
      "Finished: 15, Elapsed 0.03min, Remain 0.001hour, MaxRSS 0.205184GB\n",
      "Finished: 14, Elapsed 0.03min, Remain 0.001hour, MaxRSS 0.205184GB\n",
      "Finished: 16, Elapsed 0.03min, Remain 0.001hour, MaxRSS 0.205184GB\n",
      "Finished: 17, Elapsed 0.03min, Remain 0.001hour, MaxRSS 0.205184GB\n",
      "Finished: 18, Elapsed 0.03min, Remain 0.001hour, MaxRSS 0.205184GB\n",
      "Finished: 19, Elapsed 0.03min, Remain 0.001hour, MaxRSS 0.205184GB\n",
      "Finished: 20, Elapsed 0.03min, Remain 0.001hour, MaxRSS 0.205184GB\n",
      "Finished: 21, Elapsed 0.03min, Remain 0.001hour, MaxRSS 0.205184GB\n",
      "Finished: 22, Elapsed 0.03min, Remain 0.001hour, MaxRSS 0.205184GB\n",
      "Finished: 23, Elapsed 0.03min, Remain 0.001hour, MaxRSS 0.205184GB\n",
      "Finished: 24, Elapsed 0.03min, Remain 0.001hour, MaxRSS 0.205184GB\n",
      "Finished: 25, Elapsed 0.03min, Remain 0.001hour, MaxRSS 0.205184GB\n",
      "Finished: 26, Elapsed 0.03min, Remain 0.000hour, MaxRSS 0.205184GB\n",
      "Finished: 27, Elapsed 0.03min, Remain 0.000hour, MaxRSS 0.205184GB\n",
      "Finished: 28, Elapsed 0.03min, Remain 0.000hour, MaxRSS 0.205184GB\n",
      "Finished: 29, Elapsed 0.03min, Remain 0.000hour, MaxRSS 0.205184GB\n",
      "Finished: 30, Elapsed 0.03min, Remain 0.000hour, MaxRSS 0.205184GB\n",
      "Finished: 31, Elapsed 0.03min, Remain 0.000hour, MaxRSS 0.205184GB\n",
      "Finished: 32, Elapsed 0.03min, Remain 0.000hour, MaxRSS 0.205184GB\n",
      "Finished: 33, Elapsed 0.03min, Remain 0.000hour, MaxRSS 0.205184GB\n",
      "Finished: 34, Elapsed 0.03min, Remain 0.000hour, MaxRSS 0.205184GB\n",
      "Finished: 35, Elapsed 0.03min, Remain 0.000hour, MaxRSS 0.205184GB\n",
      "Finished: 36, Elapsed 0.03min, Remain 0.000hour, MaxRSS 0.205184GB\n",
      "Finished: 37, Elapsed 0.03min, Remain 0.000hour, MaxRSS 0.205184GB\n",
      "Finished: 38, Elapsed 0.03min, Remain 0.000hour, MaxRSS 0.205184GB\n",
      "Finished: 39, Elapsed 0.03min, Remain 0.000hour, MaxRSS 0.205184GB\n",
      "Finished: 40, Elapsed 0.03min, Remain 0.000hour, MaxRSS 0.205184GB\n",
      "Finished: 41, Elapsed 0.03min, Remain 0.000hour, MaxRSS 0.205184GB\n",
      "Finished: 42, Elapsed 0.03min, Remain 0.000hour, MaxRSS 0.205184GB\n",
      "Finished: 43, Elapsed 0.03min, Remain 0.000hour, MaxRSS 0.205184GB\n",
      "Finished: 44, Elapsed 0.03min, Remain 0.000hour, MaxRSS 0.205184GB\n",
      "Finished: 45, Elapsed 0.04min, Remain 0.000hour, MaxRSS 0.205184GB\n",
      "Finished: 46, Elapsed 0.04min, Remain 0.000hour, MaxRSS 0.205184GB\n",
      "Finished: 47, Elapsed 0.04min, Remain 0.000hour, MaxRSS 0.205184GB\n",
      "Finished: 48, Elapsed 0.04min, Remain 0.000hour, MaxRSS 0.205184GB\n"
     ]
    },
    {
     "name": "stderr",
     "output_type": "stream",
     "text": [
      "No handles with labels found to put in legend.\n"
     ]
    },
    {
     "data": {
      "image/png": "[encoded data removed]",
      "text/plain": [
       "<Figure size 1152x576 with 2 Axes>"
      ]
     },
     "metadata": {
      "needs_background": "light"
     },
     "output_type": "display_data"
    }
   ],
   "source": [
    "uvdata = myuvdata(ntel=1, ntimes=48)\n",
    "uvdata1 = myuvdata(ntel=1, ntimes=48)\n",
    "freqs = unique(uvdata.freq_array)\n",
    "\n",
    "point_source_pos = np.array([[0, uvdata.telescope_location_lat_lon_alt[0]]])\n",
    "point_source_flux = np.array([[1.0]] * len(freqs))\n",
    "\n",
    "viscpu_sim = VisCPU(\n",
    "    uvdata=uvdata,\n",
    "    sky_freqs=freqs,\n",
    "    point_source_pos=point_source_pos,\n",
    "    point_source_flux=point_source_flux,\n",
    "    nside=2**4,\n",
    "    beams = [AnalyticBeam(\"airy\", diameter=2)],\n",
    "    real_dtype=np.float64,\n",
    "    complex_dtype=np.complex128,\n",
    ")\n",
    "\n",
    "healvis_sim = HealVis(\n",
    "    uvdata=uvdata1,\n",
    "    sky_freqs=freqs,\n",
    "    point_source_pos=point_source_pos,\n",
    "    point_source_flux=point_source_flux,\n",
    "    beams = [AnalyticBeam(\"airy\", diameter=2)],\n",
    "    nside=2 ** 4\n",
    ")\n",
    "\n",
    "viscpu = viscpu_sim.simulate()\n",
    "healvis = healvis_sim.simulate()\n",
    "\n",
    "#plot_blts(viscpu_sim)\n",
    "#plot_blts(healvis_sim)\n",
    "\n",
    "compare_blts(viscpu_sim, healvis_sim)"
   ]
  },
  {
   "cell_type": "code",
   "execution_count": null,
   "metadata": {},
   "outputs": [],
   "source": []
  },
  {
   "cell_type": "code",
   "execution_count": null,
   "metadata": {},
   "outputs": [],
   "source": [
    "uvdata = myuvdata()\n",
    "uvdata1 = myuvdata()\n",
    "freqs = unique(uvdata.freq_array)\n",
    "\n",
    "viscpu_sim = VisCPU(\n",
    "    uvdata=uvdata1,\n",
    "    sky_freqs=freqs,\n",
    "    sky_intensity=uniform_sky(6),\n",
    "    nside=2**4,\n",
    "    real_dtype=np.float64,\n",
    "    complex_dtype=np.complex128, \n",
    ")\n",
    "\n",
    "healvis_sim = HealVis(\n",
    "    uvdata=uvdata,\n",
    "    sky_freqs=freqs,\n",
    "    sky_intensity=uniform_sky(6),\n",
    "    nside=2 ** 4\n",
    ")\n",
    "\n",
    "viscpu = viscpu_sim.simulate()\n",
    "healvis = healvis_sim.simulate()\n",
    "\n",
    "print \"MAX ABSOLUTE DIFF\", np.max(np.abs(viscpu-healvis))\n",
    "\n",
    "plot_blts(viscpu_sim)\n",
    "plot_blts(healvis_sim)\n",
    "plt.figure()"
   ]
  },
  {
   "cell_type": "markdown",
   "metadata": {},
   "source": [
    "### 2 Telescope Uniform Sky"
   ]
  },
  {
   "cell_type": "code",
   "execution_count": null,
   "metadata": {},
   "outputs": [],
   "source": [
    "uvdata = myuvdata(ntel=2)\n",
    "uvdata1 = myuvdata(ntel=2)\n",
    "\n",
    "freqs = np.unique(uvdata.freq_array)\n",
    "\n",
    "viscpu_sim = VisCPU(\n",
    "    uvdata=myuvdata(ntel=3),\n",
    "    sky_freqs=freqs,\n",
    "    sky_intensity=uniform_sky(6),\n",
    "    nside=2**4,\n",
    "    real_dtype=np.float64,\n",
    "    complex_dtype=np.complex128, \n",
    ")\n",
    "\n",
    "healvis_sim = HealVis(\n",
    "    uvdata=myuvdata(ntel=3),\n",
    "    sky_freqs=freqs,\n",
    "    sky_intensity=uniform_sky(6),\n",
    "    nside=2 ** 4\n",
    ")\n",
    "\n",
    "viscpu = viscpu_sim.simulate()\n",
    "healvis = healvis_sim.simulate()\n",
    "\n",
    "viscpu = viscpu_sim.uvdata.data_array\n",
    "healvis = healvis_sim.uvdata.data_array\n",
    "\n",
    "print \"MAX ABSOLUTE DIFF\", np.max(np.abs(np.real(viscpu)-np.real(healvis)))\n",
    "\n",
    "plot_blts(viscpu_sim)\n",
    "plot_blts(healvis_sim)\n",
    "plt.figure()\n",
    "\n",
    "\n",
    "print unique(healvis_sim.uvdata.lst_array)*12/np.pi\n",
    "print np.unique(healvis_sim.uvdata.lst_array)*12/np.pi"
   ]
  },
  {
   "cell_type": "code",
   "execution_count": null,
   "metadata": {},
   "outputs": [],
   "source": [
    "print healvis_sim.uvdata.antpair2ind((0,0))\n",
    "print healvis_sim.uvdata.antpair2ind((0,1))\n",
    "print healvis_sim.uvdata.antpair2ind((1,0))\n",
    "print healvis_sim.uvdata.antpair2ind((1,1))\n",
    "print healvis_sim.uvdata.data_array.shape"
   ]
  },
  {
   "cell_type": "markdown",
   "metadata": {},
   "source": [
    "### ??? 2 Telescope Hemispherical Source ???"
   ]
  },
  {
   "cell_type": "code",
   "execution_count": null,
   "metadata": {},
   "outputs": [],
   "source": [
    "sky_intensity = uniform_sky(6)\n",
    "sky_intensity[:,:sky_intensity.shape[1]/2] = 0.0\n",
    "print sky_intensity\n",
    "\n",
    "uvdata = myuvdata(ntel=2)\n",
    "uvdata1 = myuvdata(ntel=2)\n",
    "\n",
    "freqs = np.unique(uvdata.freq_array)\n",
    "\n",
    "viscpu_sim = VisCPU(\n",
    "    uvdata=uvdata,\n",
    "    sky_freqs=freqs,\n",
    "    sky_intensity=sky_intensity,\n",
    "    nside=2**4,\n",
    "    real_dtype=np.float64,\n",
    "    complex_dtype=np.complex128, \n",
    ")\n",
    "\n",
    "healvis_sim = HealVis(\n",
    "    uvdata=uvdata1,\n",
    "    sky_freqs=freqs,\n",
    "    sky_intensity=sky_intensity,\n",
    "    nside=2 ** 4\n",
    ")\n",
    "\n",
    "viscpu = viscpu_sim.simulate()\n",
    "healvis = healvis_sim.simulate()\n",
    "\n",
    "viscpu = viscpu_sim.uvdata.data_array\n",
    "healvis = healvis_sim.uvdata.data_array\n",
    "\n",
    "print \"MAX ABSOLUTE DIFF\", np.max(np.abs(np.real(viscpu)-np.real(healvis)))\n",
    "\n",
    "plot_blts(viscpu_sim)\n",
    "plot_blts(healvis_sim)\n",
    "plt.figure()"
   ]
  },
  {
   "cell_type": "markdown",
   "metadata": {},
   "source": [
    "### 2 Telescope Point Source at Zenith"
   ]
  },
  {
   "cell_type": "code",
   "execution_count": 11,
   "metadata": {
    "scrolled": false
   },
   "outputs": [
    {
     "name": "stderr",
     "output_type": "stream",
     "text": [
      "\n",
      "Compilation is falling back to object mode WITH looplifting enabled because Function \"make_fringe\" failed type inference due to: Use of unsupported NumPy function 'numpy.einsum' or unsupported use of the function.\n",
      "\n",
      "File \"../../../healvis/healvis/observatory.py\", line 42:\n",
      "def make_fringe(az, za, freq, enu):\n",
      "    <source elided>\n",
      "    uvw = np.outer(enu, 1 / (c_ms / freq))  # In wavelengths\n",
      "    udotl = np.einsum(\"jk,jl->kl\", lmn, uvw)\n",
      "    ^\n",
      "\n",
      "[1] During: typing of get attribute at /home/jackson/hera/hera_sim/healvis/healvis/observatory.py (42)\n",
      "\n",
      "File \"../../../healvis/healvis/observatory.py\", line 42:\n",
      "def make_fringe(az, za, freq, enu):\n",
      "    <source elided>\n",
      "    uvw = np.outer(enu, 1 / (c_ms / freq))  # In wavelengths\n",
      "    udotl = np.einsum(\"jk,jl->kl\", lmn, uvw)\n",
      "    ^\n",
      "\n",
      "Function \"make_fringe\" was compiled in object mode without forceobj=True.\n",
      "\n",
      "File \"../../../healvis/healvis/observatory.py\", line 31:\n",
      "@jit\n",
      "def make_fringe(az, za, freq, enu):\n",
      "^\n",
      "\n",
      "\n",
      "Fall-back from the nopython compilation path to the object mode compilation path has been detected, this is deprecated behaviour.\n",
      "\n",
      "For more information visit http://numba.pydata.org/numba-doc/latest/reference/deprecation.html#deprecation-of-object-mode-fall-back-behaviour-when-using-jit\n",
      "\n",
      "File \"../../../healvis/healvis/observatory.py\", line 31:\n",
      "@jit\n",
      "def make_fringe(az, za, freq, enu):\n",
      "^\n",
      "\n"
     ]
    },
    {
     "name": "stdout",
     "output_type": "stream",
     "text": [
      "Finished: 1, Elapsed 0.03min, Remain 0.025hour, MaxRSS 0.15742GB\n",
      "Finished: 2, Elapsed 0.03min, Remain 0.012hour, MaxRSS 0.204412GB\n",
      "Finished: 3, Elapsed 0.03min, Remain 0.008hour, MaxRSS 0.204412GB\n",
      "Finished: 4, Elapsed 0.03min, Remain 0.006hour, MaxRSS 0.204412GB\n",
      "Finished: 5, Elapsed 0.03min, Remain 0.005hour, MaxRSS 0.204412GB\n",
      "Finished: 6, Elapsed 0.03min, Remain 0.004hour, MaxRSS 0.204412GB\n",
      "Finished: 7, Elapsed 0.03min, Remain 0.003hour, MaxRSS 0.204412GB\n",
      "Finished: 8, Elapsed 0.03min, Remain 0.003hour, MaxRSS 0.204412GB\n",
      "Finished: 9, Elapsed 0.03min, Remain 0.002hour, MaxRSS 0.204412GB\n",
      "Finished: 10, Elapsed 0.03min, Remain 0.002hour, MaxRSS 0.204412GB\n",
      "Finished: 11, Elapsed 0.03min, Remain 0.002hour, MaxRSS 0.204412GB\n",
      "Finished: 12, Elapsed 0.03min, Remain 0.002hour, MaxRSS 0.204412GB\n",
      "Finished: 13, Elapsed 0.03min, Remain 0.001hour, MaxRSS 0.204412GB\n",
      "Finished: 14, Elapsed 0.03min, Remain 0.001hour, MaxRSS 0.204412GB\n",
      "Finished: 15, Elapsed 0.03min, Remain 0.001hour, MaxRSS 0.204412GB\n",
      "Finished: 16, Elapsed 0.03min, Remain 0.001hour, MaxRSS 0.204412GB\n",
      "Finished: 17, Elapsed 0.03min, Remain 0.001hour, MaxRSS 0.204412GB\n",
      "Finished: 18, Elapsed 0.03min, Remain 0.001hour, MaxRSS 0.204412GB\n",
      "Finished: 19, Elapsed 0.03min, Remain 0.001hour, MaxRSS 0.204412GB\n",
      "Finished: 20, Elapsed 0.03min, Remain 0.001hour, MaxRSS 0.204412GB\n",
      "Finished: 21, Elapsed 0.03min, Remain 0.001hour, MaxRSS 0.204412GB\n",
      "Finished: 22, Elapsed 0.03min, Remain 0.001hour, MaxRSS 0.204412GB\n",
      "Finished: 23, Elapsed 0.03min, Remain 0.001hour, MaxRSS 0.204412GB\n",
      "Finished: 24, Elapsed 0.03min, Remain 0.001hour, MaxRSS 0.204412GB\n",
      "Finished: 25, Elapsed 0.03min, Remain 0.001hour, MaxRSS 0.204412GB\n",
      "Finished: 26, Elapsed 0.03min, Remain 0.000hour, MaxRSS 0.204412GB\n",
      "Finished: 27, Elapsed 0.03min, Remain 0.000hour, MaxRSS 0.204412GB\n",
      "Finished: 28, Elapsed 0.03min, Remain 0.000hour, MaxRSS 0.204412GB\n",
      "Finished: 29, Elapsed 0.03min, Remain 0.000hour, MaxRSS 0.204412GB\n",
      "Finished: 30, Elapsed 0.03min, Remain 0.000hour, MaxRSS 0.204412GB\n",
      "Finished: 31, Elapsed 0.03min, Remain 0.000hour, MaxRSS 0.204412GB\n",
      "Finished: 32, Elapsed 0.03min, Remain 0.000hour, MaxRSS 0.204412GB\n",
      "Finished: 33, Elapsed 0.03min, Remain 0.000hour, MaxRSS 0.204412GB\n",
      "Finished: 34, Elapsed 0.03min, Remain 0.000hour, MaxRSS 0.204412GB\n",
      "Finished: 35, Elapsed 0.04min, Remain 0.000hour, MaxRSS 0.204412GB\n",
      "Finished: 36, Elapsed 0.04min, Remain 0.000hour, MaxRSS 0.204412GB\n",
      "Finished: 37, Elapsed 0.04min, Remain 0.000hour, MaxRSS 0.204412GB\n",
      "Finished: 38, Elapsed 0.04min, Remain 0.000hour, MaxRSS 0.204412GB\n",
      "Finished: 39, Elapsed 0.04min, Remain 0.000hour, MaxRSS 0.204412GB\n",
      "Finished: 40, Elapsed 0.04min, Remain 0.000hour, MaxRSS 0.204412GB\n",
      "Finished: 41, Elapsed 0.04min, Remain 0.000hour, MaxRSS 0.204412GB\n",
      "Finished: 42, Elapsed 0.04min, Remain 0.000hour, MaxRSS 0.204412GB\n",
      "Finished: 43, Elapsed 0.04min, Remain 0.000hour, MaxRSS 0.204412GB\n",
      "Finished: 44, Elapsed 0.04min, Remain 0.000hour, MaxRSS 0.204412GB\n",
      "Finished: 45, Elapsed 0.04min, Remain 0.000hour, MaxRSS 0.204412GB\n",
      "Finished: 46, Elapsed 0.04min, Remain 0.000hour, MaxRSS 0.204412GB\n",
      "Finished: 47, Elapsed 0.04min, Remain 0.000hour, MaxRSS 0.204412GB\n",
      "Finished: 48, Elapsed 0.04min, Remain 0.000hour, MaxRSS 0.204412GB\n"
     ]
    },
    {
     "data": {
      "image/png": "[encoded data removed]",
      "text/plain": [
       "<Figure size 1152x576 with 2 Axes>"
      ]
     },
     "metadata": {
      "needs_background": "light"
     },
     "output_type": "display_data"
    }
   ],
   "source": [
    "uvdata = myuvdata(ntel=2)\n",
    "uvdata1 = myuvdata(ntel=2)\n",
    "freqs = np.unique(uvdata.freq_array)\n",
    "\n",
    "point_source_pos = np.array([[0, uvdata.telescope_location_lat_lon_alt[0]]])\n",
    "point_source_flux = np.array([[1.0]] * len(freqs))\n",
    "\n",
    "viscpu_sim = VisCPU(\n",
    "    uvdata=uvdata1,\n",
    "    sky_freqs=freqs,\n",
    "    point_source_pos=point_source_pos,\n",
    "    point_source_flux=point_source_flux,\n",
    "    nside=2**4,\n",
    "    real_dtype=np.float64,\n",
    "    complex_dtype=np.complex128,\n",
    ")\n",
    "\n",
    "healvis_sim = HealVis(\n",
    "    uvdata=uvdata,\n",
    "    sky_freqs=freqs,\n",
    "    point_source_pos=point_source_pos,\n",
    "    point_source_flux=point_source_flux,\n",
    "    nside=2 ** 4\n",
    ")\n",
    "\n",
    "viscpu_sim.simulate()\n",
    "healvis_sim.simulate()\n",
    "\n",
    "viscpu = viscpu_sim.uvdata.data_array\n",
    "healvis = healvis_sim.uvdata.data_array\n",
    "\n",
    "#plot_blts(viscpu_sim)\n",
    "#plot_blts(healvis_sim)\n",
    "\n",
    "compare_blts(viscpu_sim, healvis_sim)"
   ]
  },
  {
   "cell_type": "code",
   "execution_count": null,
   "metadata": {},
   "outputs": [],
   "source": [
    "a = np.ones((5,5,5))\n",
    "\n",
    "a[:, np.triu_indices(5)[0], np.triu_indices(5)[1]].shape"
   ]
  },
  {
   "cell_type": "code",
   "execution_count": null,
   "metadata": {},
   "outputs": [],
   "source": [
    "### Using Cross-Correlations of pair (0, 1)\n",
    "def print_across_freq(simulator):\n",
    "    freqs = unique(simulator.uvdata.freq_array)\n",
    "    fig, ax = plt.subplots(len(freqs), 1, sharex=True, \n",
    "                           subplot_kw={\"ylabel\":\"|Visibility| [Jy]\"})\n",
    "    for i in range(len(freqs)):\n",
    "        f = freqs[i]\n",
    "        indices = simulator.uvdata.antpair2ind(0,1)\n",
    "        ax[i].plot(np.real(simulator.uvdata.data_array[indices, 0, i, 0]), label=\"freq {} real\".format(i))\n",
    "        ax[i].plot(np.imag(simulator.uvdata.data_array[indices, 0, i, 0]), label=\"freq {} imag\".format(i), linestyle=\"--\")\n",
    "            \n",
    "    ax[0].legend()\n",
    "    ax[-1].legend()\n",
    "    ax[0].set_title(\"Cross-Correlations\")\n",
    "    ax[-1].set_xlabel(\"Observation Number\")\n",
    "\n",
    "                   \n",
    "plot_blts(viscpu_sim)\n",
    "plot_blts(healvis_sim)\n",
    "plt.figure()\n",
    "print_across_freq(viscpu_sim)\n",
    "print_across_freq(healvis_sim)\n"
   ]
  },
  {
   "cell_type": "code",
   "execution_count": null,
   "metadata": {},
   "outputs": [],
   "source": [
    "a = [ [[\"time 1 ant 11\", \"time 1 ant12\"], [\"time 1 ant 21\", \"time 1 ant22\"]], [[\"time 2 ant 11\", \"time 2 ant12\"], [\"time 2 ant 21\", \"time 2 ant22\"]], [[\"time 3 ant 11\", \"time 3 ant12\"], [\"time 3 ant 21\", \"time 3 ant22\"]] ] \n",
    "a= np.array(a)\n",
    "\n",
    "b =  a.flatten()\n",
    "print b[1]"
   ]
  },
  {
   "cell_type": "code",
   "execution_count": null,
   "metadata": {},
   "outputs": [],
   "source": []
  },
  {
   "cell_type": "markdown",
   "metadata": {},
   "source": [
    "### 2 Telescope 2 Point Sources"
   ]
  },
  {
   "cell_type": "code",
   "execution_count": null,
   "metadata": {
    "scrolled": false
   },
   "outputs": [],
   "source": [
    "uvdata = myuvdata(ntel=2)\n",
    "uvdata1 = myuvdata(ntel=2)\n",
    "freqs = unique(uvdata.freq_array)\n",
    "point_source_pos = np.array([[0, uvdata.telescope_lat_lon_alt[0] - np.pi/4], [0, uvdata.telescope_lat_lon_alt[0] + np.pi/4]])\n",
    "point_source_flux = np.array([[1.0, 1.0]] * len(freqs))\n",
    "\n",
    "viscpu_sim = VisCPU(\n",
    "    uvdata=uvdata,\n",
    "    sky_freqs=freqs,\n",
    "    point_source_pos=point_source_pos,\n",
    "    point_source_flux=point_source_flux,\n",
    "    nside=2**4,\n",
    "    real_dtype=np.float64,\n",
    "    complex_dtype=np.complex128, \n",
    ")\n",
    "\n",
    "healvis_sim = HealVis(\n",
    "    uvdata=uvdata1,\n",
    "    sky_freqs=freqs,\n",
    "    point_source_pos=point_source_pos,\n",
    "    point_source_flux=point_source_flux,\n",
    "    nside=2 ** 4\n",
    ")\n",
    "\n",
    "viscpu = viscpu_sim.simulate()\n",
    "healvis = healvis_sim.simulate()\n",
    "\n",
    "print \"MAX ABSOLUTE DIFF\", np.max(np.abs(viscpu-healvis))\n",
    "\n",
    "plot_blts(viscpu_sim)\n",
    "plot_blts(healvis_sim)\n",
    "plt.figure(figsize=(50,10))\n",
    "plt.plot(viscpu.flatten() - healvis.flatten())"
   ]
  },
  {
   "cell_type": "markdown",
   "metadata": {},
   "source": [
    "### Point Sources"
   ]
  },
  {
   "cell_type": "code",
   "execution_count": null,
   "metadata": {},
   "outputs": [],
   "source": [
    "# put a point source in\n",
    "point_source_pos = np.array([[0, uvdata2().telescope_lat_lon_alt[0] + np.pi/4]])\n",
    "point_source_flux = np.array([[1.0]] * len(freqs))\n",
    "\n",
    "viscpu_sim = VisCPU(\n",
    "    uvdata=uvdata2(),\n",
    "    sky_freqs=freqs,\n",
    "    sky_intensity=uniform_sky(6),\n",
    "    nside=2**4,\n",
    "    real_dtype=np.float64,\n",
    "    complex_dtype=np.complex128, \n",
    ")\n",
    "\n",
    "healvis_sim = HealVis(\n",
    "    uvdata=uvdata2(),\n",
    "    sky_freqs=freqs,\n",
    "    sky_intensity=uniform_sky(6),\n",
    "    nside=2 ** 4\n",
    ")\n",
    "\n",
    "viscpu = viscpu_sim.simulate()\n",
    "healvis6 = healvis_sim.simulate()"
   ]
  },
  {
   "cell_type": "code",
   "execution_count": null,
   "metadata": {},
   "outputs": [],
   "source": [
    "np.max(np.abs(healvis6-heal_copy))"
   ]
  },
  {
   "cell_type": "code",
   "execution_count": null,
   "metadata": {},
   "outputs": [],
   "source": [
    "plot_blts(viscpu_sim)\n",
    "plot_blts(healvis_sim)"
   ]
  },
  {
   "cell_type": "markdown",
   "metadata": {},
   "source": [
    "## PRISim"
   ]
  },
  {
   "cell_type": "code",
   "execution_count": null,
   "metadata": {
    "ExecuteTime": {
     "end_time": "2019-06-07T21:54:53.843730Z",
     "start_time": "2019-06-07T21:54:53.524955Z"
    }
   },
   "outputs": [],
   "source": [
    "simulator = PRISim(\n",
    "    uvdata = myuvdata(),\n",
    "    sky_intensity = uniform_sky(5),\n",
    "    sky_freqs = freqs,\n",
    ")"
   ]
  },
  {
   "cell_type": "code",
   "execution_count": null,
   "metadata": {
    "ExecuteTime": {
     "end_time": "2019-06-07T21:55:05.192151Z",
     "start_time": "2019-06-07T21:54:54.408545Z"
    }
   },
   "outputs": [],
   "source": [
    "vis = simulator.simulate()\n",
    "plot_blts(simulator)"
   ]
  },
  {
   "cell_type": "code",
   "execution_count": null,
   "metadata": {
    "ExecuteTime": {
     "end_time": "2019-06-07T21:18:47.868126Z",
     "start_time": "2019-06-07T21:18:47.497529Z"
    }
   },
   "outputs": [],
   "source": [
    "uv = myuvdata()"
   ]
  },
  {
   "cell_type": "code",
   "execution_count": null,
   "metadata": {},
   "outputs": [],
   "source": [
    "uv.tel"
   ]
  }
 ],
 "metadata": {
  "celltoolbar": "Initialization Cell",
  "kernelspec": {
   "display_name": "Python 3",
   "language": "python",
   "name": "python3"
  },
  "language_info": {
   "codemirror_mode": {
    "name": "ipython",
    "version": 3
   },
   "file_extension": ".py",
   "mimetype": "text/x-python",
   "name": "python",
   "nbconvert_exporter": "python",
   "pygments_lexer": "ipython3",
   "version": "3.6.8"
  },
  "latex_envs": {
   "LaTeX_envs_menu_present": true,
   "autoclose": true,
   "autocomplete": true,
   "bibliofile": "biblio.bib",
   "cite_by": "apalike",
   "current_citInitial": 1,
   "eqLabelWithNumbers": true,
   "eqNumInitial": 1,
   "hotkeys": {
    "equation": "Ctrl-E",
    "itemize": "Ctrl-I"
   },
   "labels_anchors": false,
   "latex_user_defs": false,
   "report_style_numbering": false,
   "user_envs_cfg": false
  },
  "toc": {
   "base_numbering": 1,
   "nav_menu": {},
   "number_sections": true,
   "sideBar": true,
   "skip_h1_title": false,
   "title_cell": "Table of Contents",
   "title_sidebar": "Contents",
   "toc_cell": false,
   "toc_position": {},
   "toc_section_display": true,
   "toc_window_display": true
  }
 },
 "nbformat": 4,
 "nbformat_minor": 2
}
