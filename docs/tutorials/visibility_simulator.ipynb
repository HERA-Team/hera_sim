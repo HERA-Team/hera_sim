{
 "cells": [
  {
   "cell_type": "markdown",
   "metadata": {
    "tags": []
   },
   "source": [
    "# Visibility Simulator Examples\n",
    "\n",
    "Although ``hera_sim`` is primarily aimed at simulating instrumental effects on top of existing visibility data, the package also has the `visibilities` module that offers a uniform visibility simulation interface to wrappers for several visibility simulators, as well as a few analytic beam models of the HERA antenna."
   ]
  },
  {
   "cell_type": "markdown",
   "metadata": {},
   "source": [
    "## Visibility Simulation Interface\n",
    "\n",
    "Starting from versions of `hera_sim >= 2.0.0`, wrappers for [VisCPU](https://github.com/HERA-Team/vis_cpu), [healvis](https://github.com/rasg-affiliates/healvis), and [pyuvsim](https://github.com/RadioAstronomySoftwareGroup/pyuvsim) visibility simulators are provided through the `VisCPU`, `Healvis`, and `UVSim` classes.\n",
    "\n",
    "The new `ModelData` object serves as a container for the data and all information required to perform visibility simulation. A preferred method to initialize this object is to use the classmethod `from_config`, providing [pyuvsim configuration files](https://pyuvsim.readthedocs.io/en/latest/parameter_files.html) that specify the observation and telescope parameters, beam model, and sky model. Direct initialization is also supported and currently required to utilize anlytic HERA beam models in the `hera_sim.beams` module (see [Manual Initialization](###-Manual-Initialization)).\n",
    "\n",
    "The `VisibilitySimulation` class is the new uniform visibility simulation interface. It takes one of the three simulator objects and a `ModelData` object as inputs. Visibility simulation can then be executed simply by calling the object's `simulate` method."
   ]
  },
  {
   "cell_type": "markdown",
   "metadata": {},
   "source": [
    "#### Example 1: Demonstrate `hera_sim` Visibility Simulator Interface."
   ]
  },
  {
   "cell_type": "code",
   "execution_count": 1,
   "metadata": {},
   "outputs": [],
   "source": [
    "\"\"\"This example simulates visiblities with VisCPU at 10 frequencies and 60 \n",
    "times with the 50 brighteest GLAM sources as a sky model and the HERA Phase I \n",
    "array as the instrument.\"\"\"\n",
    "import os\n",
    "\n",
    "from hera_sim import DATA_PATH\n",
    "from hera_sim.visibilities import VisCPU, ModelData, VisibilitySimulation\n",
    "\n",
    "\n",
    "# Path to the example pyuvsim configuration files.\n",
    "# These can be found in `hera_sim.DATA_PATH` to follow along.\n",
    "config_file = os.path.join(\n",
    "    DATA_PATH, \n",
    "    'tutorials_data/visibility_simulator/obsparam_hera_phase1_gleam_top50.yaml'\n",
    ")\n",
    "\n",
    "# Initialize a ModelData object.\n",
    "# The pyuvsim configuration files consist of a few yaml and csv files, and a \n",
    "# sky model file readable by `pyradiosky`. `ModelData.from_config` takes the \n",
    "# outermost file obsparam_*.yaml as an input.\n",
    "data_model = ModelData.from_config(config_file)\n",
    "\n",
    "# Initialize a VisCPU simulator.\n",
    "simulator = VisCPU()\n",
    "\n",
    "# Construct a VisibilitySimulation object.\n",
    "simulation = VisibilitySimulation(data_model=data_model, simulator=simulator)\n",
    "\n",
    "# Executing the simulation by calling `simulate` method.\n",
    "visibility_array = simulation.simulate()"
   ]
  },
  {
   "cell_type": "markdown",
   "metadata": {
    "tags": []
   },
   "source": [
    "## Initializing Model Data\n",
    "\n",
    "As mentioned, the `ModelData` object contains all the data and information required to perform visibility simulation with `hera_sim`.\n",
    "\n",
    "The prefered method to initlize a ModelData object is to generate a set pyuvsim configuration files (see https://pyuvsim.readthedocs.io/en/latest/parameter_files.html) and then pass the top-level <em>obsparams_*.yaml</em> file to the classmethod `from_config`.\n",
    "\n",
    "```python\n",
    "data_model = ModelData.from_config(config_file)\n",
    "```\n",
    "\n",
    "Under the hood, this generates the following objects that ModelData wraps, each encapsulating different information required for simulating visibility.\n",
    "* `pyuvdata.UVData`\n",
    "    * A data container for observation parameters, array layout, telescope location, and visibility.\n",
    "    * Accesible from the `uvdata` property.\n",
    "    * Package reference: https://pyuvdata.readthedocs.io/en/latest/index.html\n",
    "* `pyradiosky.SkyModel`\n",
    "    * A data container for sky models, including catalog of sources and diffuse sky maps in HEALPix.\n",
    "    * Provide methods for conversion from a catalog of point sources to a HEALPix map and vice versa, which is used by the visibility simulator wrappers.\n",
    "    * Accesible from the `sky_model` property.\n",
    "    * Package reference: https://pyradiosky.readthedocs.io/en/latest/index.html\n",
    "* `pyuvsim.BeamList` and the associated `beam_ids`\n",
    "    * Specify the antenna beam models and which beam model each antenna uses. (See [Manual Initialization](###-Manual-Initialization) for supported beam types.)\n",
    "    * Accesible from the `beams` and `beam_ids` properties.\n",
    "    * Reference: https://pyuvsim.readthedocs.io/en/latest/classes.html#pyuvsim.BeamList"
   ]
  },
  {
   "cell_type": "markdown",
   "metadata": {
    "tags": []
   },
   "source": [
    "### Manual Initialization\n",
    "\n",
    "If not using configuration files, the underlying objects can be first created and passed to the `ModelData` constructor for manual initialization. \n",
    "\n",
    "Users may consider using `hera_sim.io.empty_uvdata`, `pyuvsim.simsetup.initialize_uvdata_from_params`, or `pyuvsim.simsetup.initialize_uvdata_from_keywords` to construct a UVData object. \n",
    "\n",
    "See the next section on how to construct a sky model with `pyradiosky.SkyModel`.\n",
    "\n",
    "The beam models given to the `beams` parameter can be: i) a `pyuvsim.BeamList` object, ii) a `pyuvdata.UVBeam`, or iii) a list of `pyuvsim.AnalyticBeam`, including its subclasses.\n",
    "\n",
    "The `hera_sim.beams` module provides analytic models of the HERA antenna through the `PolyBeam`, `PerturbedPolayBeam`, and `ZernikeBeam`  objects (see HERA Memo [#081](http://reionization.org/wp-content/uploads/2013/03/HERA081_HERA_Primary_Beam_Chebyshev_Apr2020.pdf) and [#101](http://reionization.org/manual_uploads/HERA101_Analytic_polarized_beam.pdf), and [Choudhuri et al 2021](https://arxiv.org/abs/2101.02684)). Although these beam models are subclasses of `pyuvsim.AnalyticBeam`, they are currently not regcogniziable by the pyuvsim configuration file parser, and thus can only be used by initializing `ModelData` manually."
   ]
  },
  {
   "cell_type": "markdown",
   "metadata": {},
   "source": [
    "#### Example 2: Manaully initialize a `ModelData` object with `PolyBeam`"
   ]
  },
  {
   "cell_type": "code",
   "execution_count": 2,
   "metadata": {},
   "outputs": [],
   "source": [
    "from pyuvsim.simsetup import initialize_uvdata_from_params, _complete_uvdata\n",
    "from pyuvsim import BeamList\n",
    "from pyradiosky import SkyModel\n",
    "from hera_sim.beams import PolyBeam\n",
    "\n",
    "# Initialize just the UVData and beam_ids from the pyuvsim configuraton files.\n",
    "# The configuration file (same as in Example 1) uses the \"airy\" type \n",
    "# `pyuvsim.AnalyticBeam` as the beam models. Here, \n",
    "# `pyuvsim.simsetup.initialize_uvdata_from_param` returns `UVData`, `BeamList`, \n",
    "# and `beam_ids`, but we will discard and replace the `BeamList` with a new \n",
    "# `BeamList` that uses the `PolyBeam` model.\n",
    "uvdata, _, beam_ids = initialize_uvdata_from_params(config_file)\n",
    "# Fill `data_array` with zeros and commplete the UVData object.\n",
    "_complete_uvdata(uvdata, inplace=True)\n",
    "\n",
    "# Construct a new `BeamList` with polarized `PolyBeam`.\n",
    "# `beam_coeffs` from Choudhuri et al 2020. \n",
    "cfg_pol_beam = dict(\n",
    "    ref_freq=1e8,\n",
    "    spectral_index=-0.6975,\n",
    "    beam_coeffs=[\n",
    "        2.35088101e-01,\n",
    "        -4.20162599e-01,\n",
    "        2.99189140e-01,\n",
    "        -1.54189057e-01,\n",
    "        3.38651457e-02,\n",
    "        3.46936067e-02,\n",
    "        -4.98838130e-02,\n",
    "        3.23054464e-02,\n",
    "        -7.56006552e-03,\n",
    "        -7.24620596e-03,\n",
    "        7.99563166e-03,\n",
    "        -2.78125602e-03,\n",
    "        -8.19945835e-04,\n",
    "        1.13791191e-03,\n",
    "        -1.24301372e-04,\n",
    "        -3.74808752e-04,\n",
    "        1.93997376e-04,\n",
    "        -1.72012040e-05,\n",
    "    ],\n",
    "    polarized=True,\n",
    ")\n",
    "beams = BeamList([PolyBeam(**cfg_pol_beam)])\n",
    "\n",
    "# Load the SkyModel. Same model used in Example 1.\n",
    "sky_model_file = os.path.join(\n",
    "    DATA_PATH, 'tutorials_data/visibility_simulator/gleam_top50.skyh5'\n",
    ")\n",
    "sky_model = SkyModel()\n",
    "sky_model.read_skyh5(sky_model_file)\n",
    "\n",
    "# Construct ModelData\n",
    "data_model_polybeam = ModelData(\n",
    "    uvdata=uvdata,\n",
    "    sky_model=sky_model,\n",
    "    beam_ids=beam_ids,\n",
    "    beams = beams               \n",
    ")"
   ]
  },
  {
   "cell_type": "markdown",
   "metadata": {
    "tags": []
   },
   "source": [
    "### Constructing a SkyModel\n",
    "\n",
    "`pyradiosky.SkyModel` is both a container and an interface for representing astrophysical radio sources. \n",
    "\n",
    "A `SkyModel` object will usually consists of many componenents that represent either compact point sources or pixels of a HEALPix map. This choice can be set by specifying `component_type=\"point\"` or `component_type=\"healpix\"` when constructing the object. Doing so will determine which parameters are required as followed.\n",
    "* If `component_type=\"point\"`, the `name` of each source and the source position (`ra` and `dec`) are required.\n",
    "* If `component_type=\"healpix\"`, the `nside` parameter of the HEALPix map, the indices of the HEALPix pixel `hpx_inds`, and the HEALPix pixel ordering `hpx_order` must be set. \n",
    "* If `component_type` is not set, the type is infered from weather `nside` is given.\n",
    "\n",
    "The component flux is given per frequency as an array of Stoke IQUV via the `stokes` argument (Shape: (4, Nfreqs, Ncomponents)). In addition, the `spectral_type` must be specified, which can be:\n",
    "* \"flat\" : Flat spectrum.\n",
    "* \"full\" : Flux is defined by a saved value at each frequency.\n",
    "* \"subband\" : Flux is given at a set of band centers.\n",
    "* \"spectral_index\" : Flux is given at a reference frequency.\n",
    "Thus, `spectral_type=\"full\"` or `spectral_type=\"subband\"` requires setting `freq_array` parameter that specifies the frequency at each of the given component flux, whereas `spectral_type=\"spectral_index\"` requires setting `spectral_index` of each component at a `reference_frequency` \n",
    "\n",
    "\n",
    "The classmethods `pyradiosky.from_gleam_catalog`, `pyradiosky.from_votable_catalog`, and `pyradiosky.from_text_catalog` can be used to `SkyModel` object from the GLEAM EGC catalog file, a votable catalog file, or from a tab separated value file. The `pyuvsim.simsetup.create_mock_catalog` method can also be used to create a mock catalog of point source and/or diffuse sky\n",
    "\n",
    "Loading a HEALPix map into a SkyModel object is currently only possible via the native skyh5 file format. Thus, a diffuse sky map in a HEALPix FITS format (e.g., Haslam 408 MHz) must be manually object initialization from the HEALPix array values and indices.\n",
    "\n",
    "A method for converting a `SkyModel` object from one component type to another is provided, which can be used to convert a  \"healpix\" model to \"point\" and combine with another \"point\"-type model, for example. This conversion is used by `hera_sim` in its VisCPU and healvis wrappers.\n",
    "\n",
    "Below, we show how to create a random point source model and a \"rainbow\" diffuse model, and combine them into a single SkyModel object. Please refer to the [pyradiosky developer API](https://pyradiosky.readthedocs.io/en/latest/index.html) for details of the objects parameters and methods."
   ]
  },
  {
   "cell_type": "markdown",
   "metadata": {
    "tags": []
   },
   "source": [
    "#### Example 3: Constructing and a point source SkyModel"
   ]
  },
  {
   "cell_type": "code",
   "execution_count": 3,
   "metadata": {},
   "outputs": [
    {
     "name": "stdout",
     "output_type": "stream",
     "text": [
      "SkyModel History:\n",
      "  Generate a random polarized source catalog with 50 sources.\n",
      "  Read/written with pyradiosky version: 0.1.2.\n",
      "Type of sky model: point\n",
      "Number of components = number of sources: 50\n"
     ]
    }
   ],
   "source": [
    "import numpy as np\n",
    "\n",
    "from pyradiosky import SkyModel\n",
    "from astropy.coordinates import Longitude, Latitude\n",
    "from astropy import units as u\n",
    "\n",
    "## Point Soruce Model ##\n",
    "component_type = 'point'\n",
    "\n",
    "# Each source is a component in a SkyModel.\n",
    "# Create a sky model with 50 random sources (i.e. 50 point source components).\n",
    "nsources = 50\n",
    "\n",
    "# `ra` and `dec` must be Longitude and Latitude astropy quantity\n",
    "ra = Longitude(np.random.uniform(0, 360, nsources) * u.degree)\n",
    "dec = Latitude(np.random.uniform(-90, 90, nsources) * u.degree)\n",
    "\n",
    "# `names` are required for point soruces\n",
    "names = [f'rand{i:02d}' for i in range(nsources)]\n",
    "\n",
    "# SkyModel supports several spectral type. We will use \"spectral_index\" here,\n",
    "# where the flux of each source is describe by a power law given a reference \n",
    "# frequency and a spectral index.\n",
    "spectral_type = 'spectral_index'\n",
    "spectral_index = np.random.uniform(-4, 3, nsources)\n",
    "reference_frequency = 200e6 * np.ones(nsources) * u.Hz\n",
    "\n",
    "# Source fluxes must be given in Stokes IQUV as an array of astropy quantity \n",
    "# with an appropriate unit. Shape (4, Nfreqs, Ncomponents).\n",
    "# Nfreqs is 1 here because we are using \"spctral_index\".\n",
    "stokes = np.zeros((4, 1, nsources)) * u.Jy\n",
    "stokes[0, :, :] = np.random.uniform(10, 50, nsources) * u.Jy\n",
    "# Let's also give our sources ~10% linar polarization\n",
    "stokes[1, :, :] = np.random.uniform(1, 5, nsources) * u.Jy\n",
    "stokes[2, :, :] = np.random.uniform(1, 5, nsources) * u.Jy\n",
    "\n",
    "# Collect all parameters in a dictionary to be passed to a SkyModel constructor\n",
    "source_params = {\n",
    "    'component_type': component_type,\n",
    "    'name': names,\n",
    "    'ra': ra,\n",
    "    'dec': dec,\n",
    "    'stokes': stokes,\n",
    "    'spectral_type': spectral_type,\n",
    "    'reference_frequency': reference_frequency,\n",
    "    'spectral_index': spectral_index,\n",
    "    'history': ' Generate a random polarized source catalog with 50 sources.\\n'\n",
    "}\n",
    "\n",
    "source_model = SkyModel(**source_params)\n",
    "\n",
    "print('SkyModel History:\\n', source_model.history)\n",
    "print('Type of sky model:', source_model.component_type)\n",
    "print('Number of components = number of sources:', source_model.Ncomponents)"
   ]
  },
  {
   "cell_type": "markdown",
   "metadata": {},
   "source": [
    "#### Example 4: Constructing a HEALPix SkyModel"
   ]
  },
  {
   "cell_type": "code",
   "execution_count": 4,
   "metadata": {
    "tags": []
   },
   "outputs": [
    {
     "name": "stdout",
     "output_type": "stream",
     "text": [
      "SkyModel History:\n",
      "  Create a diffuse \"rainbow\" sky with a flat spectra.\n",
      "  Read/written with pyradiosky version: 0.1.2.\n",
      "Type of sky model: healpix\n",
      "Nside: 8\n",
      "Number of components = number of healpix pixels: 768\n"
     ]
    }
   ],
   "source": [
    "# Create a diffuse HEALPix SkyModel with a \"rainbow\" sky and flat spectra.\n",
    "component_type = 'healpix'\n",
    "nside = 2 ** 3\n",
    "npix = 12 * nside ** 2\n",
    "hpx_order = 'ring'\n",
    "hpx_inds = np.arange(npix)\n",
    "\n",
    "spectral_type = 'flat'\n",
    "\n",
    "stokes = np.zeros((4, 1, npix)) * u.K\n",
    "stokes[0, :, :] = np.linspace(1, 7, npix) * u.K\n",
    "\n",
    "diffuse_params = {\n",
    "    'component_type': component_type,\n",
    "    'nside': nside,\n",
    "    'hpx_inds': hpx_inds,\n",
    "    'hpx_order': hpx_order,\n",
    "    'spectral_type' : spectral_type,\n",
    "    'stokes': stokes,\n",
    "    'history': ' Create a diffuse \"rainbow\" sky with a flat spectra.\\n'\n",
    "}\n",
    "diffuse_model = SkyModel(**diffuse_params)\n",
    "print('SkyModel History:\\n', diffuse_model.history)\n",
    "print('Type of sky model:', diffuse_model.component_type)\n",
    "print('Nside:', diffuse_model.nside)\n",
    "print('Number of components = number of healpix pixels:', \n",
    "      diffuse_model.Ncomponents)"
   ]
  },
  {
   "cell_type": "markdown",
   "metadata": {},
   "source": [
    "#### Example 5: Converting one SkyModel type to another and concatnating two SkyModels\n",
    "\n",
    "One model type can be converted to another type and concatenated to form a composite model. The concatnation can only be done if `component_type`, `spectral_type`, and `freq_array` of both ojects matches"
   ]
  },
  {
   "cell_type": "code",
   "execution_count": 5,
   "metadata": {},
   "outputs": [],
   "source": [
    "# Evaluate both models at a specific frequency range, producing new models \n",
    "# with \"full\" spectral types.\n",
    "frequencies = np.linspace(50, 200, 100) * u.MHz\n",
    "source_model_full = source_model.at_frequencies(frequencies, inplace=False)\n",
    "diffuse_model_full = diffuse_model.at_frequencies(frequencies, inplace=False)\n",
    "\n",
    "# Drop spectral_index from the source model before combining.\n",
    "# See GitHub issue https://github.com/RadioAstronomySoftwareGroup/pyradiosky/issues/160\n",
    "source_model_full.spectral_index = None\n",
    "\n",
    "# Convert the diffuse model to \"point\" type, making sure the flux unit \n",
    "# is also converted to jansky\n",
    "diffuse_model_full.healpix_to_point(to_jy=True)\n",
    "composite_model = source_model_full.concat(diffuse_model_full, inplace=False)"
   ]
  },
  {
   "cell_type": "markdown",
   "metadata": {},
   "source": [
    "## Simulator Choices\n",
    "\n",
    "`hera_sim.visibilities` provide wrapper classes for three visibility simulators, allowing them to be used in the new uniform interface. Each of the simulator approaches the visibility calculation differently with its own merits.\n",
    "\n",
    "### VisCPU\n",
    "`VisCPU` is the wrapper for the [vis_cpu](https://github.com/HERA-Team/vis_cpu) package, a Python/numpy-based simulator for interferometer visibilities developed by members from HERA collaboration. It models the sky as an ensemble of point sources, each with their own frequency spectrum. The code is capable of modelling polarized visibilities and primary beams, but currently only a Stokes I sky model. \n",
    "\n",
    "The [HERA Memo #98](http://reionization.org/manual_uploads/HERA098_vis_cpu_maths.pdf) describes the mathematical underlying of the `vis_cpu` simulator although be warned that some information might have already been obsolete due to the recent rapid development of the simulator. In summary, vis_cpu computes a geometric delay for each source and antenna, which is used to calculate the phase factor that is then multiplied by the source flux to obtain per-antenna visibility factor. The direction-dependent polarized antenna beam factor (Jones matrix) is computed by evaluating the complex (efield) antenna pattern at each source position on the azimutal-zenithal coordinates. This is usually done by calling the `interp` method of the UVBeam object, or by directly evaluating an analytic function in the case of using an analytic beam model. All of these are done per time at a given _single_ frequency. \n",
    "\n",
    "The code also has a \"pixel beam\" mode, which interpolates each anteanna beam once onto an (l, m) grid that is then used to constructs a 2D Bivariate spline. The spline object is evaluated given a source position to estimate the antenna beam pattern. This bypasses the need to compute the new (l, m) coordinates at every time, and, although less accurate, is usually faster for complex efield beams. However, analytic beam models such as the `PolyBeam` object can precisely and quickly give the beam value at any given az-za coordinate. Thus, pixel beam mode should _not_ be used when using analytic beam models.\n",
    "\n",
    "The `hera_sim` wrapper adds a frequency loop on top of the internal time loop in vis_cpu codes and interfaces between the `ModelData` to vis_cpu input parameters, including transformation of a HEALPix SkyModel into a point source model. MPI parallelization over frequencies is also implemented on the `hera_sim` wrapper although shared memory is currently not supported.\n",
    "\n",
    "### HealVis\n",
    "The `HealVis` class provide a wrapper for the [healvis](https://github.com/rasg-affiliates/healvis) simulator. healvis simulates visibility off of HEALPix shells by directly evaluating the radio interferometry measurement equation (RIME) at the healpix pixels, avoiding artifacts from sky projection (see Section 3. of [Lanman et al. 2020](https://arxiv.org/abs/1910.10573) for the underlying mathematical formalism). Due to this unique calculation, a point source catalog must be gridded onto a healpix map to use in healvis. The `hera_sim` wrapper facilites this conversion through the interface between the `HealVis` wrapper and the `ModelData` object.\n",
    "\n",
    "### UVSim\n",
    "The `UVSim` class provides a `hera_sim` wrapper to [pyuvsim](https://pyuvsim.readthedocs.io/en/latest/index.html), a comprehensive simulation package for radio interferometers that emphasizes accuracy and extensibility over speed. Under the hood, it execute `pyuvsim.uvsim.run_uvdata_uvsim` given the information in the `ModelData` object.\n",
    "\n",
    "### (Tentative) Performance Matrix\n",
    "\n",
    "Speed: \n",
    "* VisCPU >>>>>> UVSim\n",
    "* HealVis >>>>? UVSim\n",
    "* VisCPU ? HeaVis\n",
    "\n",
    "Accuracy:\n",
    "* UVSim >>>? VisCPU\n",
    "* UVSim >>>? HealVis\n",
    "* HealVis >>? VisCPU\n"
   ]
  },
  {
   "cell_type": "markdown",
   "metadata": {
    "tags": []
   },
   "source": [
    "## Accessing simulation parameters and visibility\n",
    "\n",
    "With the new uniform interface, all simulation parameters and the simulated visibility are contained in the `ModelData` object. Various information can be retrieved from the properties of the `UVData`, `SkyModel`, and `BeamList` objects that `ModelData` wraps."
   ]
  },
  {
   "cell_type": "markdown",
   "metadata": {},
   "source": [
    "#### Example 6: Plot the array layout in the UVData in Example 1."
   ]
  },
  {
   "cell_type": "code",
   "execution_count": 6,
   "metadata": {},
   "outputs": [
    {
     "data": {
      "image/png": "[encoded data removed]",
      "text/plain": [
       "<Figure size 432x288 with 1 Axes>"
      ]
     },
     "metadata": {
      "needs_background": "light"
     },
     "output_type": "display_data"
    }
   ],
   "source": [
    "import matplotlib.pyplot as plt\n",
    "from pyuvdata import utils as uvutils\n",
    "\n",
    "uvd = data_model.uvdata\n",
    "\n",
    "# Get antennas positions in ECEF\n",
    "antpos = uvd.antenna_positions + uvd.telescope_location\n",
    "\n",
    "# Convert to topocentric (East, North, Up or ENU) coords.\n",
    "antpos = uvutils.ENU_from_ECEF(antpos, *uvd.telescope_location_lat_lon_alt)\n",
    "\n",
    "# Plot the EN antenna position.\n",
    "plt.scatter(antpos[:, 0], antpos[:, 1])\n",
    "for i, antnum in enumerate(uvd.antenna_numbers):\n",
    "    plt.text(antpos[i, 0], antpos[i, 1], antnum)\n",
    "plt.show()"
   ]
  },
  {
   "cell_type": "markdown",
   "metadata": {},
   "source": [
    "#### Example 7: Extract the SkyModel used in Example 1 and plot the source positions."
   ]
  },
  {
   "cell_type": "code",
   "execution_count": 7,
   "metadata": {},
   "outputs": [
    {
     "name": "stdout",
     "output_type": "stream",
     "text": [
      "Type of sky model: point\n",
      "Number of sources: 50\n"
     ]
    },
    {
     "data": {
      "image/png": "[encoded data removed]",
      "text/plain": [
       "<Figure size 432x288 with 2 Axes>"
      ]
     },
     "metadata": {
      "needs_background": "light"
     },
     "output_type": "display_data"
    }
   ],
   "source": [
    "sky_model = data_model.sky_model\n",
    "print('Type of sky model:', sky_model.component_type)\n",
    "print('Number of sources:', sky_model.Ncomponents)\n",
    "\n",
    "# Extract the source positions and fluxes\n",
    "ra = sky_model.ra\n",
    "dec = sky_model.dec\n",
    "flux = sky_model.stokes[0, 0, :]\n",
    "\n",
    "# Plot the source positions with color and size showing source fluxes.\n",
    "plt.scatter(ra, dec, s=flux, c=flux)\n",
    "plt.colorbar(label='Jansky')\n",
    "plt.xlabel('RA [degree]')\n",
    "plt.ylabel('Dec [degree]')\n",
    "plt.title('50 Brightest GLEAM Sources')\n",
    "plt.show()"
   ]
  },
  {
   "cell_type": "markdown",
   "metadata": {},
   "source": [
    "#### Example 8: Plot the waterfall of the simulated visibility from Example 1."
   ]
  },
  {
   "cell_type": "code",
   "execution_count": 8,
   "metadata": {},
   "outputs": [
    {
     "data": {
      "image/png": "[encoded data removed]",
      "text/plain": [
       "<Figure size 432x288 with 1 Axes>"
      ]
     },
     "metadata": {
      "needs_background": "light"
     },
     "output_type": "display_data"
    }
   ],
   "source": [
    "bls = (0, 1, 'xx')\n",
    "waterfall = uvd.get_data(bls)\n",
    "plt.imshow(\n",
    "    np.abs(waterfall), aspect='auto',\n",
    "    extent=[uvd.freq_array[0, 0] / 1e6, uvd.freq_array[0, -1] / 1e6, \n",
    "            uvd.time_array[-1] - 2458101, uvd.time_array[0] - 2458101]\n",
    ")\n",
    "plt.xlabel('Frequency [MHz]')\n",
    "plt.ylabel('JD - 2458101')\n",
    "plt.show()"
   ]
  }
 ],
 "metadata": {
  "celltoolbar": "Initialization Cell",
  "kernelspec": {
   "display_name": "Python 3 (ipykernel)",
   "language": "python",
   "name": "python3"
  },
  "language_info": {
   "codemirror_mode": {
    "name": "ipython",
    "version": 3
   },
   "file_extension": ".py",
   "mimetype": "text/x-python",
   "name": "python",
   "nbconvert_exporter": "python",
   "pygments_lexer": "ipython3",
   "version": "3.8.12"
  },
  "latex_envs": {
   "LaTeX_envs_menu_present": true,
   "autoclose": true,
   "autocomplete": true,
   "bibliofile": "biblio.bib",
   "cite_by": "apalike",
   "current_citInitial": 1,
   "eqLabelWithNumbers": true,
   "eqNumInitial": 1,
   "hotkeys": {
    "equation": "Ctrl-E",
    "itemize": "Ctrl-I"
   },
   "labels_anchors": false,
   "latex_user_defs": false,
   "report_style_numbering": false,
   "user_envs_cfg": false
  },
  "toc": {
   "base_numbering": 1,
   "nav_menu": {},
   "number_sections": true,
   "sideBar": true,
   "skip_h1_title": false,
   "title_cell": "Table of Contents",
   "title_sidebar": "Contents",
   "toc_cell": false,
   "toc_position": {},
   "toc_section_display": true,
   "toc_window_display": true
  },
  "toc-autonumbering": false,
  "toc-showcode": false,
  "toc-showmarkdowntxt": false
 },
 "nbformat": 4,
 "nbformat_minor": 4
}
