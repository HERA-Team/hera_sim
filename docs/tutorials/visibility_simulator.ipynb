{
 "cells": [
  {
   "cell_type": "markdown",
   "metadata": {},
   "source": [
    "# Visibility Simulator Examples"
   ]
  },
  {
   "cell_type": "markdown",
   "metadata": {},
   "source": [
    "Although ``hera_sim`` is primarily aimed at simulating instrumental effects _on top_ of existing visibility simulations, it also provides a neat interface to several visibility simulators.\n",
    "\n",
    "It does so through the base class ``VisibilitySimulator``, which sets a standard API from which all simulators must derive."
   ]
  },
  {
   "cell_type": "code",
   "execution_count": null,
   "metadata": {
    "ExecuteTime": {
     "end_time": "2019-08-05T17:56:02.830272Z",
     "start_time": "2019-08-05T17:55:59.893082Z"
    },
    "init_cell": true
   },
   "outputs": [],
   "source": [
    "from hera_sim.visibilities import VisCPU, HealVis\n",
    "from hera_sim import io\n",
    "import numpy as np\n",
    "import healpy\n",
    "import matplotlib.pyplot as plt\n",
    "from pyuvsim.analyticbeam import AnalyticBeam\n",
    "from astropy.units import sday\n",
    "import matplotlib as mpl\n",
    "mpl.rcParams['lines.linewidth'] = 3\n",
    "mpl.rcParams[\"legend.loc\"] = 'upper left' \n",
    "\n",
    "%matplotlib inline\n",
    "%load_ext autoreload\n",
    "%autoreload 2"
   ]
  },
  {
   "cell_type": "code",
   "execution_count": null,
   "metadata": {},
   "outputs": [],
   "source": [
    "### np.unique can reorder elements\n",
    "def unique(arr):\n",
    "    arr = np.array(arr)\n",
    "    indices = np.unique(arr, return_index=True)[1]\n",
    "    return np.array([arr.flatten()[i] for i in sorted(indices)])\n",
    "\n",
    "def plot_blts(simulator):\n",
    "    fig, ax = plt.subplots(2, 1, sharex=True, \n",
    "                           subplot_kw={\"ylabel\":\"|Visibility| [Jy]\"}, figsize=(16,8))\n",
    "    fig.suptitle(type(simulator).__name__, fontweight='bold')\n",
    "    for i in simulator.uvdata.antenna_numbers:\n",
    "        auto_ind = simulator.uvdata.antpair2ind((i,i))\n",
    "        auto_cor = simulator.uvdata.data_array[auto_ind, 0, 0, 0]\n",
    "        ax[0].plot(auto_cor.real, label=\"ant_{} real\".format(i))\n",
    "        ax[0].plot(auto_corr.imag, linestyle=\"--\", label=\"ant_{} imag\".format(i))\n",
    "\n",
    "        for j in simulator.uvdata.antenna_numbers[(i+1):]:\n",
    "            cross_ind = simulator.uvdata.antpair2ind((i,j))\n",
    "            cross_cor = simulator.uvdata.data_array[cross_ind, 0, 0, 0]\n",
    "            ax[1].plot(cross_cor.real, label=\"bl({},{}) real\".format(i,j))\n",
    "            ax[1].plot(cross_corr.imag, linestyle=\"--\", label=\"bl({},{}) imag\".format(i,j))\n",
    "    ax[0].legend()\n",
    "    ax[1].legend()\n",
    "    ax[0].set_title(\"Autocorrelations\")\n",
    "    ax[1].set_title(\"Cross-Correlations\")\n",
    "    ax[1].set_xlabel(\"Observation Number\")\n",
    "\n",
    "def compare_blts(simulator1, simulator2):\n",
    "    fig, ax = plt.subplots(3, 1, sharex=True, \n",
    "                           subplot_kw={\"ylabel\":\"|Visibility| [Jy]\"}, figsize=(16, 12)) \n",
    "    name1 = type(simulator1).__name__\n",
    "    name2 = type(simulator2).__name__\n",
    "    fig.suptitle(name1 + \" vs \" + name2, fontweight='bold')\n",
    "    k = 0\n",
    "    for i in simulator1.uvdata.antenna_numbers:\n",
    "        auto_ind = simulator1.uvdata.antpair2ind((i,i))\n",
    "        auto1 = np.real(simulator1.uvdata.data_array[auto_ind, 0, 0, 0])\n",
    "        auto2 = np.real(simulator2.uvdata.data_array[auto_ind, 0, 0, 0])               \n",
    "        ax[0].plot(auto1, label=(\"ant_{} \" + name1).format(i))\n",
    "        ax[0].plot(auto2, linestyle=\"--\", label=(\"ant_{} \" + name2).format(i))\n",
    "        for j in simulator1.uvdata.antenna_numbers[(i+1):]:\n",
    "            cross_ind = simulator1.uvdata.antpair2ind((i,j))\n",
    "            cross1 = np.real(simulator1.uvdata.data_array[cross_ind, 0, 0, 0])\n",
    "            cross2 = np.real(simulator2.uvdata.data_array[cross_ind, 0, 0, 0])       \n",
    "            ax[1].plot(cross1, label=(\"bl({},{}) \" + name1).format(i,j))\n",
    "            ax[1].plot(cross2, linestyle=\"--\", label=(\"bl({},{}) \" + name2).format(i,j))\n",
    "            ax[2].plot(cross2 - cross1, label=(\"bl({},{}) \" + \"Difference\").format(i,j), color=str(k/(k+1)))\n",
    "        k += 1\n",
    "    [a.legend() for a in ax]\n",
    "    ax[0].set_title(\"Autocorrelations\")\n",
    "    ax[1].set_title(\"Cross-Correlations\")\n",
    "    ax[2].set_title(name2 + \" Cross-Correlation minus \" + name1 + \" Cross-Correlation\")\n",
    "    ax[1].set_xlabel(\"Observation Number\")"
   ]
  },
  {
   "cell_type": "markdown",
   "metadata": {},
   "source": [
    "## VisCPU"
   ]
  },
  {
   "cell_type": "markdown",
   "metadata": {},
   "source": [
    "``VisCPU`` natively deals with diffuse emission, and the ``VisibilitySimulator`` uses ``healpix`` maps to represent such emission:"
   ]
  },
  {
   "cell_type": "code",
   "execution_count": null,
   "metadata": {
    "ExecuteTime": {
     "end_time": "2019-08-05T17:56:02.934971Z",
     "start_time": "2019-08-05T17:56:02.894416Z"
    },
    "init_cell": true
   },
   "outputs": [],
   "source": [
    "def create_uniform_sky(nbase=4, scale=1, nfreq=5):\n",
    "    \"\"\"Create a uniform sky with total (integrated) flux density of `scale`\"\"\"\n",
    "    nside = 2 ** nbase\n",
    "    npix = 12 * nside ** 2\n",
    "    return np.ones((nfreq, npix)) * scale / (4 * np.pi)\n",
    "\n",
    "# # Old definition differs from definition in test_vis.py?\n",
    "# def uniform_sky(nside_base=5, scale=1, nfreqs=5):\n",
    "#     NSIDE = 2**nside_base\n",
    "#     NPIX = 12 * NSIDE**2 # this is the number of pixels a healpix map has for  given NSIDE\n",
    "\n",
    "#     # Create a sky of purely ones, multiply by \"scale\"\n",
    "#     return scale * np.ones((nfreqs, NPIX))/NPIX"
   ]
  },
  {
   "cell_type": "markdown",
   "metadata": {},
   "source": [
    "Other than the sky model (we'll revisit this soon), the ``VisibilitySimulator`` requires a ``UVData`` object to specify the observation parameters, as well as a list of ``UVBeam``s to specify the beams for each antenna. This makes it fully consistent with the interface provided by ``pyuvsim``, and many of the methods found in ``pyuvsim`` for creating ``UVData`` objects and ``UVBeam`` objects from YAML specifications can be used here. Indeed, a dictionary of so-called ``obsparams``, or a file-name for an appropriate YAML file, can be passed in lieu of the ``UVData`` and ``UVBeam``. \n",
    "\n",
    "For simplicity, let us simply use the native ``empty_uvdata`` function instead:"
   ]
  },
  {
   "cell_type": "code",
   "execution_count": null,
   "metadata": {
    "ExecuteTime": {
     "end_time": "2019-08-05T17:56:04.496632Z",
     "start_time": "2019-08-05T17:56:02.937939Z"
    },
    "init_cell": true
   },
   "outputs": [],
   "source": [
    "def myuvdata(ntimes=48, ntel=2, **kwargs):\n",
    "    \n",
    "    # Picking antenna postions in a deterministic way\n",
    "    ants = {}\n",
    "    for i in range(ntel):\n",
    "        ants.update([(i, (-(i % 3), i, i % 4))])\n",
    "      \n",
    "    return io.empty_uvdata(\n",
    "        nfreq = 5,\n",
    "        integration_time = sday.to('s')/ntimes,\n",
    "        ntimes= ntimes,\n",
    "        ants = ants,\n",
    "        **kwargs\n",
    "    )"
   ]
  },
  {
   "cell_type": "code",
   "execution_count": null,
   "metadata": {},
   "outputs": [],
   "source": [
    "def align_src_to_healpix(point_source_pos, point_source_flux, nside=2**4):\n",
    "    \"\"\"Where the point sources will be placed when converted to healpix model\n",
    "    \n",
    "    Parameters\n",
    "    ----------\n",
    "    point_source_pos : ndarray\n",
    "        Positions of point sources to be passed to a Simulator.\n",
    "    point_source_flux : ndarray\n",
    "        Corresponding fluxes of point sources at each frequency.\n",
    "    nside : int\n",
    "        Healpy nside parameter.\n",
    "        \n",
    "\n",
    "    Returns\n",
    "    -------\n",
    "    new_pos: ndarray\n",
    "        Point sources positioned at their nearest healpix centers.\n",
    "    new_flux: ndarray\n",
    "        Corresponding new flux values.       \n",
    "    \"\"\"\n",
    "    \n",
    "    hmap = np.zeros((len(point_source_flux), healpy.nside2npix(nside)))\n",
    "\n",
    "    # Get which pixel every point source lies in.\n",
    "    pix = healpy.ang2pix(nside, np.pi/2 - point_source_pos[:, 1], point_source_pos[:, 0])\n",
    "\n",
    "    hmap[:, pix] += point_source_flux / healpy.nside2pixarea(nside)\n",
    "    nside = healpy.get_nside(hmap[0])\n",
    "    ra, dec = healpy.pix2ang(nside, np.arange(len(hmap[0])), lonlat=True)\n",
    "    flux = hmap * healpy.nside2pixarea(nside)\n",
    "    return np.array([ra*np.pi/180, dec*np.pi/180]).T, flux"
   ]
  },
  {
   "cell_type": "markdown",
   "metadata": {},
   "source": [
    "Test whether increasing the number of pixels changes much"
   ]
  },
  {
   "cell_type": "code",
   "execution_count": null,
   "metadata": {
    "scrolled": false
   },
   "outputs": [],
   "source": [
    "uvdata = myuvdata(ntel=1, ntimes=48)\n",
    "uvdata1 = myuvdata(ntel=1, ntimes=48)\n",
    "freqs = unique(uvdata.freq_array)\n",
    "\n",
    "I_sky = create_uniform_sky(5)\n",
    "I_sky1 = create_uniform_sky(6)\n",
    "\n",
    "for i in range(8):\n",
    "    I_sky = create_uniform_sky(i)\n",
    "    I_sky1 = create_uniform_sky(i+1)\n",
    "    low_sim = VisCPU(\n",
    "        uvdata=uvdata,\n",
    "        sky_freqs=freqs,\n",
    "        nside=2**4,\n",
    "        sky_intensity=I_sky\n",
    "    )\n",
    "\n",
    "    high_sim = VisCPU(\n",
    "        uvdata=uvdata1,\n",
    "        sky_freqs=freqs,\n",
    "        nside=2 ** 4,\n",
    "        sky_intensity=I_sky1\n",
    "    )\n",
    "\n",
    "    low = low_sim.simulate()\n",
    "    high = high_sim.simulate()\n",
    "    compare_blts(low_sim, high_sim)\n",
    "    print(i, np.std(np.abs(low)), np.mean(np.abs(low)))"
   ]
  },
  {
   "cell_type": "markdown",
   "metadata": {},
   "source": [
    "### Point Sources"
   ]
  },
  {
   "cell_type": "code",
   "execution_count": null,
   "metadata": {
    "ExecuteTime": {
     "end_time": "2019-08-05T17:56:04.851918Z",
     "start_time": "2019-08-05T17:56:04.544575Z"
    }
   },
   "outputs": [],
   "source": [
    "uvdata1 = myuvdata(ntel=3, start_jd=2458119.5)\n",
    "freqs = unique(uvdata1.freq_array)\n",
    "\n",
    "point_source_pos1 = np.array([(0, uvdata1.telescope_lat_lon_alt[0])]) # ra, dec)\n",
    "point_source_flx1 = np.array([[1.0]*len(freqs)]).T\n",
    "\n",
    "uvdata2 = myuvdata(ntel=3, start_jd=2458119.0)\n",
    "point_source_pos1 = np.array([(0, uvdata2.telescope_lat_lon_alt[0])]) # ra, dec)\n",
    "point_source_flx1 = np.array([[1.0]*len(freqs)]).T\n"
   ]
  },
  {
   "cell_type": "code",
   "execution_count": null,
   "metadata": {
    "ExecuteTime": {
     "end_time": "2019-08-05T17:56:05.579855Z",
     "start_time": "2019-08-05T17:56:05.400082Z"
    }
   },
   "outputs": [],
   "source": [
    "simulator = VisCPU(\n",
    "    uvdata = myuvdata(ntel=3, start_jd = 2458119.5,),\n",
    "    point_source_pos=point_source_pos1,\n",
    "    point_source_flux = point_source_flx1,\n",
    "    sky_freqs = freqs\n",
    ")\n",
    "\n",
    "simulator_jd = VisCPU(\n",
    "    uvdata = myuvdata(ntel=3, start_jd = 2458119.0,),\n",
    "    point_source_pos=point_source_pos1,\n",
    "    point_source_flux = point_source_flx1,\n",
    "    sky_freqs = freqs\n",
    ")"
   ]
  },
  {
   "cell_type": "code",
   "execution_count": null,
   "metadata": {
    "ExecuteTime": {
     "end_time": "2019-08-05T17:56:11.555502Z",
     "start_time": "2019-08-05T17:56:10.698267Z"
    }
   },
   "outputs": [],
   "source": [
    "vis = simulator.simulate()\n",
    "plot_blts(simulator)\n",
    "\n",
    "vis_jd = simulator_jd.simulate()\n",
    "plot_blts(simulator_jd)"
   ]
  },
  {
   "cell_type": "markdown",
   "metadata": {},
   "source": [
    "In this, the beam was not set, and therefore the beam was assumed to be unity everywhere above the horizon. The beam can be set as a series of healpix maps, one for each antenna. \n",
    "An extra list of ``beam_ids`` specifies which of the beams each antenna uses. So, we can create something like a Gaussian beam:"
   ]
  },
  {
   "cell_type": "code",
   "execution_count": null,
   "metadata": {
    "ExecuteTime": {
     "end_time": "2019-05-14T22:20:20.883112Z",
     "start_time": "2019-05-14T22:20:20.634454Z"
    }
   },
   "outputs": [],
   "source": [
    "simulator = VisCPU(\n",
    "    uvdata = myuvdata(),\n",
    "    sky_intensity = uniform_sky(6),\n",
    "    sky_freqs = freqs,\n",
    "    beams = [AnalyticBeam(\"gaussian\", diameter=14)]\n",
    ")"
   ]
  },
  {
   "cell_type": "code",
   "execution_count": null,
   "metadata": {
    "ExecuteTime": {
     "end_time": "2019-05-14T22:20:34.967661Z",
     "start_time": "2019-05-14T22:20:26.331009Z"
    }
   },
   "outputs": [],
   "source": [
    "vis = simulator.simulate()\n",
    "plot_blts(simulator)"
   ]
  },
  {
   "cell_type": "markdown",
   "metadata": {},
   "source": [
    "## HealVis"
   ]
  },
  {
   "cell_type": "markdown",
   "metadata": {},
   "source": [
    "We could also have used healvis for this:"
   ]
  },
  {
   "cell_type": "code",
   "execution_count": null,
   "metadata": {
    "ExecuteTime": {
     "end_time": "2019-05-22T19:31:01.688674Z",
     "start_time": "2019-05-22T19:31:01.330386Z"
    }
   },
   "outputs": [],
   "source": [
    "simulator = HealVis(\n",
    "    uvdata = myuvdata(ntel=3),\n",
    "    sky_freqs = freqs,\n",
    "    sky_intensity = 100*uniform_sky(6),\n",
    ")"
   ]
  },
  {
   "cell_type": "code",
   "execution_count": null,
   "metadata": {
    "ExecuteTime": {
     "end_time": "2019-05-22T19:31:09.177293Z",
     "start_time": "2019-05-22T19:31:02.761163Z"
    }
   },
   "outputs": [],
   "source": [
    "vis = simulator.simulate()"
   ]
  },
  {
   "cell_type": "code",
   "execution_count": null,
   "metadata": {
    "ExecuteTime": {
     "end_time": "2019-05-22T19:31:24.428446Z",
     "start_time": "2019-05-22T19:31:23.918156Z"
    }
   },
   "outputs": [],
   "source": [
    "plot_blts(simulator)\n",
    "fig = plt.gcf()"
   ]
  },
  {
   "cell_type": "code",
   "execution_count": null,
   "metadata": {
    "ExecuteTime": {
     "end_time": "2019-08-05T17:57:28.075735Z",
     "start_time": "2019-08-05T17:57:27.931101Z"
    }
   },
   "outputs": [],
   "source": [
    "simulator = HealVis(\n",
    "    uvdata = myuvdata(ntimes=12, ntel=3),\n",
    "    point_source_pos=point_source_pos,\n",
    "    point_source_flux = point_source_flux,\n",
    "    sky_freqs = freqs,\n",
    ")"
   ]
  },
  {
   "cell_type": "code",
   "execution_count": null,
   "metadata": {
    "ExecuteTime": {
     "end_time": "2019-08-05T17:57:32.402519Z",
     "start_time": "2019-08-05T17:57:28.827536Z"
    }
   },
   "outputs": [],
   "source": [
    "vis = simulator.simulate()\n",
    "plot_blts(simulator)"
   ]
  },
  {
   "cell_type": "markdown",
   "metadata": {},
   "source": [
    "## Comparing VisCPU & HealVis"
   ]
  },
  {
   "cell_type": "markdown",
   "metadata": {},
   "source": [
    "### Airy Beams"
   ]
  },
  {
   "cell_type": "code",
   "execution_count": null,
   "metadata": {
    "scrolled": false
   },
   "outputs": [],
   "source": [
    "uvdata = myuvdata(ntel=3)\n",
    "uvdata1 = myuvdata(ntel=3)\n",
    "freqs = unique(uvdata.freq_array)\n",
    "nside = 2**4\n",
    "\n",
    "psp = np.array([[0, uvdata.telescope_location_lat_lon_alt[0]]])\n",
    "psf = np.array([[1.0]] * len(freqs))\n",
    "\n",
    "psp, psf = align_src_to_healpix(psp, psf, nside)\n",
    "\n",
    "viscpu_sim = VisCPU(\n",
    "    uvdata=uvdata,\n",
    "    sky_freqs=freqs,\n",
    "    point_source_pos=psp,\n",
    "    point_source_flux=psf,\n",
    "    beams=[AnalyticBeam(\"airy\", diameter=1.75)],\n",
    "    nside=nside\n",
    ")\n",
    "\n",
    "healvis_sim = HealVis(\n",
    "    uvdata=uvdata1,\n",
    "    sky_freqs=freqs,\n",
    "    point_source_pos=psp,\n",
    "    point_source_flux=psf,\n",
    "    beams=[AnalyticBeam(\"airy\", diameter=1.75)],\n",
    "    nside=nside\n",
    ")\n",
    "\n",
    "viscpu = viscpu_sim.simulate()\n",
    "healvis = healvis_sim.simulate()\n",
    "\n",
    "compare_blts(viscpu_sim, healvis_sim)"
   ]
  },
  {
   "cell_type": "markdown",
   "metadata": {},
   "source": [
    "### 2 Telescope Uniform Sky"
   ]
  },
  {
   "cell_type": "code",
   "execution_count": null,
   "metadata": {},
   "outputs": [],
   "source": [
    "uvdata = myuvdata(ntel=2)\n",
    "uvdata1 = myuvdata(ntel=2)\n",
    "\n",
    "freqs = np.unique(uvdata.freq_array)\n",
    "\n",
    "viscpu_sim = VisCPU(\n",
    "    uvdata=myuvdata(ntel=3),\n",
    "    sky_freqs=freqs,\n",
    "    sky_intensity=create_uniform_sky(6),\n",
    "    nside=2**4\n",
    ")\n",
    "\n",
    "healvis_sim = HealVis(\n",
    "    uvdata=myuvdata(ntel=3),\n",
    "    sky_freqs=freqs,\n",
    "    sky_intensity=create_uniform_sky(6),\n",
    "    nside=2 ** 4\n",
    ")\n",
    "\n",
    "viscpu = viscpu_sim.simulate()\n",
    "healvis = healvis_sim.simulate()\n",
    "\n",
    "compare_blts(viscpu_sim, healvis_sim)"
   ]
  },
  {
   "cell_type": "markdown",
   "metadata": {},
   "source": [
    "### 2 Telescope Half Monopole Sky"
   ]
  },
  {
   "cell_type": "code",
   "execution_count": null,
   "metadata": {
    "scrolled": false
   },
   "outputs": [],
   "source": [
    "uvdata = myuvdata(ntel=2, ntimes=10)\n",
    "uvdata1 = myuvdata(ntel=2, ntimes=10)\n",
    "freqs = np.unique(uvdata.freq_array)\n",
    "nbase = 4\n",
    "nside = 2**nbase\n",
    "\n",
    "I_sky = create_uniform_sky(nbase=nbase, scale=1)\n",
    "npix = I_sky[0].shape[0]\n",
    "\n",
    "vec = healpy.ang2vec(np.pi/2, 0)\n",
    "ipix_disc = healpy.query_disc(nside=nside, vec=vec, radius=np.pi/2)\n",
    "for i in range(len(freqs)):\n",
    "    I_sky[i][ipix_disc] = 0\n",
    "healpy.mollview(\n",
    "    I_sky[3],\n",
    "    coord=[\"G\", \"E\"],\n",
    "    title=\"Histogram equalized Ecliptic\",\n",
    "    unit=\"mK\",\n",
    "    norm=\"hist\",\n",
    "    min=-1,\n",
    "    max=1,\n",
    ")\n",
    "healpy.graticule()\n",
    "\n",
    "viscpu_sim = VisCPU(\n",
    "    uvdata=uvdata1,\n",
    "    sky_freqs=freqs,\n",
    "    sky_intensity=I_sky,\n",
    "    nside=nside\n",
    ")\n",
    "\n",
    "healvis_sim = HealVis(\n",
    "    uvdata=uvdata,\n",
    "    sky_freqs=freqs,\n",
    "    sky_intensity=I_sky,\n",
    "    nside=nside\n",
    ")\n",
    "\n",
    "viscpu_sim.simulate()\n",
    "healvis_sim.simulate()\n",
    "\n",
    "viscpu = viscpu_sim.uvdata.data_array\n",
    "healvis = healvis_sim.uvdata.data_array\n",
    "\n",
    "compare_blts(viscpu_sim, healvis_sim)"
   ]
  },
  {
   "cell_type": "markdown",
   "metadata": {},
   "source": [
    "### 2 Telescope Point Source at Zenith"
   ]
  },
  {
   "cell_type": "code",
   "execution_count": null,
   "metadata": {
    "scrolled": false
   },
   "outputs": [],
   "source": [
    "uvdata = myuvdata(ntel=4, ntimes=48)\n",
    "uvdata1 = myuvdata(ntel=4, ntimes=48)\n",
    "freqs = np.unique(uvdata.freq_array)\n",
    "nside = 2**4\n",
    "\n",
    "point_source_pos = np.array([[0, uvdata.telescope_location_lat_lon_alt[0]]])\n",
    "point_source_flux = np.array([[1.0]] * len(freqs))\n",
    "\n",
    "point_source_pos1, point_source_flux1 = align_src_to_healpix(point_source_pos, point_source_flux, nside=nside)\n",
    "\n",
    "viscpu_sim = VisCPU(\n",
    "    uvdata=uvdata,\n",
    "    sky_freqs=freqs,\n",
    "    point_source_pos=point_source_pos1,\n",
    "    point_source_flux=point_source_flux1,\n",
    "    nside=nside\n",
    ")\n",
    "\n",
    "healvis_sim = HealVis(\n",
    "    uvdata=uvdata1,\n",
    "    sky_freqs=freqs,\n",
    "    point_source_pos=point_source_pos1,\n",
    "    point_source_flux=point_source_flux1,\n",
    "    nside=nside\n",
    ")\n",
    "\n",
    "viscpu_sim.simulate()\n",
    "healvis_sim.simulate()\n",
    "\n",
    "viscpu = viscpu_sim.uvdata.data_array\n",
    "healvis = healvis_sim.uvdata.data_array\n",
    "\n",
    "compare_blts(viscpu_sim, healvis_sim)"
   ]
  },
  {
   "cell_type": "markdown",
   "metadata": {},
   "source": [
    "### 2 Telescope 2 Point Sources"
   ]
  },
  {
   "cell_type": "code",
   "execution_count": null,
   "metadata": {
    "scrolled": false
   },
   "outputs": [],
   "source": [
    "uvdata = myuvdata(ntel=2, ntimes=10)\n",
    "uvdata1 = myuvdata(ntel=2, ntimes=10)\n",
    "freqs = np.unique(uvdata.freq_array)\n",
    "\n",
    "nside = 2 ** 4\n",
    "\n",
    "# put a point source in\n",
    "point_source_pos = np.array([[0, uvdata.telescope_location_lat_lon_alt[0] + np.pi/4],\n",
    "                             [0, uvdata.telescope_location_lat_lon_alt[0]]])\n",
    "point_source_flux = np.array([[1, 1]] * len(freqs))\n",
    "\n",
    "# align to healpix center for direct comparision\n",
    "point_source_pos, point_source_flux = align_src_to_healpix(point_source_pos, point_source_flux, nside=nside)\n",
    "\n",
    "viscpu_sim = VisCPU(\n",
    "    uvdata=uvdata,\n",
    "    sky_freqs=freqs,\n",
    "    point_source_flux=point_source_flux,\n",
    "    point_source_pos=point_source_pos,\n",
    "    nside=nside\n",
    ")\n",
    "\n",
    "healvis_sim = HealVis(\n",
    "    uvdata=uvdata1,\n",
    "    sky_freqs=freqs,\n",
    "    point_source_flux=point_source_flux,\n",
    "    point_source_pos=point_source_pos,\n",
    "    nside=nside\n",
    ")\n",
    "\n",
    "viscpu_sim.simulate()\n",
    "healvis_sim.simulate()\n",
    "\n",
    "viscpu = viscpu_sim.uvdata.data_array\n",
    "healvis = healvis_sim.uvdata.data_array\n",
    "\n",
    "compare_blts(viscpu_sim, healvis_sim)"
   ]
  }
 ],
 "metadata": {
  "celltoolbar": "Initialization Cell",
  "kernelspec": {
   "display_name": "Python 3",
   "language": "python",
   "name": "python3"
  },
  "language_info": {
   "codemirror_mode": {
    "name": "ipython",
    "version": 3
   },
   "file_extension": ".py",
   "mimetype": "text/x-python",
   "name": "python",
   "nbconvert_exporter": "python",
   "pygments_lexer": "ipython3",
   "version": "3.6.9"
  },
  "latex_envs": {
   "LaTeX_envs_menu_present": true,
   "autoclose": true,
   "autocomplete": true,
   "bibliofile": "biblio.bib",
   "cite_by": "apalike",
   "current_citInitial": 1,
   "eqLabelWithNumbers": true,
   "eqNumInitial": 1,
   "hotkeys": {
    "equation": "Ctrl-E",
    "itemize": "Ctrl-I"
   },
   "labels_anchors": false,
   "latex_user_defs": false,
   "report_style_numbering": false,
   "user_envs_cfg": false
  },
  "toc": {
   "base_numbering": 1,
   "nav_menu": {},
   "number_sections": true,
   "sideBar": true,
   "skip_h1_title": false,
   "title_cell": "Table of Contents",
   "title_sidebar": "Contents",
   "toc_cell": false,
   "toc_position": {},
   "toc_section_display": true,
   "toc_window_display": true
  }
 },
 "nbformat": 4,
 "nbformat_minor": 2
}
