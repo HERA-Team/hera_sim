{
 "cells": [
  {
   "cell_type": "markdown",
   "metadata": {},
   "source": [
    "# Visibility Simulator Examples"
   ]
  },
  {
   "cell_type": "markdown",
   "metadata": {},
   "source": [
    "Although ``hera_sim`` is primarily aimed at simulating instrumental effects _on top_ of existing visibility simulations, it also provides a neat interface to several visibility simulators.\n",
    "\n",
    "It does so through the base class ``VisibilitySimulator``, which sets a standard API from which all simulators must derive."
   ]
  },
  {
   "cell_type": "code",
   "execution_count": 1,
   "metadata": {
    "ExecuteTime": {
     "end_time": "2019-08-05T17:56:02.830272Z",
     "start_time": "2019-08-05T17:55:59.893082Z"
    },
    "init_cell": true
   },
   "outputs": [
    {
     "name": "stderr",
     "output_type": "stream",
     "text": [
      "/home/jackson/hera/hera_sim/hera_sim/hera_sim/__init__.py:35: FutureWarning: \n",
      "In the next major release, all HERA-specific variables will be removed from the codebase. The following variables will need to be accessed through new class-like structures to be introduced in the next major release: \n",
      "\n",
      "noise.HERA_Tsky_mdl\n",
      "noise.HERA_BEAM_POLY\n",
      "sigchain.HERA_NRAO_BANDPASS\n",
      "rfi.HERA_RFI_STATIONS\n",
      "\n",
      "Additionally, the next major release will involve modifications to the package's API, which move toward a regularization of the way in which hera_sim methods are interfaced with; in particular, changes will be made such that the Simulator class is the most intuitive way of interfacing with the hera_sim package features.\n",
      "  FutureWarning)\n"
     ]
    }
   ],
   "source": [
    "from hera_sim.visibilities import VisCPU, HealVis\n",
    "from hera_sim import io\n",
    "import numpy as np\n",
    "import healpy\n",
    "import matplotlib.pyplot as plt\n",
    "import pyuvsim\n",
    "from pyuvsim.analyticbeam import AnalyticBeam\n",
    "from astropy.units import sday\n",
    "import matplotlib as mpl\n",
    "mpl.rcParams['lines.linewidth'] = 3\n",
    "mpl.rcParams[\"legend.loc\"] = 'upper left'\n",
    "\n",
    "%matplotlib inline\n",
    "%load_ext autoreload\n",
    "%autoreload 2"
   ]
  },
  {
   "cell_type": "markdown",
   "metadata": {},
   "source": [
    "First, we will load a few scripts that will be useful later for displaying how the visibilities evolve over time. "
   ]
  },
  {
   "cell_type": "code",
   "execution_count": 2,
   "metadata": {},
   "outputs": [],
   "source": [
    "# Displays the real and imaginary components of all autocorrelations on plot one\n",
    "# and real and imaginary components of all cross-correlations on a plot two.\n",
    "def plot_blts(simulator):\n",
    "    fig, ax = plt.subplots(2, 1, sharex=True, \n",
    "                           subplot_kw={\"ylabel\":\"|Visibility| [Jy]\"}, figsize=(16,8))\n",
    "    fig.suptitle(type(simulator).__name__, fontweight='bold')\n",
    "    for i in simulator.uvdata.antenna_numbers:\n",
    "        auto_ind = simulator.uvdata.antpair2ind((i,i))\n",
    "        auto_cor = simulator.uvdata.data_array[auto_ind, 0, 0, 0]\n",
    "        ax[0].plot(auto_cor.real, label=\"ant_{} real\".format(i))\n",
    "        ax[0].plot(auto_cor.imag, linestyle=\"--\", label=\"ant_{} imag\".format(i))\n",
    "\n",
    "        for j in simulator.uvdata.antenna_numbers[(i+1):]:\n",
    "            cross_ind = simulator.uvdata.antpair2ind((i,j))\n",
    "            cross_cor = simulator.uvdata.data_array[cross_ind, 0, 0, 0]\n",
    "            ax[1].plot(cross_cor.real, label=\"bl({},{}) real\".format(i,j))\n",
    "            ax[1].plot(cross_cor.imag, linestyle=\"--\", label=\"bl({},{}) imag\".format(i,j))\n",
    "    ax[0].legend()\n",
    "    ax[1].legend()\n",
    "    ax[0].set_title(\"Autocorrelations\")\n",
    "    ax[1].set_title(\"Cross-Correlations\")\n",
    "    ax[1].set_xlabel(\"Observation Number\")\n",
    "\n",
    "# Displays the real components of all autocorrelations of two simulators on\n",
    "# plot one, the real compoents of all cross-correlations on plot two, and\n",
    "# the difference between the real components of cross-correlations on plot\n",
    "# three (simulator2 - simulator1).\n",
    "def compare_blts(simulator1, simulator2):\n",
    "    fig, ax = plt.subplots(3, 1, sharex=True, \n",
    "                           subplot_kw={\"ylabel\":\"|Visibility| [Jy]\"}, figsize=(16, 12)) \n",
    "    name1 = type(simulator1).__name__\n",
    "    name2 = type(simulator2).__name__\n",
    "    fig.suptitle(name1 + \" vs \" + name2, fontweight='bold')\n",
    "    k = 0\n",
    "    for i in simulator1.uvdata.antenna_numbers:\n",
    "        auto_ind = simulator1.uvdata.antpair2ind((i,i))\n",
    "        auto1 = np.real(simulator1.uvdata.data_array[auto_ind, 0, 0, 0])\n",
    "        auto2 = np.real(simulator2.uvdata.data_array[auto_ind, 0, 0, 0])               \n",
    "        ax[0].plot(auto1, label=(\"ant_{} \" + name1).format(i))\n",
    "        ax[0].plot(auto2, linestyle=\"--\", label=(\"ant_{} \" + name2).format(i))\n",
    "        for j in simulator1.uvdata.antenna_numbers[(i+1):]:\n",
    "            cross_ind = simulator1.uvdata.antpair2ind((i,j))\n",
    "            cross1 = np.real(simulator1.uvdata.data_array[cross_ind, 0, 0, 0])\n",
    "            cross2 = np.real(simulator2.uvdata.data_array[cross_ind, 0, 0, 0])       \n",
    "            ax[1].plot(cross1, label=(\"bl({},{}) \" + name1).format(i,j))\n",
    "            ax[1].plot(cross2, linestyle=\"--\", label=(\"bl({},{}) \" + name2).format(i,j))\n",
    "            ax[2].plot(cross2 - cross1, label=(\"bl({},{}) \" + \"Difference\").format(i,j), color=str(k/(k+1)))\n",
    "            k += 1\n",
    "    [a.legend() for a in ax]\n",
    "    ax[0].set_title(\"Autocorrelations\")\n",
    "    ax[1].set_title(\"Cross-Correlations\")\n",
    "    ax[2].set_title(name2 + \" Cross-Correlation minus \" + name1 + \" Cross-Correlation\")\n",
    "    ax[-1].set_xlabel(\"Observation Number\")"
   ]
  },
  {
   "cell_type": "markdown",
   "metadata": {},
   "source": [
    "The `VisibilitySimulator` class uses `HEALPix` maps to represent diffuse emission:"
   ]
  },
  {
   "cell_type": "code",
   "execution_count": 3,
   "metadata": {
    "ExecuteTime": {
     "end_time": "2019-08-05T17:56:02.934971Z",
     "start_time": "2019-08-05T17:56:02.894416Z"
    },
    "init_cell": true
   },
   "outputs": [],
   "source": [
    "def uniform_sky(nbase=4, scale=1, nfreq=5):\n",
    "    \"\"\"Create a uniform sky with total (integrated) flux density of `scale`.\"\"\"\n",
    "    nside = 2 ** nbase\n",
    "    npix = 12 * nside ** 2\n",
    "    return np.ones((nfreq, npix)) * scale / (4 * np.pi)\n",
    "\n",
    "def half_uniform_sky(nbase=4, scale=1, nfreq=5):\n",
    "    \"\"\"Create a sky where half is uniform with total (integrated) flux density \n",
    "    of `scale` and half has zero flux.\n",
    "    \"\"\"\n",
    "    I_sky = uniform_sky(nbase=nbase, scale=2*scale, nfreq=nfreq)\n",
    "    npix = I_sky[0].shape[0]\n",
    "    vec = healpy.ang2vec(np.pi/2, 0)\n",
    "    # Zero out values within pi/2 of (theta=pi/2, phi=0)\n",
    "    ipix_disc = healpy.query_disc(nside=2**nbase, vec=vec, radius=np.pi/2)\n",
    "    for i in range(nfreq):\n",
    "        I_sky[i][ipix_disc] = 0\n",
    "    return I_sky"
   ]
  },
  {
   "cell_type": "markdown",
   "metadata": {},
   "source": [
    "Other than the sky model (we'll revisit this soon), the ``VisibilitySimulator`` requires a ``UVData`` object to specify the observation parameters, as well as a list of ``UVBeam``s to specify the beams for each antenna. This makes it fully consistent with the interface provided by ``pyuvsim``, and many of the methods found in ``pyuvsim`` for creating ``UVData`` objects and ``UVBeam`` objects from YAML specifications can be used here. Indeed, a dictionary of so-called ``obsparams``, or a file-name for an appropriate YAML file, can be passed in lieu of the ``UVData`` and ``UVBeam``. \n",
    "\n",
    "For simplicity, let us simply use the native ``empty_uvdata`` function instead:"
   ]
  },
  {
   "cell_type": "code",
   "execution_count": null,
   "metadata": {
    "ExecuteTime": {
     "end_time": "2019-08-05T17:56:04.496632Z",
     "start_time": "2019-08-05T17:56:02.937939Z"
    },
    "init_cell": true
   },
   "outputs": [],
   "source": [
    "def myuvdata(ntimes=48, ntel=2, **kwargs):\n",
    "    \n",
    "    # Choosing antenna postions in a deterministic way\n",
    "    ants = {}\n",
    "    for i in range(ntel):\n",
    "        ants.update([(i, (-(i % 3), i, i % 4))])\n",
    "      \n",
    "    return io.empty_uvdata(\n",
    "        nfreq=5,\n",
    "        integration_time=sday.to('s')/ntimes,\n",
    "        ntimes=ntimes,\n",
    "        ants=ants,\n",
    "        **kwargs\n",
    "    )"
   ]
  },
  {
   "cell_type": "markdown",
   "metadata": {},
   "source": [
    "## HealVis"
   ]
  },
  {
   "cell_type": "code",
   "execution_count": null,
   "metadata": {},
   "outputs": [],
   "source": [
    "uvdata = myuvdata()\n",
    "freqs = np.unique(uvdata.freq_array)\n",
    "nbase = 4\n",
    "nside = 2**nbase\n",
    "I_sky = uniform_sky()\n",
    "\n",
    "simulator = HealVis(\n",
    "    uvdata=uvdata,\n",
    "    sky_freqs=freqs,\n",
    "    sky_intensity=I_sky\n",
    ")"
   ]
  },
  {
   "cell_type": "code",
   "execution_count": null,
   "metadata": {
    "scrolled": false
   },
   "outputs": [],
   "source": [
    "vis = simulator.simulate()\n",
    "plot_blts(simulator)"
   ]
  },
  {
   "cell_type": "markdown",
   "metadata": {},
   "source": [
    "`VisibilitySimulators` can also take point sources as inputs. `point_source_pos` is an array of each source position in (ra, dec). `point_source_flux` is an array of each source flux at each frequency in Jy."
   ]
  },
  {
   "cell_type": "code",
   "execution_count": null,
   "metadata": {},
   "outputs": [],
   "source": [
    "uvdata = myuvdata()\n",
    "freqs = np.unique(uvdata.freq_array)\n",
    "nbase = 5\n",
    "nside = 2**nbase\n",
    "psp = np.array([[0, uvdata.telescope_location_lat_lon_alt[0]]])\n",
    "psf = np.array([[1.0]] * len(freqs))\n",
    "\n",
    "simulator = HealVis(\n",
    "    uvdata=uvdata,\n",
    "    sky_freqs=freqs,\n",
    "    point_source_pos=psp,\n",
    "    point_source_flux=psf,\n",
    "    nside=nside\n",
    ")"
   ]
  },
  {
   "cell_type": "code",
   "execution_count": null,
   "metadata": {
    "scrolled": false
   },
   "outputs": [],
   "source": [
    "vis = simulator.simulate()\n",
    "plot_blts(simulator)"
   ]
  },
  {
   "cell_type": "markdown",
   "metadata": {},
   "source": [
    "## VisCPU"
   ]
  },
  {
   "cell_type": "markdown",
   "metadata": {},
   "source": [
    "We could have also used `VisCPU` for this:"
   ]
  },
  {
   "cell_type": "code",
   "execution_count": null,
   "metadata": {},
   "outputs": [],
   "source": [
    "uvdata = myuvdata()\n",
    "freqs = np.unique(uvdata.freq_array)\n",
    "psp = np.array([[0, uvdata.telescope_location_lat_lon_alt[0]]])\n",
    "psf = np.array([[1.0]] * len(freqs))\n",
    "\n",
    "simulator = VisCPU(\n",
    "    uvdata=uvdata,\n",
    "    sky_freqs=freqs,\n",
    "    point_source_pos=psp,\n",
    "    point_source_flux=psf\n",
    ")"
   ]
  },
  {
   "cell_type": "code",
   "execution_count": null,
   "metadata": {},
   "outputs": [],
   "source": [
    "vis = simulator.simulate()\n",
    "plot_blts(simulator)"
   ]
  },
  {
   "cell_type": "markdown",
   "metadata": {},
   "source": [
    "In this, the beam was not set, and therefore the beam was assumed to be unity everywhere above the horizon. Each beam is of type `pyuvsim.analyticbeam.AnalyticBeam`, one for each antenna. \n",
    "If included, an extra list of `beam_ids` specifies which of the beams each antenna uses. Otherwise by default all antennas are assumed to use the zeroth entry in `beams`. So, we can create something like one beam being Gaussian and the other uniform:"
   ]
  },
  {
   "cell_type": "code",
   "execution_count": null,
   "metadata": {
    "ExecuteTime": {
     "end_time": "2019-05-14T22:20:20.883112Z",
     "start_time": "2019-05-14T22:20:20.634454Z"
    }
   },
   "outputs": [],
   "source": [
    "uvdata = myuvdata()\n",
    "freqs = np.unique(uvdata.freq_array)\n",
    "nbase = 5\n",
    "nside = 2**nbase\n",
    "psp = np.array([[0, uvdata.telescope_location_lat_lon_alt[0]]])\n",
    "psf = np.array([[1.0]] * len(freqs))\n",
    "simulator = VisCPU(\n",
    "    uvdata=uvdata,\n",
    "    sky_freqs=freqs,\n",
    "    point_source_pos=psp,\n",
    "    point_source_flux=psf,\n",
    "    beams=[AnalyticBeam(\"gaussian\", sigma=0.5), AnalyticBeam(\"uniform\")],\n",
    "    beam_ids=[0, 1],\n",
    "    nside=nside\n",
    ")"
   ]
  },
  {
   "cell_type": "code",
   "execution_count": null,
   "metadata": {
    "ExecuteTime": {
     "end_time": "2019-05-14T22:20:34.967661Z",
     "start_time": "2019-05-14T22:20:26.331009Z"
    }
   },
   "outputs": [],
   "source": [
    "vis = simulator.simulate()\n",
    "plot_blts(simulator)"
   ]
  },
  {
   "cell_type": "markdown",
   "metadata": {},
   "source": [
    "## Comparing VisCPU & HealVis"
   ]
  },
  {
   "cell_type": "markdown",
   "metadata": {},
   "source": [
    "To compare `VisCPU` and `Healvis` most accurately we must take into account how they sources differently. `VisCPU` treats the sky as a collection of point sources while `Healvis` must convert point sources into `HEALPix` maps. Error is introduced if a point source location is not at the center of a `HEALPix` pixel. To account for this we can relocate point sources to their nearest `HEALPix` centers before passing them in as arguments using `align_src_to_healpix`."
   ]
  },
  {
   "cell_type": "code",
   "execution_count": null,
   "metadata": {},
   "outputs": [],
   "source": [
    "def align_src_to_healpix(point_source_pos, point_source_flux, nside=2**4):\n",
    "    \"\"\"Where the point sources will be placed when converted to healpix model\n",
    "    \n",
    "    Parameters\n",
    "    ----------\n",
    "    point_source_pos : ndarray\n",
    "        Positions of point sources to be passed to a Simulator.\n",
    "    point_source_flux : ndarray\n",
    "        Corresponding fluxes of point sources at each frequency.\n",
    "    nside : int\n",
    "        Healpy nside parameter.\n",
    "        \n",
    "\n",
    "    Returns\n",
    "    -------\n",
    "    new_pos: ndarray\n",
    "        Point sources positioned at their nearest healpix centers.\n",
    "    new_flux: ndarray\n",
    "        Corresponding new flux values.       \n",
    "    \"\"\"\n",
    "    \n",
    "    hmap = np.zeros((len(point_source_flux), healpy.nside2npix(nside)))\n",
    "\n",
    "    # Get which pixel every point source lies in.\n",
    "    pix = healpy.ang2pix(nside, np.pi/2 - point_source_pos[:, 1], point_source_pos[:, 0])\n",
    "\n",
    "    hmap[:, pix] += point_source_flux / healpy.nside2pixarea(nside)\n",
    "    nside = healpy.get_nside(hmap[0])\n",
    "    ra, dec = healpy.pix2ang(nside, np.arange(len(hmap[0])), lonlat=True)\n",
    "    flux = hmap * healpy.nside2pixarea(nside)\n",
    "    return np.array([ra*np.pi/180, dec*np.pi/180]).T, flux"
   ]
  },
  {
   "cell_type": "markdown",
   "metadata": {},
   "source": [
    "### Multiple Point Sources"
   ]
  },
  {
   "cell_type": "code",
   "execution_count": null,
   "metadata": {},
   "outputs": [],
   "source": [
    "uvdata = myuvdata(ntel=3)\n",
    "uvdata1 = myuvdata(ntel=3)\n",
    "freqs = np.unique(uvdata.freq_array)\n",
    "nbase = 5\n",
    "nside = 2**nbase\n",
    "\n",
    "psp = np.array([[0, uvdata.telescope_location_lat_lon_alt[0] + np.pi/4],\n",
    "                [0, uvdata.telescope_location_lat_lon_alt[0]]])\n",
    "psf = np.array([[1.0, 1.0]] * len(freqs))\n",
    "psp, psf = align_src_to_healpix(psp, psf, nside)\n",
    "\n",
    "viscpu_sim = VisCPU(\n",
    "    uvdata=uvdata,\n",
    "    sky_freqs=freqs,\n",
    "    point_source_pos=psp,\n",
    "    point_source_flux=psf,\n",
    "    nside=nside\n",
    ")\n",
    "\n",
    "healvis_sim = HealVis(\n",
    "    uvdata=uvdata1,\n",
    "    sky_freqs=freqs,\n",
    "    point_source_pos=psp,\n",
    "    point_source_flux=psf,\n",
    "    nside=nside\n",
    ")"
   ]
  },
  {
   "cell_type": "code",
   "execution_count": null,
   "metadata": {
    "scrolled": false
   },
   "outputs": [],
   "source": [
    "viscpu = viscpu_sim.simulate()\n",
    "healvis = healvis_sim.simulate()\n",
    "compare_blts(viscpu_sim, healvis_sim)"
   ]
  },
  {
   "cell_type": "markdown",
   "metadata": {},
   "source": [
    "### Half Uniform Sky"
   ]
  },
  {
   "cell_type": "code",
   "execution_count": null,
   "metadata": {
    "scrolled": false
   },
   "outputs": [],
   "source": [
    "uvdata = myuvdata(ntel=3)\n",
    "uvdata1 = myuvdata(ntel=3)\n",
    "freqs = np.unique(uvdata.freq_array)\n",
    "nbase = 4\n",
    "nside = 2**nbase\n",
    "I_sky = half_uniform_sky()\n",
    "\n",
    "viscpu_sim = VisCPU(\n",
    "    uvdata=uvdata1,\n",
    "    sky_freqs=freqs,\n",
    "    sky_intensity=I_sky,\n",
    "    nside=nside\n",
    ")\n",
    "\n",
    "healvis_sim = HealVis(\n",
    "    uvdata=uvdata,\n",
    "    sky_freqs=freqs,\n",
    "    sky_intensity=I_sky,\n",
    "    nside=nside\n",
    ")"
   ]
  },
  {
   "cell_type": "code",
   "execution_count": null,
   "metadata": {
    "scrolled": false
   },
   "outputs": [],
   "source": [
    "viscpu = viscpu_sim.simulate()\n",
    "healvis = healvis_sim.simulate()\n",
    "compare_blts(viscpu_sim, healvis_sim)"
   ]
  },
  {
   "cell_type": "markdown",
   "metadata": {},
   "source": [
    "### Airy Beams"
   ]
  },
  {
   "cell_type": "code",
   "execution_count": null,
   "metadata": {},
   "outputs": [],
   "source": [
    "uvdata = myuvdata(ntel=3)\n",
    "uvdata1 = myuvdata(ntel=3)\n",
    "freqs = np.unique(uvdata.freq_array)\n",
    "nbase = 4\n",
    "nside = 2**nbase\n",
    "\n",
    "psp = np.array([[0, uvdata.telescope_location_lat_lon_alt[0]]])\n",
    "psf = np.array([[1.0]] * len(freqs))\n",
    "\n",
    "psp, psf = align_src_to_healpix(psp, psf, nside)\n",
    "\n",
    "viscpu_sim = VisCPU(\n",
    "    uvdata=uvdata,\n",
    "    sky_freqs=freqs,\n",
    "    point_source_pos=psp,\n",
    "    point_source_flux=psf,\n",
    "    beams=[AnalyticBeam(\"airy\", diameter=1.25)],\n",
    "    nside=nside\n",
    ")\n",
    "\n",
    "healvis_sim = HealVis(\n",
    "    uvdata=uvdata1,\n",
    "    sky_freqs=freqs,\n",
    "    point_source_pos=psp,\n",
    "    point_source_flux=psf,\n",
    "    beams=[AnalyticBeam(\"airy\", diameter=1.25)],\n",
    "    nside=nside\n",
    ")"
   ]
  },
  {
   "cell_type": "code",
   "execution_count": null,
   "metadata": {
    "scrolled": false
   },
   "outputs": [],
   "source": [
    "viscpu = viscpu_sim.simulate()\n",
    "healvis = healvis_sim.simulate()\n",
    "compare_blts(viscpu_sim, healvis_sim)"
   ]
  },
  {
   "cell_type": "markdown",
   "metadata": {},
   "source": [
    "### All Together"
   ]
  },
  {
   "cell_type": "code",
   "execution_count": null,
   "metadata": {
    "scrolled": false
   },
   "outputs": [],
   "source": [
    "uvdata = myuvdata(ntel=3)\n",
    "uvdata1 = myuvdata(ntel=3)\n",
    "freqs = np.unique(uvdata.freq_array)\n",
    "nbase = 5\n",
    "nside = 2**nbase\n",
    "\n",
    "psp = np.array([[0, uvdata.telescope_location_lat_lon_alt[0] + np.pi/4],\n",
    "                [0, uvdata.telescope_location_lat_lon_alt[0]]])\n",
    "psf = np.array([[1.0, 1.0]] * len(freqs))\n",
    "psp, psf = align_src_to_healpix(psp, psf, nside)\n",
    "\n",
    "viscpu_sim = VisCPU(\n",
    "    uvdata=uvdata,\n",
    "    sky_freqs=freqs,\n",
    "    sky_intensity = half_uniform_sky(nbase),\n",
    "    point_source_pos=psp,\n",
    "    point_source_flux=psf,\n",
    "    beams=[AnalyticBeam(\"airy\", diameter=1.25)],\n",
    "    nside=nside\n",
    ")\n",
    "\n",
    "healvis_sim = HealVis(\n",
    "    uvdata=uvdata1,\n",
    "    sky_freqs=freqs,\n",
    "    sky_intensity = half_uniform_sky(nbase),\n",
    "    point_source_pos=psp,\n",
    "    point_source_flux=psf,\n",
    "    beams=[AnalyticBeam(\"airy\", diameter=1.25)],\n",
    "    nside=nside\n",
    ")"
   ]
  },
  {
   "cell_type": "code",
   "execution_count": null,
   "metadata": {
    "scrolled": false
   },
   "outputs": [],
   "source": [
    "viscpu = viscpu_sim.simulate()\n",
    "healvis = healvis_sim.simulate()\n",
    "compare_blts(viscpu_sim, healvis_sim)"
   ]
  },
  {
   "cell_type": "markdown",
   "metadata": {},
   "source": [
    "### Example HERA Simulation"
   ]
  },
  {
   "cell_type": "code",
   "execution_count": null,
   "metadata": {},
   "outputs": [],
   "source": [
    "from astropy import constants as cnst\n",
    "def K_to_Jy_sr(I_sky, freqs):\n",
    "    I_sky = intensity.T\n",
    "    I_sky /= 10**-26 \n",
    "    I_sky /= ((cnst.c.to(\"m/s\").value/freqs)**2\n",
    "                  / (2 * cnst.k_B.value))\n",
    "    I_sky = I_sky.T"
   ]
  },
  {
   "cell_type": "code",
   "execution_count": 18,
   "metadata": {},
   "outputs": [],
   "source": [
    "NTIMES = 4\n",
    "\n",
    "# Converting HERA_350.csv to an antenna layout dict\n",
    "ant_layout = pyuvsim.simsetup._parse_layout_csv(\"HERA_350.csv\")\n",
    "E, N, U, number = ant_layout['e'], ant_layout['n'], ant_layout['u'], ant_layout['number']\n",
    "    \n",
    "ants = {}\n",
    "for i in range(len(number)):\n",
    "    ants.update({number[i] : (E[i], N[i], U[i])})\n",
    "    \n",
    "uvdata = io.empty_uvdata(\n",
    "                ants=ants,\n",
    "                nfreq=5,\n",
    "                integration_time=sday.to('s')/NTIMES,\n",
    "                ntimes=NTIMES\n",
    "               )\n",
    "\n",
    "uvdata1 = io.empty_uvdata(\n",
    "                ants=ants,\n",
    "                nfreq=5,\n",
    "                integration_time=sday.to('s')/NTIMES,\n",
    "                ntimes=NTIMES\n",
    "               )"
   ]
  },
  {
   "cell_type": "code",
   "execution_count": 19,
   "metadata": {},
   "outputs": [],
   "source": [
    "import pygsm\n",
    "from astropy import constants as cnst\n",
    "freqs = np.unique(uvdata.freq_array)\n",
    "I_sky = pygsm.GlobalSkyModel(freq_unit='Hz', basemap='haslam').generate(freqs)\n",
    "\n",
    "# Convert from K to Jy/sr\n",
    "I_sky = I_sky.T\n",
    "I_sky /= 10**-26\n",
    "I_sky /= ((cnst.c.to(\"m/s\").value/freqs)**2\n",
    "                      / (2 * cnst.k_B.value))\n",
    "I_sky = I_sky.T"
   ]
  },
  {
   "cell_type": "code",
   "execution_count": 20,
   "metadata": {},
   "outputs": [],
   "source": [
    "viscpu_sim = VisCPU(\n",
    "    uvdata=uvdata1,\n",
    "    sky_intensity=I_sky,\n",
    ")\n",
    "\n",
    "healvis_sim = HealVis(\n",
    "    uvdata=uvdata,\n",
    "    sky_intensity=I_sky,\n",
    ")"
   ]
  },
  {
   "cell_type": "code",
   "execution_count": null,
   "metadata": {
    "scrolled": false
   },
   "outputs": [
    {
     "name": "stderr",
     "output_type": "stream",
     "text": [
      "\n",
      "Compilation is falling back to object mode WITH looplifting enabled because Function \"make_fringe\" failed type inference due to: Use of unsupported NumPy function 'numpy.einsum' or unsupported use of the function.\n",
      "\n",
      "File \"../../../healvis/healvis/observatory.py\", line 42:\n",
      "def make_fringe(az, za, freq, enu):\n",
      "    <source elided>\n",
      "    uvw = np.outer(enu, 1 / (c_ms / freq))  # In wavelengths\n",
      "    udotl = np.einsum(\"jk,jl->kl\", lmn, uvw)\n",
      "    ^\n",
      "\n",
      "[1] During: typing of get attribute at /home/jackson/hera/hera_sim/healvis/healvis/observatory.py (42)\n",
      "\n",
      "File \"../../../healvis/healvis/observatory.py\", line 42:\n",
      "def make_fringe(az, za, freq, enu):\n",
      "    <source elided>\n",
      "    uvw = np.outer(enu, 1 / (c_ms / freq))  # In wavelengths\n",
      "    udotl = np.einsum(\"jk,jl->kl\", lmn, uvw)\n",
      "    ^\n",
      "\n",
      "Function \"make_fringe\" was compiled in object mode without forceobj=True.\n",
      "\n",
      "File \"../../../healvis/healvis/observatory.py\", line 31:\n",
      "@jit\n",
      "def make_fringe(az, za, freq, enu):\n",
      "^\n",
      "\n",
      "\n",
      "Fall-back from the nopython compilation path to the object mode compilation path has been detected, this is deprecated behaviour.\n",
      "\n",
      "For more information visit http://numba.pydata.org/numba-doc/latest/reference/deprecation.html#deprecation-of-object-mode-fall-back-behaviour-when-using-jit\n",
      "\n",
      "File \"../../../healvis/healvis/observatory.py\", line 31:\n",
      "@jit\n",
      "def make_fringe(az, za, freq, enu):\n",
      "^\n",
      "\n"
     ]
    }
   ],
   "source": [
    "viscpu = viscpu_sim.simulate()\n",
    "np.save(\"hera_350_vis.npy\", viscpu)"
   ]
  },
  {
   "cell_type": "code",
   "execution_count": null,
   "metadata": {},
   "outputs": [],
   "source": [
    "cross_ind = viscpu_sim.uvdata.antpair2ind((3, 8))\n",
    "cross_cor = viscpu_sim.uvdata.data_array[cross_ind, 0, 0, 0]\n",
    "plt.plot(cross_cor)"
   ]
  },
  {
   "cell_type": "code",
   "execution_count": null,
   "metadata": {},
   "outputs": [],
   "source": [
    "cross_ind = healvis_sim.uvdata.antpair2ind((3, 8))\n",
    "cross_cor = healvis_sim.uvdata.data_array[cross_ind, 0, 0, 0]\n",
    "plt.plot(cross_cor)"
   ]
  },
  {
   "cell_type": "code",
   "execution_count": 13,
   "metadata": {},
   "outputs": [
    {
     "name": "stderr",
     "output_type": "stream",
     "text": [
      "\n",
      "Compilation is falling back to object mode WITH looplifting enabled because Function \"make_fringe\" failed type inference due to: Use of unsupported NumPy function 'numpy.einsum' or unsupported use of the function.\n",
      "\n",
      "File \"../../../healvis/healvis/observatory.py\", line 42:\n",
      "def make_fringe(az, za, freq, enu):\n",
      "    <source elided>\n",
      "    uvw = np.outer(enu, 1 / (c_ms / freq))  # In wavelengths\n",
      "    udotl = np.einsum(\"jk,jl->kl\", lmn, uvw)\n",
      "    ^\n",
      "\n",
      "[1] During: typing of get attribute at /home/jackson/hera/hera_sim/healvis/healvis/observatory.py (42)\n",
      "\n",
      "File \"../../../healvis/healvis/observatory.py\", line 42:\n",
      "def make_fringe(az, za, freq, enu):\n",
      "    <source elided>\n",
      "    uvw = np.outer(enu, 1 / (c_ms / freq))  # In wavelengths\n",
      "    udotl = np.einsum(\"jk,jl->kl\", lmn, uvw)\n",
      "    ^\n",
      "\n",
      "Function \"make_fringe\" was compiled in object mode without forceobj=True.\n",
      "\n",
      "File \"../../../healvis/healvis/observatory.py\", line 31:\n",
      "@jit\n",
      "def make_fringe(az, za, freq, enu):\n",
      "^\n",
      "\n",
      "\n",
      "Fall-back from the nopython compilation path to the object mode compilation path has been detected, this is deprecated behaviour.\n",
      "\n",
      "For more information visit http://numba.pydata.org/numba-doc/latest/reference/deprecation.html#deprecation-of-object-mode-fall-back-behaviour-when-using-jit\n",
      "\n",
      "File \"../../../healvis/healvis/observatory.py\", line 31:\n",
      "@jit\n",
      "def make_fringe(az, za, freq, enu):\n",
      "^\n",
      "\n"
     ]
    },
    {
     "name": "stdout",
     "output_type": "stream",
     "text": [
      "Finished: 1, Elapsed 0.10min, Remain 0.075hour, MaxRSS 1.33154GB\n",
      "Finished: 2, Elapsed 0.16min, Remain 0.061hour, MaxRSS 1.930348GB\n",
      "Finished: 3, Elapsed 0.22min, Remain 0.054hour, MaxRSS 1.930412GB\n",
      "Finished: 4, Elapsed 0.28min, Remain 0.051hour, MaxRSS 1.96714GB\n",
      "Finished: 5, Elapsed 0.34min, Remain 0.048hour, MaxRSS 2.004004GB\n",
      "Finished: 6, Elapsed 0.40min, Remain 0.046hour, MaxRSS 2.004136GB\n",
      "Finished: 7, Elapsed 0.46min, Remain 0.044hour, MaxRSS 2.016292GB\n",
      "Finished: 8, Elapsed 0.51min, Remain 0.043hour, MaxRSS 2.016292GB\n",
      "Finished: 9, Elapsed 0.57min, Remain 0.041hour, MaxRSS 2.016292GB\n",
      "Finished: 10, Elapsed 0.63min, Remain 0.040hour, MaxRSS 2.016428GB\n",
      "Finished: 11, Elapsed 0.69min, Remain 0.039hour, MaxRSS 2.016428GB\n",
      "Finished: 12, Elapsed 0.75min, Remain 0.038hour, MaxRSS 2.016428GB\n",
      "Finished: 13, Elapsed 0.81min, Remain 0.036hour, MaxRSS 2.016428GB\n",
      "Finished: 14, Elapsed 0.87min, Remain 0.035hour, MaxRSS 2.016428GB\n"
     ]
    },
    {
     "ename": "KeyboardInterrupt",
     "evalue": "",
     "output_type": "error",
     "traceback": [
      "\u001b[0;31m---------------------------------------------------------------------------\u001b[0m",
      "\u001b[0;31mAttributeError\u001b[0m                            Traceback (most recent call last)",
      "\u001b[0;32m~/anaconda3/envs/py3/lib/python3.6/site-packages/numpy/core/fromnumeric.py\u001b[0m in \u001b[0;36m_wrapreduction\u001b[0;34m(obj, ufunc, method, axis, dtype, out, **kwargs)\u001b[0m\n\u001b[1;32m     78\u001b[0m         \u001b[0;32mtry\u001b[0m\u001b[0;34m:\u001b[0m\u001b[0;34m\u001b[0m\u001b[0;34m\u001b[0m\u001b[0m\n\u001b[0;32m---> 79\u001b[0;31m             \u001b[0mreduction\u001b[0m \u001b[0;34m=\u001b[0m \u001b[0mgetattr\u001b[0m\u001b[0;34m(\u001b[0m\u001b[0mobj\u001b[0m\u001b[0;34m,\u001b[0m \u001b[0mmethod\u001b[0m\u001b[0;34m)\u001b[0m\u001b[0;34m\u001b[0m\u001b[0;34m\u001b[0m\u001b[0m\n\u001b[0m\u001b[1;32m     80\u001b[0m         \u001b[0;32mexcept\u001b[0m \u001b[0mAttributeError\u001b[0m\u001b[0;34m:\u001b[0m\u001b[0;34m\u001b[0m\u001b[0;34m\u001b[0m\u001b[0m\n",
      "\u001b[0;31mAttributeError\u001b[0m: 'list' object has no attribute 'any'",
      "\nDuring handling of the above exception, another exception occurred:\n",
      "\u001b[0;31mKeyboardInterrupt\u001b[0m                         Traceback (most recent call last)",
      "\u001b[0;32m<ipython-input-13-ffba1b3efecc>\u001b[0m in \u001b[0;36m<module>\u001b[0;34m\u001b[0m\n\u001b[0;32m----> 1\u001b[0;31m \u001b[0mhealvis\u001b[0m \u001b[0;34m=\u001b[0m \u001b[0mhealvis_sim\u001b[0m\u001b[0;34m.\u001b[0m\u001b[0msimulate\u001b[0m\u001b[0;34m(\u001b[0m\u001b[0;34m)\u001b[0m\u001b[0;34m\u001b[0m\u001b[0;34m\u001b[0m\u001b[0m\n\u001b[0m",
      "\u001b[0;32m~/hera/hera_sim/hera_sim/hera_sim/visibilities/simulators.py\u001b[0m in \u001b[0;36msimulate\u001b[0;34m(self)\u001b[0m\n\u001b[1;32m    239\u001b[0m         \u001b[0;34m\"\"\"Perform the visibility simulation.\"\"\"\u001b[0m\u001b[0;34m\u001b[0m\u001b[0;34m\u001b[0m\u001b[0m\n\u001b[1;32m    240\u001b[0m         \u001b[0mself\u001b[0m\u001b[0;34m.\u001b[0m\u001b[0m_write_history\u001b[0m\u001b[0;34m(\u001b[0m\u001b[0;34m)\u001b[0m\u001b[0;34m\u001b[0m\u001b[0;34m\u001b[0m\u001b[0m\n\u001b[0;32m--> 241\u001b[0;31m         \u001b[0mvis\u001b[0m \u001b[0;34m=\u001b[0m \u001b[0mself\u001b[0m\u001b[0;34m.\u001b[0m\u001b[0m_simulate\u001b[0m\u001b[0;34m(\u001b[0m\u001b[0;34m)\u001b[0m\u001b[0;34m\u001b[0m\u001b[0;34m\u001b[0m\u001b[0m\n\u001b[0m\u001b[1;32m    242\u001b[0m         \u001b[0mself\u001b[0m\u001b[0;34m.\u001b[0m\u001b[0muvdata\u001b[0m\u001b[0;34m.\u001b[0m\u001b[0mdata_array\u001b[0m \u001b[0;34m+=\u001b[0m \u001b[0mvis\u001b[0m\u001b[0;34m\u001b[0m\u001b[0;34m\u001b[0m\u001b[0m\n\u001b[1;32m    243\u001b[0m         \u001b[0;32mreturn\u001b[0m \u001b[0mvis\u001b[0m\u001b[0;34m\u001b[0m\u001b[0;34m\u001b[0m\u001b[0m\n",
      "\u001b[0;32m~/hera/hera_sim/hera_sim/hera_sim/visibilities/healvis_wrapper.py\u001b[0m in \u001b[0;36m_simulate\u001b[0;34m(self)\u001b[0m\n\u001b[1;32m    131\u001b[0m                 self.observatory.make_visibilities(self.sky_model,\n\u001b[1;32m    132\u001b[0m                                                    \u001b[0mNprocs\u001b[0m\u001b[0;34m=\u001b[0m\u001b[0mself\u001b[0m\u001b[0;34m.\u001b[0m\u001b[0m_nprocs\u001b[0m\u001b[0;34m,\u001b[0m\u001b[0;34m\u001b[0m\u001b[0;34m\u001b[0m\u001b[0m\n\u001b[0;32m--> 133\u001b[0;31m                                                    beam_pol=pol)[0]\n\u001b[0m\u001b[1;32m    134\u001b[0m             )\n\u001b[1;32m    135\u001b[0m \u001b[0;34m\u001b[0m\u001b[0m\n",
      "\u001b[0;32m~/hera/hera_sim/healvis/healvis/observatory.py\u001b[0m in \u001b[0;36mmake_visibilities\u001b[0;34m(self, shell, Nprocs, times_jd, beam_pol)\u001b[0m\n\u001b[1;32m    364\u001b[0m             \u001b[0mp\u001b[0m\u001b[0;34m.\u001b[0m\u001b[0mstart\u001b[0m\u001b[0;34m(\u001b[0m\u001b[0;34m)\u001b[0m\u001b[0;34m\u001b[0m\u001b[0;34m\u001b[0m\u001b[0m\n\u001b[1;32m    365\u001b[0m             \u001b[0mprocs\u001b[0m\u001b[0;34m.\u001b[0m\u001b[0mappend\u001b[0m\u001b[0;34m(\u001b[0m\u001b[0mp\u001b[0m\u001b[0;34m)\u001b[0m\u001b[0;34m\u001b[0m\u001b[0;34m\u001b[0m\u001b[0m\n\u001b[0;32m--> 366\u001b[0;31m         \u001b[0;32mwhile\u001b[0m \u001b[0;34m(\u001b[0m\u001b[0mNfin\u001b[0m\u001b[0;34m.\u001b[0m\u001b[0mvalue\u001b[0m \u001b[0;34m<\u001b[0m \u001b[0mself\u001b[0m\u001b[0;34m.\u001b[0m\u001b[0mNtimes\u001b[0m\u001b[0;34m)\u001b[0m \u001b[0;32mand\u001b[0m \u001b[0mnp\u001b[0m\u001b[0;34m.\u001b[0m\u001b[0many\u001b[0m\u001b[0;34m(\u001b[0m\u001b[0;34m[\u001b[0m\u001b[0mp\u001b[0m\u001b[0;34m.\u001b[0m\u001b[0mis_alive\u001b[0m\u001b[0;34m(\u001b[0m\u001b[0;34m)\u001b[0m \u001b[0;32mfor\u001b[0m \u001b[0mp\u001b[0m \u001b[0;32min\u001b[0m \u001b[0mprocs\u001b[0m\u001b[0;34m]\u001b[0m\u001b[0;34m)\u001b[0m\u001b[0;34m:\u001b[0m\u001b[0;34m\u001b[0m\u001b[0;34m\u001b[0m\u001b[0m\n\u001b[0m\u001b[1;32m    367\u001b[0m             \u001b[0;32mcontinue\u001b[0m\u001b[0;34m\u001b[0m\u001b[0;34m\u001b[0m\u001b[0m\n\u001b[1;32m    368\u001b[0m         \u001b[0mvisibilities\u001b[0m \u001b[0;34m=\u001b[0m \u001b[0;34m[\u001b[0m\u001b[0;34m]\u001b[0m\u001b[0;34m\u001b[0m\u001b[0;34m\u001b[0m\u001b[0m\n",
      "\u001b[0;32m<__array_function__ internals>\u001b[0m in \u001b[0;36many\u001b[0;34m(*args, **kwargs)\u001b[0m\n",
      "\u001b[0;32m~/anaconda3/envs/py3/lib/python3.6/site-packages/numpy/core/fromnumeric.py\u001b[0m in \u001b[0;36many\u001b[0;34m(a, axis, out, keepdims)\u001b[0m\n\u001b[1;32m   2268\u001b[0m \u001b[0;34m\u001b[0m\u001b[0m\n\u001b[1;32m   2269\u001b[0m     \"\"\"\n\u001b[0;32m-> 2270\u001b[0;31m     \u001b[0;32mreturn\u001b[0m \u001b[0m_wrapreduction\u001b[0m\u001b[0;34m(\u001b[0m\u001b[0ma\u001b[0m\u001b[0;34m,\u001b[0m \u001b[0mnp\u001b[0m\u001b[0;34m.\u001b[0m\u001b[0mlogical_or\u001b[0m\u001b[0;34m,\u001b[0m \u001b[0;34m'any'\u001b[0m\u001b[0;34m,\u001b[0m \u001b[0maxis\u001b[0m\u001b[0;34m,\u001b[0m \u001b[0;32mNone\u001b[0m\u001b[0;34m,\u001b[0m \u001b[0mout\u001b[0m\u001b[0;34m,\u001b[0m \u001b[0mkeepdims\u001b[0m\u001b[0;34m=\u001b[0m\u001b[0mkeepdims\u001b[0m\u001b[0;34m)\u001b[0m\u001b[0;34m\u001b[0m\u001b[0;34m\u001b[0m\u001b[0m\n\u001b[0m\u001b[1;32m   2271\u001b[0m \u001b[0;34m\u001b[0m\u001b[0m\n\u001b[1;32m   2272\u001b[0m \u001b[0;34m\u001b[0m\u001b[0m\n",
      "\u001b[0;32m~/anaconda3/envs/py3/lib/python3.6/site-packages/numpy/core/fromnumeric.py\u001b[0m in \u001b[0;36m_wrapreduction\u001b[0;34m(obj, ufunc, method, axis, dtype, out, **kwargs)\u001b[0m\n\u001b[1;32m     77\u001b[0m     \u001b[0;32mif\u001b[0m \u001b[0mtype\u001b[0m\u001b[0;34m(\u001b[0m\u001b[0mobj\u001b[0m\u001b[0;34m)\u001b[0m \u001b[0;32mis\u001b[0m \u001b[0;32mnot\u001b[0m \u001b[0mmu\u001b[0m\u001b[0;34m.\u001b[0m\u001b[0mndarray\u001b[0m\u001b[0;34m:\u001b[0m\u001b[0;34m\u001b[0m\u001b[0;34m\u001b[0m\u001b[0m\n\u001b[1;32m     78\u001b[0m         \u001b[0;32mtry\u001b[0m\u001b[0;34m:\u001b[0m\u001b[0;34m\u001b[0m\u001b[0;34m\u001b[0m\u001b[0m\n\u001b[0;32m---> 79\u001b[0;31m             \u001b[0mreduction\u001b[0m \u001b[0;34m=\u001b[0m \u001b[0mgetattr\u001b[0m\u001b[0;34m(\u001b[0m\u001b[0mobj\u001b[0m\u001b[0;34m,\u001b[0m \u001b[0mmethod\u001b[0m\u001b[0;34m)\u001b[0m\u001b[0;34m\u001b[0m\u001b[0;34m\u001b[0m\u001b[0m\n\u001b[0m\u001b[1;32m     80\u001b[0m         \u001b[0;32mexcept\u001b[0m \u001b[0mAttributeError\u001b[0m\u001b[0;34m:\u001b[0m\u001b[0;34m\u001b[0m\u001b[0;34m\u001b[0m\u001b[0m\n\u001b[1;32m     81\u001b[0m             \u001b[0;32mpass\u001b[0m\u001b[0;34m\u001b[0m\u001b[0;34m\u001b[0m\u001b[0m\n",
      "\u001b[0;31mKeyboardInterrupt\u001b[0m: "
     ]
    },
    {
     "name": "stderr",
     "output_type": "stream",
     "text": [
      "Process 0:\n",
      "Traceback (most recent call last):\n",
      "  File \"/home/jackson/anaconda3/envs/py3/lib/python3.6/multiprocessing/process.py\", line 258, in _bootstrap\n",
      "    self.run()\n",
      "  File \"/home/jackson/anaconda3/envs/py3/lib/python3.6/multiprocessing/process.py\", line 93, in run\n",
      "    self._target(*self._args, **self._kwargs)\n",
      "  File \"/home/jackson/hera/hera_sim/healvis/healvis/observatory.py\", line 307, in _vis_calc\n",
      "    fringe_cube = bl.get_fringe(az_arr, za_arr, self.freqs)\n",
      "  File \"/home/jackson/hera/hera_sim/healvis/healvis/observatory.py\", line 67, in get_fringe\n",
      "    return make_fringe(az, za, freq_Hz, self.enu)\n",
      "  File \"<__array_function__ internals>\", line 2, in vstack\n",
      "KeyboardInterrupt\n"
     ]
    }
   ],
   "source": [
    "healvis = healvis_sim.simulate()"
   ]
  },
  {
   "cell_type": "code",
   "execution_count": null,
   "metadata": {},
   "outputs": [],
   "source": []
  }
 ],
 "metadata": {
  "celltoolbar": "Initialization Cell",
  "kernelspec": {
   "display_name": "Python 3",
   "language": "python",
   "name": "python3"
  },
  "language_info": {
   "codemirror_mode": {
    "name": "ipython",
    "version": 3
   },
   "file_extension": ".py",
   "mimetype": "text/x-python",
   "name": "python",
   "nbconvert_exporter": "python",
   "pygments_lexer": "ipython3",
   "version": "3.6.9"
  },
  "latex_envs": {
   "LaTeX_envs_menu_present": true,
   "autoclose": true,
   "autocomplete": true,
   "bibliofile": "biblio.bib",
   "cite_by": "apalike",
   "current_citInitial": 1,
   "eqLabelWithNumbers": true,
   "eqNumInitial": 1,
   "hotkeys": {
    "equation": "Ctrl-E",
    "itemize": "Ctrl-I"
   },
   "labels_anchors": false,
   "latex_user_defs": false,
   "report_style_numbering": false,
   "user_envs_cfg": false
  },
  "toc": {
   "base_numbering": 1,
   "nav_menu": {},
   "number_sections": true,
   "sideBar": true,
   "skip_h1_title": false,
   "title_cell": "Table of Contents",
   "title_sidebar": "Contents",
   "toc_cell": false,
   "toc_position": {},
   "toc_section_display": true,
   "toc_window_display": true
  }
 },
 "nbformat": 4,
 "nbformat_minor": 2
}
