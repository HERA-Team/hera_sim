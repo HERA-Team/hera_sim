{
 "cells": [
  {
   "cell_type": "markdown",
   "metadata": {},
   "source": [
    "# The Simulator Class"
   ]
  },
  {
   "cell_type": "markdown",
   "metadata": {},
   "source": [
    "The most convenient way to use ``hera_sim`` is to use the ``Simulator`` class, which builds in all the primary functionality of the ``hera_sim`` package in an easy-to-use interface, and adds the ability to consistently write all produced effects into a ``pyuvdata.UVData`` object (and to file).\n",
    "\n",
    "What follows is a quick tour of the main functionality this provides."
   ]
  },
  {
   "cell_type": "markdown",
   "metadata": {},
   "source": [
    "## Setup"
   ]
  },
  {
   "cell_type": "code",
   "execution_count": 1,
   "metadata": {},
   "outputs": [
    {
     "name": "stderr",
     "output_type": "stream",
     "text": [
      "/home/bobby/HERA/dev/fix_tutorial/hera_sim/hera_sim/visibilities/__init__.py:27: UserWarning: PRISim failed to import.\n",
      "  warnings.warn(\"PRISim failed to import.\")\n",
      "/home/bobby/HERA/dev/fix_tutorial/hera_sim/hera_sim/visibilities/__init__.py:33: UserWarning: VisGPU failed to import.\n",
      "  warnings.warn(\"VisGPU failed to import.\")\n",
      "/home/bobby/HERA/dev/fix_tutorial/hera_sim/hera_sim/__init__.py:36: FutureWarning: \n",
      "In the next major release, all HERA-specific variables will be removed from the codebase. The following variables will need to be accessed through new class-like structures to be introduced in the next major release: \n",
      "\n",
      "noise.HERA_Tsky_mdl\n",
      "noise.HERA_BEAM_POLY\n",
      "sigchain.HERA_NRAO_BANDPASS\n",
      "rfi.HERA_RFI_STATIONS\n",
      "\n",
      "Additionally, the next major release will involve modifications to the package's API, which move toward a regularization of the way in which hera_sim methods are interfaced with; in particular, changes will be made such that the Simulator class is the most intuitive way of interfacing with the hera_sim package features.\n",
      "  FutureWarning)\n"
     ]
    }
   ],
   "source": [
    "%matplotlib inline\n",
    "import os\n",
    "import matplotlib.pyplot as plt\n",
    "import numpy as np\n",
    "import astropy.units as u\n",
    "\n",
    "import hera_sim\n",
    "import uvtools\n",
    "\n",
    "from hera_sim.simulate import Simulator\n",
    "from hera_sim.noise import HERA_Tsky_mdl\n",
    "from hera_sim.data import DATA_PATH\n",
    "from hera_sim.interpolators import Beam"
   ]
  },
  {
   "cell_type": "markdown",
   "metadata": {},
   "source": [
    "## The Simulator Class"
   ]
  },
  {
   "cell_type": "markdown",
   "metadata": {},
   "source": [
    "The ``Simulator`` class holds everything required to generate and do basic analysis on a simulation. It can be instantiated by submitting any one of the following: a filename pointing to an existing simulation in uvfits, uvh5 or miriad format; a ``UVData`` object, or a set of keyword arguments which are passed to the ``hera_sim.io.empty_uvdata`` function. Any keyword arguments passed to the ``Simulator`` initializer are passed directly to the ``hera_sim.io.empty_uvdata``, and those are in turn passed directly to the ``pyuvsim.simsetup.initialize_uvdata_from_keywords`` function, so that setting up a simulation object is relatively straightforward. The default parameter values for the ``empty_uvdata`` function are all set to ``None``, but are given default values to show a suggested minimal set of parameters necessary to initialize a ``UVData`` object (and, in turn, a ``Simulator`` object):\n",
    "```\n",
    "hera_sim.io.empty_uvdata(\n",
    "    Ntimes=None,\n",
    "    start_time=None,\n",
    "    integration_time=None,\n",
    "    Nfreqs=None,\n",
    "    start_freq=None,\n",
    "    channel_width=None,\n",
    "    array_layout=None,\n",
    "    **kwargs,\n",
    ")\n",
    "```\n",
    "If you are curious about the full set of parameters that may be used to initialize a ``UVData`` object, then please see the documentation for the ``pyuvsim.simsetup.initialize_uvdata_from_keywords`` function."
   ]
  },
  {
   "cell_type": "markdown",
   "metadata": {},
   "source": [
    "To get us started, let's make a ``Simulator`` object with 100 frequency channels spanning from 100 to 200 MHz, a half-hour of observing time with an H1C-appropriate integration time of 10.7 seconds, and a 7-element hexagonal array."
   ]
  },
  {
   "cell_type": "code",
   "execution_count": 2,
   "metadata": {},
   "outputs": [],
   "source": [
    "# first, generate the array. this is returned as a dict \n",
    "# with antenna numbers as keys and ENU positions as values\n",
    "ants = hera_sim.antpos.hex_array(2, split_core=False, outriggers=0)\n",
    "\n",
    "# for clarity about some timing parameters\n",
    "start_time = 2458115.9 # JD\n",
    "integration_time = 10.7 # seconds\n",
    "Ntimes = int(30 * u.min.to(\"s\") / integration_time)\n",
    "\n",
    "sim = Simulator(\n",
    "    Nfreqs=100,\n",
    "    start_freq=1e8,\n",
    "    bandwidth=1e8,\n",
    "    Ntimes=Ntimes,\n",
    "    start_time=start_time, \n",
    "    integration_time=integration_time, \n",
    "    array_layout=ants\n",
    ")"
   ]
  },
  {
   "cell_type": "markdown",
   "metadata": {},
   "source": [
    "The ``Simulator`` class adds some attributes for conveniently accessing metadata: \n",
    "  \n",
    "You can retrieve the frequencies (in GHz) with the ``freqs`` attribute. (``sim.freqs``)  \n",
    "You can retrieve the LSTs (in radians) with the ``lsts`` attribute. (``sim.lsts``)  \n",
    "You can retrieve the antenna array with the ``antpos`` attribute. (``sim.antpos``)  "
   ]
  },
  {
   "cell_type": "code",
   "execution_count": 3,
   "metadata": {},
   "outputs": [
    {
     "data": {
      "text/plain": [
       "array([0.1  , 0.101, 0.102, 0.103, 0.104, 0.105, 0.106, 0.107, 0.108,\n",
       "       0.109, 0.11 , 0.111, 0.112, 0.113, 0.114, 0.115, 0.116, 0.117,\n",
       "       0.118, 0.119, 0.12 , 0.121, 0.122, 0.123, 0.124, 0.125, 0.126,\n",
       "       0.127, 0.128, 0.129, 0.13 , 0.131, 0.132, 0.133, 0.134, 0.135,\n",
       "       0.136, 0.137, 0.138, 0.139, 0.14 , 0.141, 0.142, 0.143, 0.144,\n",
       "       0.145, 0.146, 0.147, 0.148, 0.149, 0.15 , 0.151, 0.152, 0.153,\n",
       "       0.154, 0.155, 0.156, 0.157, 0.158, 0.159, 0.16 , 0.161, 0.162,\n",
       "       0.163, 0.164, 0.165, 0.166, 0.167, 0.168, 0.169, 0.17 , 0.171,\n",
       "       0.172, 0.173, 0.174, 0.175, 0.176, 0.177, 0.178, 0.179, 0.18 ,\n",
       "       0.181, 0.182, 0.183, 0.184, 0.185, 0.186, 0.187, 0.188, 0.189,\n",
       "       0.19 , 0.191, 0.192, 0.193, 0.194, 0.195, 0.196, 0.197, 0.198,\n",
       "       0.199])"
      ]
     },
     "execution_count": 3,
     "metadata": {},
     "output_type": "execute_result"
    }
   ],
   "source": [
    "sim.freqs"
   ]
  },
  {
   "cell_type": "code",
   "execution_count": 4,
   "metadata": {},
   "outputs": [
    {
     "data": {
      "text/plain": [
       "array([4.58108965, 4.58186991, 4.58265017, 4.58343042, 4.58421068,\n",
       "       4.58499094, 4.58577119, 4.58655145, 4.58733171, 4.58811196,\n",
       "       4.58889222, 4.58967247, 4.59045273, 4.59123299, 4.59201324,\n",
       "       4.5927935 , 4.59357376, 4.59435401, 4.59513427, 4.59591452,\n",
       "       4.59669478, 4.59747504, 4.59825529, 4.59903555, 4.59981581,\n",
       "       4.60059606, 4.60137632, 4.60215657, 4.60293683, 4.60371709,\n",
       "       4.60449734, 4.6052776 , 4.60605786, 4.60683811, 4.60761837,\n",
       "       4.60839863, 4.60917888, 4.60995914, 4.6107394 , 4.61151965,\n",
       "       4.61229991, 4.61308017, 4.61386042, 4.61464068, 4.61542093,\n",
       "       4.61620119, 4.61698145, 4.6177617 , 4.61854196, 4.61932222,\n",
       "       4.62010247, 4.62088273, 4.62166299, 4.62244324, 4.6232235 ,\n",
       "       4.62400375, 4.62478401, 4.62556427, 4.62634452, 4.62712478,\n",
       "       4.62790503, 4.62868529, 4.62946555, 4.6302458 , 4.63102606,\n",
       "       4.63180632, 4.63258657, 4.63336683, 4.63414709, 4.63492734,\n",
       "       4.6357076 , 4.63648786, 4.63726811, 4.63804837, 4.63882863,\n",
       "       4.63960888, 4.64038914, 4.64116939, 4.64194965, 4.64272991,\n",
       "       4.64351016, 4.64429042, 4.64507068, 4.64585093, 4.64663119,\n",
       "       4.64741145, 4.6481917 , 4.64897196, 4.64975221, 4.65053247,\n",
       "       4.65131273, 4.65209298, 4.65287324, 4.65365349, 4.65443375,\n",
       "       4.65521401, 4.65599426, 4.65677452, 4.65755478, 4.65833503,\n",
       "       4.65911529, 4.65989555, 4.6606758 , 4.66145606, 4.66223632,\n",
       "       4.66301657, 4.66379683, 4.66457709, 4.66535734, 4.6661376 ,\n",
       "       4.66691785, 4.66769811, 4.66847837, 4.66925862, 4.67003888,\n",
       "       4.67081914, 4.67159939, 4.67237965, 4.67315991, 4.67394016,\n",
       "       4.67472042, 4.67550068, 4.67628093, 4.67706119, 4.67784144,\n",
       "       4.6786217 , 4.67940196, 4.68018221, 4.68096247, 4.68174272,\n",
       "       4.68252298, 4.68330324, 4.68408349, 4.68486375, 4.68564401,\n",
       "       4.68642426, 4.68720452, 4.68798478, 4.68876503, 4.68954529,\n",
       "       4.69032555, 4.6911058 , 4.69188606, 4.69266631, 4.69344657,\n",
       "       4.69422683, 4.69500708, 4.69578734, 4.6965676 , 4.69734785,\n",
       "       4.69812811, 4.69890837, 4.69968862, 4.70046888, 4.70124914,\n",
       "       4.70202939, 4.70280965, 4.7035899 , 4.70437016, 4.70515042,\n",
       "       4.70593067, 4.70671093, 4.70749118, 4.70827144, 4.7090517 ,\n",
       "       4.70983195, 4.71061221, 4.71139247])"
      ]
     },
     "execution_count": 4,
     "metadata": {},
     "output_type": "execute_result"
    }
   ],
   "source": [
    "sim.lsts"
   ]
  },
  {
   "cell_type": "code",
   "execution_count": 5,
   "metadata": {},
   "outputs": [
    {
     "data": {
      "text/plain": [
       "{0: array([-7.30000000e+00,  1.26439709e+01, -4.36185665e-09]),\n",
       " 1: array([ 7.30000000e+00,  1.26439709e+01, -3.99203159e-09]),\n",
       " 2: array([-1.46000000e+01,  6.98581573e-09, -4.65185394e-09]),\n",
       " 3: array([ 0.00000000e+00,  7.20559015e-09, -4.28202888e-09]),\n",
       " 4: array([ 1.46000000e+01,  7.42536457e-09, -3.91220382e-09]),\n",
       " 5: array([-7.30000000e+00, -1.26439709e+01, -4.57202631e-09]),\n",
       " 6: array([ 7.30000000e+00, -1.26439709e+01, -4.20220125e-09])}"
      ]
     },
     "execution_count": 5,
     "metadata": {},
     "output_type": "execute_result"
    }
   ],
   "source": [
    "sim.antpos"
   ]
  },
  {
   "cell_type": "markdown",
   "metadata": {},
   "source": [
    "You can also generate a plot of the array layout using the ``plot_array`` method:"
   ]
  },
  {
   "cell_type": "code",
   "execution_count": 6,
   "metadata": {},
   "outputs": [
    {
     "data": {
      "image/png": "[encoded data removed]",
      "text/plain": [
       "<Figure size 720x576 with 1 Axes>"
      ]
     },
     "metadata": {
      "needs_background": "light"
     },
     "output_type": "display_data"
    }
   ],
   "source": [
    "fig = sim.plot_array()\n",
    "plt.show()"
   ]
  },
  {
   "cell_type": "markdown",
   "metadata": {},
   "source": [
    "The ``data`` attribute can be used to access the ``UVData`` object used to store the simulated data and metadata:"
   ]
  },
  {
   "cell_type": "code",
   "execution_count": 7,
   "metadata": {},
   "outputs": [
    {
     "data": {
      "text/plain": [
       "True"
      ]
     },
     "execution_count": 7,
     "metadata": {},
     "output_type": "execute_result"
    }
   ],
   "source": [
    "from pyuvdata import UVData\n",
    "isinstance(sim.data, UVData)"
   ]
  },
  {
   "cell_type": "markdown",
   "metadata": {},
   "source": [
    "We'll use a standard waterfall plot throughout the notebook to show the progress of the simulation:"
   ]
  },
  {
   "cell_type": "code",
   "execution_count": 8,
   "metadata": {},
   "outputs": [],
   "source": [
    "def waterfall(\n",
    "    vis, freqs=sim.freqs * 1e3, lsts=sim.lsts, \n",
    "    vmax=None, vrange=None, title=None,\n",
    "):\n",
    "    \"\"\"\n",
    "    A wrapper around the uvtools' waterfall function providing some\n",
    "    extra labelling and plot adjustment.\n",
    "    \"\"\"\n",
    "    fig, ax = plt.subplots(\n",
    "        2,1, sharex=True, sharey=True, figsize=(12,10)\n",
    "    )\n",
    "    \n",
    "    if title is not None:\n",
    "        ax[0].set_title(title, fontsize=12)\n",
    "    plt.sca(ax[0])\n",
    "    uvtools.plot.waterfall(\n",
    "        vis, mode='log', mx=vmax, drng=vrange,\n",
    "        extent=(freqs.min(), freqs.max(), lsts.min(), lsts.max())\n",
    "    )\n",
    "    plt.colorbar(label=r'log$_{10}$(Vis/Jy)')\n",
    "    plt.ylabel(\"LST\", fontsize=12)\n",
    "    \n",
    "    plt.sca(ax[1])\n",
    "    uvtools.plot.waterfall(\n",
    "        vis, \n",
    "        mode='phs',\n",
    "        cmap='twilight',\n",
    "        extent=(freqs.min(), freqs.max(), lsts.min(), lsts.max())\n",
    "    )\n",
    "    plt.colorbar(label='Phase [rad]')\n",
    "    plt.xlabel(\"Frequency [MHz]\", fontsize=12)\n",
    "    plt.ylabel(\"LST\", fontsize=12)\n"
   ]
  },
  {
   "cell_type": "markdown",
   "metadata": {},
   "source": [
    "## Adding Effects"
   ]
  },
  {
   "cell_type": "markdown",
   "metadata": {},
   "source": [
    "Effects may be added to a simulation by using the ``add`` method. This method takes one argument and variable keyword arguments: the required argument ``component`` may be either a string identifying the name of a ``hera_sim`` class (or an alias thereof, see below), or a callable object that has either ``lsts`` or  ``freqs`` (or both) as a parameter(s) and returns an object with shape (``lsts.size``, ``freqs.size``) or (``freqs.size``,) (granted, the ``Simulator`` does not do a check on the input parameters or the shape of returned values, but passing a callable object that returns something incorrectly shaped will likely result in an exception being raised). Let's walk through an example."
   ]
  },
  {
   "cell_type": "markdown",
   "metadata": {},
   "source": [
    "### A Simple Example"
   ]
  },
  {
   "cell_type": "markdown",
   "metadata": {},
   "source": [
    "Let's begin by simulating diffuse foregrounds. To do this, we'll need to specify a sky temperature model and a beam area interpolator object (or array of values corresponding to a frequency-dependent beam size). Let's use the sky temperature model and beam polynomial fit for H1C:"
   ]
  },
  {
   "cell_type": "code",
   "execution_count": 9,
   "metadata": {},
   "outputs": [],
   "source": [
    "from hera_sim.interpolators import Beam\n",
    "from hera_sim.noise import HERA_Tsky_mdl\n",
    "from hera_sim.data import DATA_PATH\n",
    "\n",
    "# HERA_Tsky_mdl is a dictionary with keys 'xx' and 'yy'\n",
    "Tsky_mdl = HERA_Tsky_mdl['xx']\n",
    "\n",
    "# there are useful files in the data directory, with this being one\n",
    "beamfile = os.path.join(DATA_PATH, \"HERA_H1C_BEAM_POLY.npy\")\n",
    "\n",
    "# we can make a beam interpolation object from a path to a .npy file\n",
    "omega_p = Beam(beamfile)\n",
    "\n",
    "# now to add the foregrounds\n",
    "sim.add(\"diffuse_foreground\", Tsky_mdl=Tsky_mdl, omega_p=omega_p)"
   ]
  },
  {
   "cell_type": "code",
   "execution_count": 10,
   "metadata": {},
   "outputs": [
    {
     "data": {
      "image/png": "[encoded data removed]",
      "text/plain": [
       "<Figure size 864x720 with 4 Axes>"
      ]
     },
     "metadata": {
      "needs_background": "light"
     },
     "output_type": "display_data"
    }
   ],
   "source": [
    "# let's check out the data for the (0,1) baseline\n",
    "vis = sim.data.get_data((0,1,'xx'))\n",
    "waterfall(vis, title='Simulated Diffuse Foregrounds')"
   ]
  },
  {
   "cell_type": "markdown",
   "metadata": {},
   "source": [
    "Now, whenever an effect is simulated using the ``add`` method, that effect (and any non-default optional parameters used) is logged: a note of what was simulated is put into the object's history, and the information is also stored in a hidden attribute ``_components``."
   ]
  },
  {
   "cell_type": "code",
   "execution_count": 11,
   "metadata": {},
   "outputs": [
    {
     "name": "stdout",
     "output_type": "stream",
     "text": [
      "hera_sim v1.0.0: Added DiffuseForeground using kwargs:\n",
      "Tsky_mdl = <hera_sim.interpolators.Tsky object at 0x7fb870d28b50>\n",
      "omega_p = <hera_sim.interpolators.Beam object at 0x7fb86dbd3390>\n",
      "\n"
     ]
    }
   ],
   "source": [
    "print(sim.data.history)"
   ]
  },
  {
   "cell_type": "code",
   "execution_count": 12,
   "metadata": {},
   "outputs": [
    {
     "data": {
      "text/plain": [
       "{'diffuse_foreground': {'Tsky_mdl': <hera_sim.interpolators.Tsky at 0x7fb870d28b50>,\n",
       "  'omega_p': <hera_sim.interpolators.Beam at 0x7fb86dbd3390>}}"
      ]
     },
     "execution_count": 12,
     "metadata": {},
     "output_type": "execute_result"
    }
   ],
   "source": [
    "sim._components"
   ]
  },
  {
   "cell_type": "markdown",
   "metadata": {},
   "source": [
    "Note that the actual visibility simulated is not cached, but rather the parameters necessary for recreating are saved and can be used to later re-simulate the effect. Now, the diffuse foreground simulator uses a random number generator, so if we want to ensure repeatability, we have to make sure it's seeded in some repeatable way..."
   ]
  },
  {
   "cell_type": "code",
   "execution_count": 13,
   "metadata": {},
   "outputs": [],
   "source": [
    "# refresh the simulation\n",
    "# this zeros the data array, resets the history, and clears the _components dictionary\n",
    "sim.refresh()\n",
    "\n",
    "from hera_sim.foregrounds import DiffuseForeground\n",
    "# now let's seed by redundant group\n",
    "sim.add(DiffuseForeground, Tsky_mdl=Tsky_mdl, omega_p=omega_p, seed_mode=\"redundantly\")"
   ]
  },
  {
   "cell_type": "code",
   "execution_count": 14,
   "metadata": {},
   "outputs": [
    {
     "data": {
      "image/png": "[encoded data removed]",
      "text/plain": [
       "<Figure size 864x720 with 4 Axes>"
      ]
     },
     "metadata": {
      "needs_background": "light"
     },
     "output_type": "display_data"
    }
   ],
   "source": [
    "# and let's take a look\n",
    "vis = sim.data.get_data((0,1,'xx'))\n",
    "waterfall(vis, title='Simulated Diffuse Foregrounds')"
   ]
  },
  {
   "cell_type": "code",
   "execution_count": 15,
   "metadata": {},
   "outputs": [
    {
     "name": "stdout",
     "output_type": "stream",
     "text": [
      "hera_sim v1.0.0: Added DiffuseForeground using kwargs:\n",
      "Tsky_mdl = <hera_sim.interpolators.Tsky object at 0x7fb870d28b50>\n",
      "omega_p = <hera_sim.interpolators.Beam object at 0x7fb86dbd3390>\n",
      "seed_mode = redundantly\n",
      "\n"
     ]
    }
   ],
   "source": [
    "# as for the history\n",
    "print(sim.data.history)"
   ]
  },
  {
   "cell_type": "code",
   "execution_count": 16,
   "metadata": {},
   "outputs": [
    {
     "data": {
      "text/plain": [
       "{hera_sim.foregrounds.DiffuseForeground: {'Tsky_mdl': <hera_sim.interpolators.Tsky at 0x7fb870d28b50>,\n",
       "  'omega_p': <hera_sim.interpolators.Beam at 0x7fb86dbd3390>,\n",
       "  'seed_mode': 'redundantly'}}"
      ]
     },
     "execution_count": 16,
     "metadata": {},
     "output_type": "execute_result"
    }
   ],
   "source": [
    "# and the _components\n",
    "sim._components"
   ]
  },
  {
   "cell_type": "markdown",
   "metadata": {},
   "source": [
    "Note that using the ``DiffuseForeground`` class to simulate the effect caused the ``Simulator`` to log the component using the class itself as the key."
   ]
  },
  {
   "cell_type": "code",
   "execution_count": 17,
   "metadata": {},
   "outputs": [
    {
     "data": {
      "text/plain": [
       "True"
      ]
     },
     "execution_count": 17,
     "metadata": {},
     "output_type": "execute_result"
    }
   ],
   "source": [
    "# we can even re-simulate the effect\n",
    "vis_copy = sim.get(DiffuseForeground, ant1=0, ant2=1, pol='xx')\n",
    "np.all(np.isclose(vis,vis_copy))"
   ]
  },
  {
   "cell_type": "code",
   "execution_count": 18,
   "metadata": {},
   "outputs": [
    {
     "name": "stdout",
     "output_type": "stream",
     "text": [
      "[(0, 0), (1, 1), (2, 2), (3, 3), (4, 4), (5, 5), (6, 6)]\n",
      "[(0, 1), (2, 3), (3, 4), (5, 6)]\n",
      "[(0, 2), (1, 3), (3, 5), (4, 6)]\n",
      "[(0, 3), (1, 4), (2, 5), (3, 6)]\n",
      "[(0, 4), (2, 6)]\n",
      "[(0, 5), (1, 6)]\n",
      "[(0, 6)]\n",
      "[(1, 2), (4, 5)]\n",
      "[(1, 5)]\n",
      "[(2, 4)]\n"
     ]
    }
   ],
   "source": [
    "# but do baselines within a redundant group agree?\n",
    "for reds in sim._get_reds():\n",
    "    red_grp = [sim.data.baseline_to_antnums(red) for red in reds]\n",
    "    print(list(red_grp))"
   ]
  },
  {
   "cell_type": "code",
   "execution_count": 19,
   "metadata": {},
   "outputs": [
    {
     "data": {
      "text/plain": [
       "True"
      ]
     },
     "execution_count": 19,
     "metadata": {},
     "output_type": "execute_result"
    }
   ],
   "source": [
    "np.all(\n",
    "    np.isclose(sim.data.get_data(0,1), sim.data.get_data(2,3))\n",
    ")"
   ]
  },
  {
   "cell_type": "markdown",
   "metadata": {},
   "source": [
    "A final note on this: when the ``seed_mode`` parameter is set to ``\"redundantly\"``, a seed is generated for each redundant group, and that seed is used to ensure that each baseline within a redundant group observes the same realization of the effect; the only other mode that's currently supported is ``\"once\"``, which just seeds the random number generator once before any effects are simulated."
   ]
  },
  {
   "cell_type": "markdown",
   "metadata": {},
   "source": [
    "### Filtering Effects"
   ]
  },
  {
   "cell_type": "markdown",
   "metadata": {},
   "source": [
    "The ``add`` method also allows for an optional keyword argument ``vis_filter``. This may be an iterable of arbitrary length, or an iterable of keys of various lengths. This is still under-developed and may have a different implementation in the near future, so this section will not go into any detail about how it works."
   ]
  },
  {
   "cell_type": "markdown",
   "metadata": {},
   "source": [
    "As a quick example, let's choose our filter so that only the ``'xx'`` polarization for the baseline ``(0,1)`` (and its conjugate) is simulated. To check that it works, we'll test that the antennas' autoc"
   ]
  },
  {
   "cell_type": "code",
   "execution_count": 20,
   "metadata": {},
   "outputs": [
    {
     "data": {
      "text/plain": [
       "True"
      ]
     },
     "execution_count": 20,
     "metadata": {},
     "output_type": "execute_result"
    }
   ],
   "source": [
    "sim.refresh()\n",
    "sim.add(\"noiselike_eor\", vis_filter=(0,1,'xx'))\n",
    "np.all(sim.data.get_data(0,0,'xx') == 0)"
   ]
  },
  {
   "cell_type": "code",
   "execution_count": 21,
   "metadata": {},
   "outputs": [
    {
     "data": {
      "text/plain": [
       "True"
      ]
     },
     "execution_count": 21,
     "metadata": {},
     "output_type": "execute_result"
    }
   ],
   "source": [
    "np.all(sim.data.get_data(0,1,'xx') != 0) and np.all(sim.data.get_data(1,0,'xx') != 0)"
   ]
  },
  {
   "cell_type": "markdown",
   "metadata": {},
   "source": [
    "### Ordering of Effects"
   ]
  },
  {
   "cell_type": "markdown",
   "metadata": {},
   "source": [
    "Some of the effects that can be simulated act on visibilities additively, whereas others act multiplicatively. The `Simulator` class keeps track of the order in which simulation components have been added, and issues warnings if the simulation components have been added out of order. In particular, it issues warnings if a multiplicative model is added to an empty set of visibilities or if an absolute visibility is added after a multiplicative effect has been added. Let's check it out."
   ]
  },
  {
   "cell_type": "code",
   "execution_count": 22,
   "metadata": {},
   "outputs": [],
   "source": [
    "# first, let's add a multiplicative effect\n",
    "gains = sim.add(\"gains\", seed_mode=\"once\", ret_vis=True)"
   ]
  },
  {
   "cell_type": "markdown",
   "metadata": {},
   "source": [
    "Note that you can set the ``ret_vis`` parameter to ``True`` in order to have the ``add`` method return the effect it calculated. In this case, it's a dictionary whose keys are antenna numbers and whose values are complex gains as a function of frequency."
   ]
  },
  {
   "cell_type": "code",
   "execution_count": 23,
   "metadata": {},
   "outputs": [
    {
     "data": {
      "image/png": "[encoded data removed]",
      "text/plain": [
       "<Figure size 792x504 with 1 Axes>"
      ]
     },
     "metadata": {
      "needs_background": "light"
     },
     "output_type": "display_data"
    }
   ],
   "source": [
    "# take a quick peek at the gains\n",
    "fig = plt.figure(figsize=(11,7))\n",
    "ax = fig.add_subplot(111)\n",
    "ax.plot(sim.freqs * 1e3, np.abs(gains[0]))\n",
    "ax.set_xlabel(\"Frequency [MHz]\", fontsize=12)\n",
    "ax.set_ylabel(\"Gain Amplitude\", fontsize=12)\n",
    "plt.show()"
   ]
  },
  {
   "cell_type": "markdown",
   "metadata": {},
   "source": [
    "Now let's try to add an additive effect, like EoR."
   ]
  },
  {
   "cell_type": "code",
   "execution_count": 24,
   "metadata": {},
   "outputs": [
    {
     "name": "stderr",
     "output_type": "stream",
     "text": [
      "You are adding visibilities to a data array *after* multiplicative effects have been introduced.\n"
     ]
    }
   ],
   "source": [
    "sim.add(\"noiselike_eor\")"
   ]
  },
  {
   "cell_type": "markdown",
   "metadata": {},
   "source": [
    "Voila! The ``Simulator`` knows that a multiplicative effect (bandpass gains) have already been applied to the data and issues a warning when an additive effect is added afterward. Now let's refresh the simulation and check what happens if we try to add gains immediately after."
   ]
  },
  {
   "cell_type": "code",
   "execution_count": 25,
   "metadata": {},
   "outputs": [],
   "source": [
    "sim.refresh()"
   ]
  },
  {
   "cell_type": "code",
   "execution_count": 26,
   "metadata": {},
   "outputs": [
    {
     "name": "stderr",
     "output_type": "stream",
     "text": [
      "You are trying to compute a multiplicative effect, but no visibilities have been simulated yet.\n"
     ]
    }
   ],
   "source": [
    "# now try adding a multiplicative effect to a fresh simulation\n",
    "gains = sim.add(\"gains\", seed_mode=\"once\", ret_vis=True)"
   ]
  },
  {
   "cell_type": "code",
   "execution_count": 27,
   "metadata": {},
   "outputs": [
    {
     "data": {
      "text/plain": [
       "True"
      ]
     },
     "execution_count": 27,
     "metadata": {},
     "output_type": "execute_result"
    }
   ],
   "source": [
    "# the effect is still simulated, but of course nothing happens\n",
    "bool(gains) and np.all(sim.data.data_array == 0)"
   ]
  },
  {
   "cell_type": "code",
   "execution_count": 28,
   "metadata": {},
   "outputs": [],
   "source": [
    "# note, however, that this warning is only issued once\n",
    "sim.add(\"gains\")"
   ]
  },
  {
   "cell_type": "markdown",
   "metadata": {},
   "source": [
    "### Using Custom Components"
   ]
  },
  {
   "cell_type": "markdown",
   "metadata": {},
   "source": [
    "You can also use custom-defined callable objects as simulation components. Here's an example using a function:"
   ]
  },
  {
   "cell_type": "code",
   "execution_count": 29,
   "metadata": {},
   "outputs": [
    {
     "name": "stderr",
     "output_type": "stream",
     "text": [
      "You are attempting to compute a component but have not specified an ``is_multiplicative`` attribute for the component. The component will be added under the assumption that it is *not* multiplicative.\n"
     ]
    }
   ],
   "source": [
    "# first, make up a function\n",
    "def mock_vis(lsts, freqs):\n",
    "    return np.ones((lsts.size, freqs.size), dtype=np.complex)\n",
    "\n",
    "# then refresh the sim and add the effect\n",
    "sim.refresh()\n",
    "sim.add(mock_vis)"
   ]
  },
  {
   "cell_type": "code",
   "execution_count": 30,
   "metadata": {},
   "outputs": [
    {
     "name": "stdout",
     "output_type": "stream",
     "text": [
      "hera_sim v1.0.0: Added mock_vis using kwargs:\n",
      "\n"
     ]
    }
   ],
   "source": [
    "# and now let's see what it's logged as\n",
    "print(sim.data.history)"
   ]
  },
  {
   "cell_type": "code",
   "execution_count": 31,
   "metadata": {},
   "outputs": [
    {
     "data": {
      "text/plain": [
       "{<function __main__.mock_vis(lsts, freqs)>: {}}"
      ]
     },
     "execution_count": 31,
     "metadata": {},
     "output_type": "execute_result"
    }
   ],
   "source": [
    "# as for the components dictionary\n",
    "sim._components"
   ]
  },
  {
   "cell_type": "markdown",
   "metadata": {},
   "source": [
    "Note that a warning is raised if a user-defined function (or callable class) does not have an ``is_multiplicative`` attribute&mdash;this will be the case for *all* functions, but class implementations can have such an attribute defined."
   ]
  },
  {
   "cell_type": "markdown",
   "metadata": {},
   "source": [
    "### Registering Classes"
   ]
  },
  {
   "cell_type": "markdown",
   "metadata": {},
   "source": [
    "To wrap this section up, let's briefly cover how the ``Simulator`` class knows what to look for when the ``add`` method is called. All of the simulation components defined in the ``hera_sim`` repo are designed as callable classes which inherit from a ``registry``. A new ``registry`` can be created by defining a class and decorating it with the ``registry`` decorator:"
   ]
  },
  {
   "cell_type": "code",
   "execution_count": 32,
   "metadata": {},
   "outputs": [],
   "source": [
    "from hera_sim import registry\n",
    "\n",
    "@registry\n",
    "class ExampleRegistry:\n",
    "    is_multiplicative = False\n",
    "    pass\n",
    "\n",
    "class MockVis(ExampleRegistry):\n",
    "    __aliases__ = (\"mock_vis_alias\",)\n",
    "    def __call__(self, lsts, freqs):\n",
    "        return np.ones((lsts.size, freqs.size), dtype=np.complex)"
   ]
  },
  {
   "cell_type": "markdown",
   "metadata": {},
   "source": [
    "The above cell defines a new ``registry`` called ``ExampleRegistry`` and creates a class ``MockVis`` that is tracked by ``ExampleRegistry``. Since the registry has its ``is_multiplicative`` attribute set to ``False``, any class that inherits from it (and does not change the attribute's value) will also be considered an additive model."
   ]
  },
  {
   "cell_type": "code",
   "execution_count": 33,
   "metadata": {},
   "outputs": [
    {
     "data": {
      "text/plain": [
       "{'MockVis': __main__.MockVis}"
      ]
     },
     "execution_count": 33,
     "metadata": {},
     "output_type": "execute_result"
    }
   ],
   "source": [
    "ExampleRegistry._models"
   ]
  },
  {
   "cell_type": "code",
   "execution_count": 34,
   "metadata": {},
   "outputs": [
    {
     "data": {
      "text/plain": [
       "False"
      ]
     },
     "execution_count": 34,
     "metadata": {},
     "output_type": "execute_result"
    }
   ],
   "source": [
    "MockVis.is_multiplicative"
   ]
  },
  {
   "cell_type": "markdown",
   "metadata": {},
   "source": [
    "Since the ``MockVis`` class has ``\"mock_vis_alias\"`` as one of the entries in its ``__aliases__`` attribute, it can be discovered with that string:"
   ]
  },
  {
   "cell_type": "code",
   "execution_count": 35,
   "metadata": {},
   "outputs": [],
   "source": [
    "sim.refresh()\n",
    "sim.add(\"mock_vis_alias\")"
   ]
  },
  {
   "cell_type": "code",
   "execution_count": 36,
   "metadata": {},
   "outputs": [
    {
     "data": {
      "text/plain": [
       "True"
      ]
     },
     "execution_count": 36,
     "metadata": {},
     "output_type": "execute_result"
    }
   ],
   "source": [
    "np.all(sim.data.data_array == 1)"
   ]
  },
  {
   "cell_type": "code",
   "execution_count": 37,
   "metadata": {},
   "outputs": [
    {
     "name": "stdout",
     "output_type": "stream",
     "text": [
      "hera_sim v1.0.0: Added MockVis using kwargs:\n",
      "\n"
     ]
    }
   ],
   "source": [
    "print(sim.data.history)"
   ]
  },
  {
   "cell_type": "code",
   "execution_count": 38,
   "metadata": {},
   "outputs": [
    {
     "data": {
      "text/plain": [
       "{'mock_vis_alias': {}}"
      ]
     },
     "execution_count": 38,
     "metadata": {},
     "output_type": "execute_result"
    }
   ],
   "source": [
    "sim._components"
   ]
  },
  {
   "cell_type": "markdown",
   "metadata": {},
   "source": [
    "If you try to add a component that is not discoverable, then an exception will be raised and you'll be shown a list of known aliases:"
   ]
  },
  {
   "cell_type": "code",
   "execution_count": 39,
   "metadata": {},
   "outputs": [
    {
     "name": "stdout",
     "output_type": "stream",
     "text": [
      "The component 'not_a_known_model' wasn't found. The following aliases are known: cross_coupling_xtalk, thermal_noise, noiselikeeor, gen_gains, gen_reflection_gains, impulse, gen_cross_coupling_xtalk, diffuseforeground, rfi_dtv, sigchain_reflections, rfi_impulse, diffuse_foreground, gen_whitenoise_xtalk, white_noise_xtalk, dtv, pointsourceforeground, hexarray, bandpass, gains, stations, rfi_stations, lineararray, reflections, mockvis, thermalnoise, whitenoisecrosstalk, scatter, mock_vis_alias, crosscouplingcrosstalk, bandpass_gain, noiselike_eor, pntsrc_foreground, rfi_scatter\n"
     ]
    }
   ],
   "source": [
    "# show the message this way to let the rest of the kernel run\n",
    "try:\n",
    "    sim.add(\"not_a_known_model\")\n",
    "except AttributeError as err:\n",
    "    print(err)"
   ]
  },
  {
   "cell_type": "markdown",
   "metadata": {},
   "source": [
    "If you would like to see what classes are registered and discoverable by the ``Simulator`` class, then you can use the ``list_discoverable_components`` function:"
   ]
  },
  {
   "cell_type": "code",
   "execution_count": 40,
   "metadata": {},
   "outputs": [
    {
     "name": "stdout",
     "output_type": "stream",
     "text": [
      "hera_sim.antpos.LinearArray\n",
      "hera_sim.antpos.HexArray\n",
      "hera_sim.foregrounds.DiffuseForeground\n",
      "hera_sim.foregrounds.PointSourceForeground\n",
      "hera_sim.noise.ThermalNoise\n",
      "hera_sim.rfi.Stations\n",
      "hera_sim.rfi.Impulse\n",
      "hera_sim.rfi.Scatter\n",
      "hera_sim.rfi.DTV\n",
      "hera_sim.sigchain.Bandpass\n",
      "hera_sim.sigchain.Reflections\n",
      "hera_sim.sigchain.CrossCouplingCrosstalk\n",
      "hera_sim.sigchain.WhiteNoiseCrosstalk\n",
      "hera_sim.eor.NoiselikeEoR\n",
      "__main__.MockVis\n"
     ]
    }
   ],
   "source": [
    "hera_sim.list_discoverable_components()"
   ]
  },
  {
   "cell_type": "markdown",
   "metadata": {},
   "source": [
    "One final caveat: currently, the ``add`` method is implemented so that an exception is raised when a user-defined function that does not exist in the global namespace is passed as the ``component``. So, if you want to import a simulation component *that is implemented as a function* from some other module, then be sure to import the function into the global namespace."
   ]
  },
  {
   "cell_type": "markdown",
   "metadata": {},
   "source": [
    "## The ``run_sim`` Method"
   ]
  },
  {
   "cell_type": "markdown",
   "metadata": {},
   "source": [
    "The ``Simulator`` class also features the ``run_sim`` method, which allows you to run an entire simulation by either specifying a dictionary whose keys are strings that specify simulation components (or acceptable aliases) compatible with the ``add`` method and whose values are the optional parameter settings for the simulation components."
   ]
  },
  {
   "cell_type": "markdown",
   "metadata": {},
   "source": [
    "### An Example"
   ]
  },
  {
   "cell_type": "markdown",
   "metadata": {},
   "source": [
    "Let's keep the example short and sweet: diffuse foregrounds with bandpass gains."
   ]
  },
  {
   "cell_type": "code",
   "execution_count": 41,
   "metadata": {},
   "outputs": [],
   "source": [
    "# first, refresh the simulation to reset the history and _components\n",
    "sim.refresh()\n",
    "\n",
    "# now make a dictionary of simulation parameters\n",
    "sim_params = {\n",
    "    \"diffuse_foreground\" : {\n",
    "        \"Tsky_mdl\" : Tsky_mdl, \"omega_p\" : omega_p, \"seed_mode\" : \"redundantly\"\n",
    "    },\n",
    "    \"gains\" : {\"seed_mode\" : \"once\"}\n",
    "}\n",
    "\n",
    "sim.run_sim(**sim_params)"
   ]
  },
  {
   "cell_type": "code",
   "execution_count": 42,
   "metadata": {},
   "outputs": [
    {
     "name": "stdout",
     "output_type": "stream",
     "text": [
      "hera_sim v1.0.0: Added DiffuseForeground using kwargs:\n",
      "Tsky_mdl = <hera_sim.interpolators.Tsky object at 0x7fb870d28b50>\n",
      "omega_p = <hera_sim.interpolators.Beam object at 0x7fb86dbd3390>\n",
      "seed_mode = redundantly\n",
      "hera_sim v1.0.0: Added Bandpass using kwargs:\n",
      "seed_mode = once\n",
      "\n"
     ]
    }
   ],
   "source": [
    "# and let's inspect the history\n",
    "print(sim.data.history)"
   ]
  },
  {
   "cell_type": "markdown",
   "metadata": {},
   "source": [
    "We can also use a YAML file to control the simulation. Note the use of the YAML tags ``!Tsky`` and ``!Beam``; these are defined in the ``__yaml_constructors`` module, and they use the ``Tsky`` and ``Beam`` classes, respectively, from the ``interpolators`` module to construct an interpolation object from the provided ``datafile`` (and optional ``interp_kwargs`` dictionary). Note that currently these classes assume that relative paths are intended to be relative to the ``hera_sim.data`` directory, but this behavior may change in the future."
   ]
  },
  {
   "cell_type": "code",
   "execution_count": 43,
   "metadata": {},
   "outputs": [],
   "source": [
    "# let's first make a configuration file\n",
    "import tempfile\n",
    "tempdir = tempfile.mkdtemp()\n",
    "config = os.path.join(tempdir, \"example.yaml\")\n",
    "with open(config, 'w') as cfg:\n",
    "    cfg.write(\n",
    "\"\"\"\n",
    "diffuse_foreground:\n",
    "    Tsky_mdl: !Tsky\n",
    "        datafile: HERA_Tsky_Reformatted.npz\n",
    "    omega_p: !Beam\n",
    "        datafile: HERA_H1C_BEAM_POLY.npy\n",
    "    seed_mode: redundantly\n",
    "gains:\n",
    "    seed_mode: once\n",
    "\"\"\"\n",
    ")\n",
    "    \n",
    "# now refresh the simulation and run the new simulation\n",
    "sim.refresh()\n",
    "sim.run_sim(config)"
   ]
  },
  {
   "cell_type": "code",
   "execution_count": 44,
   "metadata": {},
   "outputs": [
    {
     "name": "stdout",
     "output_type": "stream",
     "text": [
      "hera_sim v1.0.0: Added DiffuseForeground using kwargs:\n",
      "Tsky_mdl = <hera_sim.interpolators.Tsky object at 0x7fb8704b5cd0>\n",
      "omega_p = <hera_sim.interpolators.Beam object at 0x7fb86e8598d0>\n",
      "seed_mode = redundantly\n",
      "hera_sim v1.0.0: Added Bandpass using kwargs:\n",
      "seed_mode = once\n",
      "\n"
     ]
    }
   ],
   "source": [
    "# again let's look at the history\n",
    "print(sim.data.history)"
   ]
  },
  {
   "cell_type": "code",
   "execution_count": 45,
   "metadata": {},
   "outputs": [
    {
     "data": {
      "text/plain": [
       "{'diffuse_foreground': {'Tsky_mdl': <hera_sim.interpolators.Tsky at 0x7fb8704b5cd0>,\n",
       "  'omega_p': <hera_sim.interpolators.Beam at 0x7fb86e8598d0>,\n",
       "  'seed_mode': 'redundantly'},\n",
       " 'gains': {'seed_mode': 'once'}}"
      ]
     },
     "execution_count": 45,
     "metadata": {},
     "output_type": "execute_result"
    }
   ],
   "source": [
    "# and the components\n",
    "sim._components"
   ]
  },
  {
   "cell_type": "markdown",
   "metadata": {},
   "source": [
    "Finally, you can return individual components from a simulation like so:"
   ]
  },
  {
   "cell_type": "code",
   "execution_count": 46,
   "metadata": {},
   "outputs": [],
   "source": [
    "# return some things, but not all things\n",
    "sim_params[\"diffuse_foreground\"][\"ret_vis\"] = True\n",
    "sim_params[\"pntsrc_foreground\"] = {\"seed_mode\" : \"redundantly\", \"ret_vis\" : True}\n",
    "\n",
    "# reorder so that multiplicative effects come last\n",
    "new_sim_params = {\"diffuse_foreground\" : {}, \"pntsrc_foreground\" : {}, \"gains\" : {}}\n",
    "new_sim_params.update(sim_params)\n",
    "\n",
    "# refresh the simulation and run\n",
    "sim.refresh()\n",
    "results = dict(sim.run_sim(**new_sim_params))"
   ]
  },
  {
   "cell_type": "code",
   "execution_count": 47,
   "metadata": {},
   "outputs": [
    {
     "data": {
      "text/plain": [
       "dict_keys(['diffuse_foreground', 'pntsrc_foreground'])"
      ]
     },
     "execution_count": 47,
     "metadata": {},
     "output_type": "execute_result"
    }
   ],
   "source": [
    "# tada!\n",
    "results.keys()"
   ]
  },
  {
   "cell_type": "code",
   "execution_count": 48,
   "metadata": {},
   "outputs": [
    {
     "data": {
      "text/plain": [
       "True"
      ]
     },
     "execution_count": 48,
     "metadata": {},
     "output_type": "execute_result"
    }
   ],
   "source": [
    "np.all(results['diffuse_foreground'].dtype == np.complex)"
   ]
  },
  {
   "cell_type": "code",
   "execution_count": 49,
   "metadata": {},
   "outputs": [
    {
     "data": {
      "text/plain": [
       "True"
      ]
     },
     "execution_count": 49,
     "metadata": {},
     "output_type": "execute_result"
    }
   ],
   "source": [
    "results['diffuse_foreground'].shape == sim.data.data_array.shape"
   ]
  },
  {
   "cell_type": "code",
   "execution_count": 50,
   "metadata": {},
   "outputs": [
    {
     "data": {
      "text/plain": [
       "True"
      ]
     },
     "execution_count": 50,
     "metadata": {},
     "output_type": "execute_result"
    }
   ],
   "source": [
    "np.all(\n",
    "    np.isclose(results['diffuse_foreground'], sim.get(\"diffuse_foreground\"))\n",
    ")"
   ]
  },
  {
   "cell_type": "code",
   "execution_count": 51,
   "metadata": {},
   "outputs": [],
   "source": [
    "sim.refresh()\n",
    "sim.add(\"noiselike_eor\", vis_filter=(0,1,'xx'))"
   ]
  },
  {
   "cell_type": "code",
   "execution_count": null,
   "metadata": {},
   "outputs": [],
   "source": []
  }
 ],
 "metadata": {
  "kernelspec": {
   "display_name": "Python 3",
   "language": "python",
   "name": "python3"
  },
  "language_info": {
   "codemirror_mode": {
    "name": "ipython",
    "version": 3
   },
   "file_extension": ".py",
   "mimetype": "text/x-python",
   "name": "python",
   "nbconvert_exporter": "python",
   "pygments_lexer": "ipython3",
   "version": "3.7.4"
  },
  "toc": {
   "base_numbering": 1,
   "nav_menu": {},
   "number_sections": true,
   "sideBar": true,
   "skip_h1_title": false,
   "title_cell": "Table of Contents",
   "title_sidebar": "Contents",
   "toc_cell": false,
   "toc_position": {},
   "toc_section_display": true,
   "toc_window_display": false
  }
 },
 "nbformat": 4,
 "nbformat_minor": 2
}
