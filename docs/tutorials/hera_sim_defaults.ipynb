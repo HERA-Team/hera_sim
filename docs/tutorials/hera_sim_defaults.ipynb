{
 "cells": [
  {
   "cell_type": "markdown",
   "metadata": {},
   "source": [
    "# Guide for hera_sim Defaults and Simulator"
   ]
  },
  {
   "cell_type": "markdown",
   "metadata": {},
   "source": [
    "This notebook is intended to be a guide for interfacing with the `hera_sim.defaults` module and using the `hera_sim.Simulator` class with the `run_sim` class method."
   ]
  },
  {
   "cell_type": "code",
   "execution_count": 1,
   "metadata": {},
   "outputs": [],
   "source": [
    "import os\n",
    "import numpy as np\n",
    "import matplotlib.pyplot as plt\n",
    "import yaml\n",
    "\n",
    "import uvtools\n",
    "import hera_sim\n",
    "from hera_sim import Simulator\n",
    "from hera_sim.data import DATA_PATH\n",
    "from hera_sim.config import CONFIG_PATH\n",
    "%matplotlib inline"
   ]
  },
  {
   "cell_type": "markdown",
   "metadata": {},
   "source": [
    "We'll be using the `uvtools.plot.waterfall` function a few times throughout the notebook, but with a standardized way of generating plots. So let's write a wrapper to make these plots nicer:"
   ]
  },
  {
   "cell_type": "code",
   "execution_count": 2,
   "metadata": {},
   "outputs": [],
   "source": [
    "# let's wrap it so that it'll work on Simulator objects\n",
    "def waterfall(sim, antpairpol):\n",
    "    \"\"\"\n",
    "    For reference, sim is a Simulator object, and antpairpol is a tuple with the\n",
    "    form (ant1, ant2, pol).\n",
    "    \"\"\"\n",
    "    freqs = np.unique(sim.data.freq_array) * 1e-9 # GHz\n",
    "    lsts = np.unique(sim.data.lst_array) # radians\n",
    "    vis = sim.data.get_data(antpairpol)\n",
    "    \n",
    "    # extent format is [left, right, bottom, top], vis shape is (NTIMES,NFREQS)\n",
    "    extent = [freqs.min(), freqs.max(), lsts.max(), lsts.min()]\n",
    "    \n",
    "    fig = plt.figure(figsize=(12,8))\n",
    "    axes = fig.subplots(2,1, sharex=True)\n",
    "    axes[1].set_xlabel('Frequency [GHz]', fontsize=12)\n",
    "    for ax in axes:\n",
    "        ax.set_ylabel('LST [rad]', fontsize=12)\n",
    "        \n",
    "    fig.sca(axes[0])\n",
    "    cax = uvtools.plot.waterfall(vis, mode='log', extent=extent)\n",
    "    fig.colorbar(cax, label=r'$\\log_{10}(V$/Jy)')\n",
    "    \n",
    "    fig.sca(axes[1])\n",
    "    cax = uvtools.plot.waterfall(vis, mode='phs', extent=extent)\n",
    "    fig.colorbar(cax, label='Phase [rad]')\n",
    "    \n",
    "    plt.tight_layout()\n",
    "    plt.show()"
   ]
  },
  {
   "cell_type": "code",
   "execution_count": 3,
   "metadata": {},
   "outputs": [],
   "source": [
    "# while we're preparing things, let's make a dictionary of default settings for\n",
    "# creating a Simulator object\n",
    "\n",
    "# choose a modest number of frequencies and times to simulate\n",
    "NFREQ = 128\n",
    "NTIMES = 32\n",
    "\n",
    "# choose the channel width so that the bandwidth is 100 MHz\n",
    "channel_width = 1e8 / NFREQ\n",
    "\n",
    "# use just two antennas\n",
    "ants = {0:(20.0,20.0,0), 1:(50.0,50.0,0)}\n",
    "\n",
    "# use cross- and auto-correlation baselines\n",
    "no_autos = False\n",
    "\n",
    "# actually make the dictionary of initialization parameters\n",
    "init_params = {'n_freq':NFREQ, 'n_times':NTIMES, 'antennas':ants,\n",
    "               'channel_width':channel_width, 'no_autos':no_autos}"
   ]
  },
  {
   "cell_type": "markdown",
   "metadata": {},
   "source": [
    "## Defaults Basics"
   ]
  },
  {
   "cell_type": "markdown",
   "metadata": {},
   "source": [
    "Let's first go over the basics of the `defaults` module. There are three methods that serve as the primary interface between the user and the `defaults` module: `set_defaults`, `activate_defaults`, and `deactivate_defaults`. These do what you'd expect them to do, but the `set_defaults` method requires a bit of extra work to interface with if you want to set custom default parameter values. We'll cover this later; for now, we'll see how you can switch between defaults characteristic to different observing seasons. Currently, we support default settings for the H1C observing season and the H2C observing season, and these may be accessed using the strings `'h1c'` and `'h2c'`, respectively."
   ]
  },
  {
   "cell_type": "code",
   "execution_count": 4,
   "metadata": {},
   "outputs": [
    {
     "data": {
      "text/plain": [
       "False"
      ]
     },
     "execution_count": 4,
     "metadata": {},
     "output_type": "execute_result"
    }
   ],
   "source": [
    "# first, let's note that the defaults object is initialized to be inactive\n",
    "hera_sim.defaults._use_season_defaults"
   ]
  },
  {
   "cell_type": "code",
   "execution_count": 5,
   "metadata": {},
   "outputs": [
    {
     "data": {
      "text/plain": [
       "True"
      ]
     },
     "execution_count": 5,
     "metadata": {},
     "output_type": "execute_result"
    }
   ],
   "source": [
    "# so let's activate the season defaults\n",
    "hera_sim.defaults.activate_defaults()\n",
    "hera_sim.defaults._use_season_defaults"
   ]
  },
  {
   "cell_type": "code",
   "execution_count": 6,
   "metadata": {},
   "outputs": [
    {
     "name": "stdout",
     "output_type": "stream",
     "text": [
      "H1C Defaults:\n",
      " \n",
      "Beam Polynomial: \n",
      "[ 8.07774113e+08 -1.02194430e+09  5.59397878e+08 -1.72970713e+08\n",
      "  3.30317669e+07 -3.98798031e+06  2.97189690e+05 -1.24980700e+04\n",
      "  2.27220000e+02]\n",
      "Bandpass Polynomial: \n",
      "[-2.04689451e+06  1.90683718e+06 -7.41348361e+05  1.53930807e+05\n",
      " -1.79976473e+04  1.12270390e+03 -2.91166102e+01]\n",
      "\n",
      "H2C Defaults:\n",
      " \n",
      "Beam Polynomial: \n",
      "[ 1.36744227e+13 -2.55445530e+13  2.14955504e+13 -1.07620674e+13\n",
      "  3.56602626e+12 -8.22732117e+11  1.35321508e+11 -1.59624378e+10\n",
      "  1.33794725e+09 -7.75754276e+07  2.94812713e+06 -6.58329699e+04\n",
      "  6.52944619e+02]\n",
      "Bandpass Polynomial: \n",
      "[ 1.56076423e+17 -3.03924841e+17  2.72553042e+17 -1.49206626e+17\n",
      "  5.56874144e+16 -1.49763003e+16  2.98853436e+15 -4.48609479e+14\n",
      "  5.07747935e+13 -4.29965657e+12  2.67346077e+11 -1.18007726e+10\n",
      "  3.48589690e+08 -6.15315646e+06  4.88747021e+04]\n",
      "\n"
     ]
    }
   ],
   "source": [
    "# now that the defaults are activated, let's see what some differences are\n",
    "\n",
    "# note that the defaults object is initialized with H1C defaults, but let's\n",
    "# make sure that it's set to H1C defaults in case this cell is rerun later\n",
    "hera_sim.defaults.set_defaults('h1c')\n",
    "\n",
    "h1c_beam = hera_sim.noise._get_hera_bm_poly()\n",
    "h1c_bandpass = hera_sim.sigchain._get_hera_bandpass()\n",
    "\n",
    "# now change the defaults to the H2C observing season\n",
    "hera_sim.defaults.set_defaults('h2c')\n",
    "\n",
    "h2c_beam = hera_sim.noise._get_hera_bm_poly()\n",
    "h2c_bandpass = hera_sim.sigchain._get_hera_bandpass()\n",
    "\n",
    "# now compare them\n",
    "print(\"H1C Defaults:\\n \\nBeam Polynomial: \\n{}\\nBandpass Polynomial: \\n{}\\n\".format(h1c_beam, h1c_bandpass))\n",
    "print(\"H2C Defaults:\\n \\nBeam Polynomial: \\n{}\\nBandpass Polynomial: \\n{}\\n\".format(h2c_beam, h2c_bandpass))"
   ]
  },
  {
   "cell_type": "code",
   "execution_count": 7,
   "metadata": {},
   "outputs": [
    {
     "name": "stdout",
     "output_type": "stream",
     "text": [
      "H1C noise identical to H2C noise? False\n",
      "H2C noise identical to its other version? True\n",
      "Either noise identical to other noise? False\n"
     ]
    }
   ],
   "source": [
    "# another thing\n",
    "fqs = np.linspace(0.1,0.2,1024)\n",
    "lsts = np.linspace(0,2*np.pi,100)\n",
    "\n",
    "noise = hera_sim.noise.thermal_noise\n",
    "\n",
    "hera_sim.defaults.set_defaults('h1c')\n",
    "np.random.seed(0)\n",
    "h1c_noise = noise(fqs,lsts)\n",
    "\n",
    "hera_sim.defaults.set_defaults('h2c')\n",
    "np.random.seed(0)\n",
    "h2c_noise = noise(fqs,lsts)\n",
    "np.random.seed(0)\n",
    "still_h2c_noise = noise(fqs,lsts)\n",
    "\n",
    "# passing in a kwarg\n",
    "np.random.seed(0)\n",
    "other_noise = noise(fqs,lsts,omega_p=np.ones(fqs.size))\n",
    "\n",
    "# check things\n",
    "print(\"H1C noise identical to H2C noise? {}\".format(np.all(h1c_noise==h2c_noise)))\n",
    "print(\"H2C noise identical to its other version? {}\".format(np.all(h2c_noise==still_h2c_noise)))\n",
    "print(\"Either noise identical to other noise? {}\".format(np.all(h1c_noise==other_noise)\n",
    "                                                         or np.all(h2c_noise==other_noise)))"
   ]
  },
  {
   "cell_type": "code",
   "execution_count": 8,
   "metadata": {
    "scrolled": false
   },
   "outputs": [
    {
     "name": "stdout",
     "output_type": "stream",
     "text": [
      "foregrounds:\n",
      "    diffuse_foreground:\n",
      "        Tsky_mdl: \n",
      "            datafile: HERA_Tsky_Reformatted.npz\n",
      "            interp_kwargs: {}\n",
      "        omega_p:\n",
      "            datafile: HERA_H2C_BEAM_MODEL.npz\n",
      "            interp_kwargs:\n",
      "                object: beam\n",
      "                interpolator: interp1d\n",
      "io:\n",
      "    empty_uvdata:\n",
      "        start_freq: 46920776.3671875\n",
      "        channel_width: 122070.3125\n",
      "        integration_time: 8.59\n",
      "noise:\n",
      "    _get_hera_bm_poly:\n",
      "        datafile: HERA_H2C_BEAM_POLY.npy\n",
      "    resample_Tsky:\n",
      "        Tsky:  180.0\n",
      "        mfreq:  0.18\n",
      "        index:  -2.5\n",
      "    sky_noise_jy:\n",
      "        inttime:  8.59\n",
      "    thermal_noise:\n",
      "        Tsky_mdl:\n",
      "            datafile: HERA_Tsky_Reformatted.npz\n",
      "            interp_kwargs: {}\n",
      "        omega_p:\n",
      "            datafile: HERA_H2C_BEAM_MODEL.npz\n",
      "            interp_kwargs:\n",
      "                object: beam\n",
      "                interpolator: interp1d\n",
      "        Trx:  0\n",
      "        inttime:  8.59\n",
      "rfi:\n",
      "    _get_hera_stations:\n",
      "        datafile: HERA_H2C_RFI_STATIONS.npy\n",
      "    rfi_impulse:\n",
      "        chance:  0.001\n",
      "        strength:  20.0\n",
      "    rfi_scatter:\n",
      "        chance:  0.0001\n",
      "        strength:  10.0\n",
      "        std:  10.0\n",
      "    rfi_dtv:\n",
      "        freq_min:  0.174\n",
      "        freq_max:  0.214\n",
      "        width:  0.008\n",
      "        chance:  0.0001\n",
      "        strength:  10.0\n",
      "        strength_std:  10.0\n",
      "sigchain:\n",
      "    _get_hera_bandpass:\n",
      "        datafile: HERA_H2C_BANDPASS.npy\n",
      "    gen_bandpass:\n",
      "        gain_spread:  0.1\n",
      "    gen_whitenoise_xtalk:\n",
      "        amplitude:  3.0\n",
      "    gen_cross_coupling_xtalk:\n",
      "        amp:  0.0\n",
      "        dly:  0.0\n",
      "        phs:  0.0\n",
      "\n",
      "# XXX which of the above are functions that shouldn't be decorated by _defaults?\n",
      "\n"
     ]
    }
   ],
   "source": [
    "# what does a configuration file look like? let's take a gander\n",
    "with open(hera_sim.defaults._config, 'r') as config:\n",
    "    print(config.read())"
   ]
  },
  {
   "cell_type": "code",
   "execution_count": null,
   "metadata": {},
   "outputs": [],
   "source": []
  }
 ],
 "metadata": {
  "kernelspec": {
   "display_name": "Python 3",
   "language": "python",
   "name": "python3"
  },
  "language_info": {
   "codemirror_mode": {
    "name": "ipython",
    "version": 3
   },
   "file_extension": ".py",
   "mimetype": "text/x-python",
   "name": "python",
   "nbconvert_exporter": "python",
   "pygments_lexer": "ipython3",
   "version": "3.7.3"
  },
  "toc": {
   "base_numbering": 1,
   "nav_menu": {},
   "number_sections": true,
   "sideBar": true,
   "skip_h1_title": false,
   "title_cell": "Table of Contents",
   "title_sidebar": "Contents",
   "toc_cell": false,
   "toc_position": {},
   "toc_section_display": true,
   "toc_window_display": false
  }
 },
 "nbformat": 4,
 "nbformat_minor": 2
}
