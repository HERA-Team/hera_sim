{
 "cells": [
  {
   "cell_type": "markdown",
   "metadata": {},
   "source": [
    "# Guide for hera_sim Defaults and Simulator"
   ]
  },
  {
   "cell_type": "markdown",
   "metadata": {},
   "source": [
    "This notebook is intended to be a guide for interfacing with the `hera_sim.defaults` module and using the `hera_sim.Simulator` class with the `run_sim` class method."
   ]
  },
  {
   "cell_type": "code",
   "execution_count": 1,
   "metadata": {},
   "outputs": [],
   "source": [
    "import os\n",
    "import numpy as np\n",
    "import matplotlib.pyplot as plt\n",
    "import yaml\n",
    "\n",
    "import uvtools\n",
    "import hera_sim\n",
    "from hera_sim.data import DATA_PATH\n",
    "from hera_sim.config import CONFIG_PATH\n",
    "%matplotlib inline"
   ]
  },
  {
   "cell_type": "markdown",
   "metadata": {},
   "source": [
    "We'll be using the `uvtools.plot.waterfall` function a few times throughout the notebook, but with a standardized way of generating plots. So let's decorate it:"
   ]
  },
  {
   "cell_type": "code",
   "execution_count": 2,
   "metadata": {},
   "outputs": [],
   "source": [
    "# let's decorate it so that it'll work on Simulator objects\n",
    "def waterfall(sim, antpairpol):\n",
    "    freqs = np.unique(sim.data.freq_array) * 1e-9 # GHz\n",
    "    lsts = np.unique(sim.data.lst_array) # radians\n",
    "    vis = sim.data.get_data(antpairpol)\n",
    "    \n",
    "    # extent format is [left, right, bottom, top], vis shape is (NTIMES,NFREQS)\n",
    "    extent = [freqs.min(), freqs.max(), lsts.max(), lsts.min()]\n",
    "    \n",
    "    fig = plt.figure(figsize=(12,8))\n",
    "    axes = fig.subplots(2,1, sharex=True)\n",
    "    axes[1].set_xlabel('Frequency [GHz]', fontsize=12)\n",
    "    for ax in axes:\n",
    "        ax.set_ylabel('LST [rad]', fontsize=12)\n",
    "        \n",
    "    fig.sca(axes[0])\n",
    "    cax = uvtools.plot.waterfall(vis, mode='log', extent=extent)\n",
    "    fig.colorbar(cax, label=r'$\\log_{10}(V$/Jy)')\n",
    "    \n",
    "    fig.sca(axes[1])\n",
    "    cax = uvtools.plot.waterfall(vis, mode='phs', extent=extent)\n",
    "    fig.colorbar(cax, label='Phase [rad]')\n",
    "    \n",
    "    plt.tight_layout()\n",
    "    plt.show()"
   ]
  },
  {
   "cell_type": "code",
   "execution_count": 3,
   "metadata": {},
   "outputs": [
    {
     "ename": "AttributeError",
     "evalue": "'tuple' object has no attribute 'phase_type'",
     "output_type": "error",
     "traceback": [
      "\u001b[0;31m---------------------------------------------------------------------------\u001b[0m",
      "\u001b[0;31mAttributeError\u001b[0m                            Traceback (most recent call last)",
      "\u001b[0;32m<ipython-input-3-9f36bb5c5d2f>\u001b[0m in \u001b[0;36m<module>\u001b[0;34m\u001b[0m\n\u001b[1;32m      7\u001b[0m \u001b[0;34m\u001b[0m\u001b[0m\n\u001b[1;32m      8\u001b[0m \u001b[0;31m# instantiate a Simulator object; don't exclude auto-correlation baselines\u001b[0m\u001b[0;34m\u001b[0m\u001b[0;34m\u001b[0m\u001b[0;34m\u001b[0m\u001b[0m\n\u001b[0;32m----> 9\u001b[0;31m \u001b[0msim\u001b[0m \u001b[0;34m=\u001b[0m \u001b[0mhera_sim\u001b[0m\u001b[0;34m.\u001b[0m\u001b[0mSimulator\u001b[0m\u001b[0;34m(\u001b[0m\u001b[0mn_freq\u001b[0m\u001b[0;34m=\u001b[0m\u001b[0mNFREQ\u001b[0m\u001b[0;34m,\u001b[0m \u001b[0mn_times\u001b[0m\u001b[0;34m=\u001b[0m\u001b[0mNTIMES\u001b[0m\u001b[0;34m,\u001b[0m \u001b[0mantennas\u001b[0m\u001b[0;34m=\u001b[0m\u001b[0mants\u001b[0m\u001b[0;34m)\u001b[0m\u001b[0;34m\u001b[0m\u001b[0;34m\u001b[0m\u001b[0m\n\u001b[0m\u001b[1;32m     10\u001b[0m \u001b[0;34m\u001b[0m\u001b[0m\n\u001b[1;32m     11\u001b[0m \u001b[0msim\u001b[0m\u001b[0;34m.\u001b[0m\u001b[0madd_eor\u001b[0m\u001b[0;34m(\u001b[0m\u001b[0;34m'noiselike_eor'\u001b[0m\u001b[0;34m,\u001b[0m \u001b[0mamp\u001b[0m\u001b[0;34m=\u001b[0m\u001b[0;36m1e-3\u001b[0m\u001b[0;34m)\u001b[0m\u001b[0;34m\u001b[0m\u001b[0;34m\u001b[0m\u001b[0m\n",
      "\u001b[0;32m~/HERA/dev/h2c_sim_v2/hera_sim/hera_sim/simulate.py\u001b[0m in \u001b[0;36m__init__\u001b[0;34m(self, data_filename, data, refresh_data, n_freq, n_times, antennas, **kwargs)\u001b[0m\n\u001b[1;32m    239\u001b[0m \u001b[0;34m\u001b[0m\u001b[0m\n\u001b[1;32m    240\u001b[0m         \u001b[0;31m# Assume the phase type is drift unless otherwise specified.\u001b[0m\u001b[0;34m\u001b[0m\u001b[0;34m\u001b[0m\u001b[0;34m\u001b[0m\u001b[0m\n\u001b[0;32m--> 241\u001b[0;31m         \u001b[0;32mif\u001b[0m \u001b[0mself\u001b[0m\u001b[0;34m.\u001b[0m\u001b[0mdata\u001b[0m\u001b[0;34m.\u001b[0m\u001b[0mphase_type\u001b[0m \u001b[0;34m==\u001b[0m \u001b[0;34m\"unknown\"\u001b[0m\u001b[0;34m:\u001b[0m\u001b[0;34m\u001b[0m\u001b[0;34m\u001b[0m\u001b[0m\n\u001b[0m\u001b[1;32m    242\u001b[0m             \u001b[0mself\u001b[0m\u001b[0;34m.\u001b[0m\u001b[0mdata\u001b[0m\u001b[0;34m.\u001b[0m\u001b[0mset_drift\u001b[0m\u001b[0;34m(\u001b[0m\u001b[0;34m)\u001b[0m\u001b[0;34m\u001b[0m\u001b[0;34m\u001b[0m\u001b[0m\n\u001b[1;32m    243\u001b[0m \u001b[0;34m\u001b[0m\u001b[0m\n",
      "\u001b[0;31mAttributeError\u001b[0m: 'tuple' object has no attribute 'phase_type'"
     ]
    }
   ],
   "source": [
    "# choose a modest number of frequencies and times to simulate\n",
    "NFREQ = 128\n",
    "NTIMES = 32\n",
    "\n",
    "# just use two antennas\n",
    "ants = {0:(20.0,20.0,0), 1:(50.0,50.0,0)}\n",
    "\n",
    "# instantiate a Simulator object; don't exclude auto-correlation baselines\n",
    "sim = hera_sim.Simulator(n_freq=NFREQ, n_times=NTIMES, antennas=ants)\n",
    "\n",
    "sim.add_eor('noiselike_eor', amp=1e-3)\n",
    "\n",
    "waterfall(sim, (0,1,'xx'))"
   ]
  },
  {
   "cell_type": "code",
   "execution_count": null,
   "metadata": {},
   "outputs": [],
   "source": []
  }
 ],
 "metadata": {
  "kernelspec": {
   "display_name": "Python 3",
   "language": "python",
   "name": "python3"
  },
  "language_info": {
   "codemirror_mode": {
    "name": "ipython",
    "version": 3
   },
   "file_extension": ".py",
   "mimetype": "text/x-python",
   "name": "python",
   "nbconvert_exporter": "python",
   "pygments_lexer": "ipython3",
   "version": "3.7.3"
  },
  "toc": {
   "base_numbering": 1,
   "nav_menu": {},
   "number_sections": true,
   "sideBar": true,
   "skip_h1_title": false,
   "title_cell": "Table of Contents",
   "title_sidebar": "Contents",
   "toc_cell": false,
   "toc_position": {},
   "toc_section_display": true,
   "toc_window_display": false
  }
 },
 "nbformat": 4,
 "nbformat_minor": 2
}
